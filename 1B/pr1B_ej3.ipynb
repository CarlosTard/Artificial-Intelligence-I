{
 "cells": [
  {
   "cell_type": "markdown",
   "metadata": {},
   "source": [
    "### Carlos Morán y Carlos Tardón grupo 9"
   ]
  },
  {
   "cell_type": "markdown",
   "metadata": {},
   "source": [
    "# Práctica 1.B Problema 3"
   ]
  },
  {
   "cell_type": "markdown",
   "metadata": {},
   "source": [
    "Un problema que queremos resolver es obtener un número objetivo dado a partir de la combinación de números primos mediante sumas, multiplicaciones y divisiones, a excepción de un primo prohibido (dado) que no se podrá utilizar. De las posibles soluciones existentes para dos números dados (objetivo y prohibido) serán mejores aquellas soluciones que utilicen el menor número de factores primos posibles. Los números primos a utilizar podrán ser aquellos de una o dos cifras, incluido el uno."
   ]
  },
  {
   "cell_type": "markdown",
   "metadata": {},
   "source": [
    "### Interpretación del enunciado\n",
    "\n",
    "Al igual que en el problema 2, hemos considerado que todas las operaciones sean asociativas por la izquierda, de tal manera que 2 + 3 * 5 = (2+3)*5 = 25. Esto permite que el estado sea simplemente el acumulado de las operaciones que ya llevamos, y para realizar una nueva operacion, la realizamos sobre el acumulado.  "
   ]
  },
  {
   "cell_type": "markdown",
   "metadata": {},
   "source": [
    "### Representación de Estados\n",
    "\n",
    "Una entero que indique el número por el que vamos. Por tanto, el estado inicial es 0 y el objetivo coincide con el numero al que queremos llegar.\n"
   ]
  },
  {
   "cell_type": "markdown",
   "metadata": {},
   "source": [
    "### Representación de Acciones\n",
    "Las acciones se pueden representar como una pareja (op,num) con num siendo el nuevo número primo que estamos añadiendo y op la nueva operación que estamos haciendo (suma, resta, multiplicación, división)."
   ]
  },
  {
   "cell_type": "markdown",
   "metadata": {},
   "source": [
    "### Coste\n",
    "Minimizaremos la longitud de la solución, es decir, el número de primos y operaciones usados"
   ]
  },
  {
   "cell_type": "markdown",
   "metadata": {},
   "source": [
    "### Heurística\n",
    "Podríamos pensar que si minimizamos el valor absoluto de la diferencia con el estado objetivo, entonces llegaremos antes al resultado requerido. Por tanto, podemos usar abs(self.goal - node.state) como heurística. Esta heurística no va a ser admisible, pues no intenta hallar un coste aproximado, tan solo proporciona un valor que guíe al algoritmo de búsqueda para que se acerque a la solución. Además, puede hacer que el número de nodos analizados sea mayor que si no hubieramos usado esta heuristica. Pese a estas complicaciones, hemos elegido implementar esta heurística pues, en el caso de que el número final esté muy alejado del inicial (normalmente el 0), esta heurística nos acercará más rápidamente al objetivo.\n",
    "\n",
    "Otra posible heurística sería relajar las condiciones y permitir el uso de todos los factores primos. De esta manera, en cada nodo se descompone en factores primos la diferencia en valor absoluto de lo que llevamos menos el estado final, y nuestra heurística es el número de factores primos(contados con su multiplicidad). Esta heurística es contraproducente, pues en cada nodo tiene que resolver un problema(la descomposición en primos) que en el caso general es intratable. Dejamos constancia de esta idea, pero no la abordaremos."
   ]
  },
  {
   "cell_type": "code",
   "execution_count": 5,
   "metadata": {},
   "outputs": [],
   "source": [
    "import math\n",
    "from search import *\n",
    "import itertools\n",
    "\n",
    "def opera(op1,sig,op2):\n",
    "\n",
    "    if sig == '+':\n",
    "        return op1 + op2\n",
    "    elif sig == '-':\n",
    "        return op1 - op2\n",
    "    elif sig == '*':\n",
    "        return op1 * op2\n",
    "    else:\n",
    "        return op1 / op2\n",
    "\n",
    "def sieve(n):\n",
    "    nums = list(range(1,n+1))\n",
    "    interval = range(2,math.trunc(math.sqrt(n))+1)\n",
    "\n",
    "    for i in interval:\n",
    "        m = 2*i\n",
    "        while m <= n:\n",
    "            if nums.count(m) > 0:\n",
    "                nums.remove(m)\n",
    "            m += i\n",
    "    return nums"
   ]
  },
  {
   "cell_type": "code",
   "execution_count": 6,
   "metadata": {},
   "outputs": [],
   "source": [
    "class Prohibido(Problem):\n",
    "\n",
    "    def __init__(self, goal, ban, initial = 0):\n",
    "        self.analizados  = 0\n",
    "        self.primes = sieve(100)\n",
    "        self.prim = self.primes[1:]\n",
    "        if self.primes.count(ban) > 0:\n",
    "            self.primes.remove(ban)\n",
    "        Problem.__init__(self,initial, goal)\n",
    "\n",
    "    def actions(self,estado):\n",
    "        ## El conjunto de hijos es, en principio, el conjunto producto del conjunto de símbolos (+,-,*,/) con los primos del 1 al 100 \n",
    "        accs = list(itertools.product(*[('+','-','*','/'),tuple(self.primes)]))\n",
    "\n",
    "        return accs\n",
    "\n",
    "    def result(self,estado,accion):\n",
    "        return opera(estado, accion[0], accion[1])\n",
    "        \n",
    "    def goal_test(self,estado):\n",
    "        self.analizados += 1\n",
    "        return self.goal == estado\n",
    "    \n",
    "    ## heuristica por defecto. Tiene que estar definida para poder usar busqueda bidireccional\n",
    "    def h(self,node):\n",
    "        return 0\n",
    "  \n",
    "    ## Heuristica que hemos elegido\n",
    "    def heuristica(self, node):\n",
    "        return abs(self.goal - node.state)\n",
    "    \n",
    "    ## Heuristica fallida. Intenta aproximar el coste descomponiendo en factores primos \n",
    "    def h2(self, node):\n",
    "        num = abs(self.goal - node.state)\n",
    "        num_fact = 0\n",
    "        while(num > 1):\n",
    "            for p in self.prim:\n",
    "                if p > num:\n",
    "                    break\n",
    "                if num % p == 0:\n",
    "                    num = num/p\n",
    "                    num_fact += 1\n",
    "        return num_fact"
   ]
  },
  {
   "cell_type": "code",
   "execution_count": 7,
   "metadata": {},
   "outputs": [],
   "source": [
    "def resuelve_prohibido(problem, algoritmo, h=None , print_sol=True):\n",
    "    if h: \n",
    "        res = algoritmo(problem,h)\n",
    "    else:\n",
    "        res = algoritmo(problem)\n",
    "    if res is None:\n",
    "        print(\"Instancia sin solución\")\n",
    "    else:\n",
    "        sol = res.solution()\n",
    "        if print_sol: #Para calcular tiempos, no printeamos la solución\n",
    "            print(\"Solución: {0}\".format(sol))\n",
    "            print(\"Nodos analizados: {0}\".format(problem.analizados))\n",
    "            if h:\n",
    "                print(\"Heurística: {0}\".format(h.__name__))\n",
    "            print(\"Algoritmo: {0}\".format(algoritmo.__name__))"
   ]
  },
  {
   "cell_type": "code",
   "execution_count": 7,
   "metadata": {},
   "outputs": [
    {
     "name": "stdout",
     "output_type": "stream",
     "text": [
      "3\n"
     ]
    }
   ],
   "source": [
    "# Se puede hacer busqueda bidireccional, que devuelve la longitud del camino más corto (que en este caso es 3)\n",
    "I1 = Prohibido(123,3)\n",
    "print(bidirectional_search(I1))"
   ]
  },
  {
   "cell_type": "code",
   "execution_count": 12,
   "metadata": {},
   "outputs": [
    {
     "name": "stdout",
     "output_type": "stream",
     "text": [
      "Solución: [('+', 1), ('+', 3), ('+', 97)]\n",
      "Nodos analizados: 10226\n",
      "Algoritmo: breadth_first_tree_search\n"
     ]
    }
   ],
   "source": [
    "I1 = Prohibido(101,2)\n",
    "resuelve_prohibido(I1,breadth_first_tree_search, print_sol=True)"
   ]
  },
  {
   "cell_type": "markdown",
   "metadata": {},
   "source": [
    "Como el estado inicial es 0, siempre se aplica una operación inicial. Como la búsqueda es en anchura, esta primera operación no es '/' ni '*', (pues se llegaría al 0 de nuevo, y por tanto se ejecutarían acciones de mas), así que solo puede ser suma '+', que representa que el primer primo es positivo, o resta '-', que representa que es negativo"
   ]
  },
  {
   "cell_type": "code",
   "execution_count": 11,
   "metadata": {
    "scrolled": false
   },
   "outputs": [
    {
     "name": "stdout",
     "output_type": "stream",
     "text": [
      "1.83 s ± 327 ms per loop (mean ± std. dev. of 7 runs, 1 loop each)\n"
     ]
    }
   ],
   "source": [
    "%%timeit\n",
    "I1 = Prohibido(101,2)\n",
    "resuelve_prohibido(I1,breadth_first_tree_search, print_sol=False)"
   ]
  },
  {
   "cell_type": "code",
   "execution_count": 15,
   "metadata": {},
   "outputs": [
    {
     "name": "stdout",
     "output_type": "stream",
     "text": [
      "Solución: [('+', 97), ('+', 3), ('+', 1)]\n",
      "Nodos analizados: 4\n",
      "Heurística: heuristica\n",
      "Algoritmo: best_first_graph_search\n"
     ]
    }
   ],
   "source": [
    "I1 = Prohibido(101,2)\n",
    "resuelve_prohibido(I1,best_first_graph_search,I1.heuristica, print_sol=True)"
   ]
  },
  {
   "cell_type": "code",
   "execution_count": 16,
   "metadata": {},
   "outputs": [
    {
     "name": "stdout",
     "output_type": "stream",
     "text": [
      "13.9 ms ± 3.51 ms per loop (mean ± std. dev. of 7 runs, 100 loops each)\n"
     ]
    }
   ],
   "source": [
    "%%timeit\n",
    "I1 = Prohibido(101,2)\n",
    "resuelve_prohibido(I1,best_first_graph_search,I1.heuristica, print_sol=False)"
   ]
  },
  {
   "cell_type": "markdown",
   "metadata": {},
   "source": [
    "### Como se ve, la heuristica reduce rapidamente la distancia con el objetivo, y por tanto podemos usar busqueda voraz para llegar a una solución, incluso si el numero objetivo es muy alto:"
   ]
  },
  {
   "cell_type": "code",
   "execution_count": 15,
   "metadata": {},
   "outputs": [
    {
     "name": "stdout",
     "output_type": "stream",
     "text": [
      "Solución: [('+', 3), ('+', 97), ('*', 5)]\n",
      "Nodos analizados: 9351\n",
      "Algoritmo: breadth_first_graph_search\n"
     ]
    }
   ],
   "source": [
    "# Caso alto sin heuristica\n",
    "I1 = Prohibido(500,11)\n",
    "resuelve_prohibido(I1,breadth_first_graph_search, print_sol=True)"
   ]
  },
  {
   "cell_type": "code",
   "execution_count": 16,
   "metadata": {},
   "outputs": [
    {
     "name": "stdout",
     "output_type": "stream",
     "text": [
      "Solución: [('+', 97), ('*', 5), ('+', 13), ('+', 1), ('+', 1)]\n",
      "Nodos analizados: 6\n",
      "Heurística: heuristica\n",
      "Algoritmo: best_first_graph_search\n"
     ]
    }
   ],
   "source": [
    "# Caso alto con heuristica\n",
    "I1 = Prohibido(500,2)\n",
    "resuelve_prohibido(I1,best_first_graph_search,I1.heuristica, print_sol=True)"
   ]
  },
  {
   "cell_type": "code",
   "execution_count": 21,
   "metadata": {},
   "outputs": [
    {
     "name": "stdout",
     "output_type": "stream",
     "text": [
      "Solución: [('+', 97), ('*', 97), ('*', 11), ('-', 97), ('-', 97), ('-', 97), ('-', 97), ('-', 97), ('-', 97), ('-', 97), ('-', 97), ('-', 97), ('-', 97), ('-', 97), ('-', 97), ('-', 97), ('-', 97), ('-', 97), ('-', 97), ('-', 97), ('-', 97), ('-', 97), ('-', 97), ('-', 97), ('-', 97), ('-', 97), ('-', 97), ('-', 97), ('-', 97), ('-', 97), ('-', 97), ('-', 97), ('-', 97), ('-', 97), ('-', 97), ('-', 97), ('-', 97), ('-', 97), ('-', 97), ('-', 97), ('-', 97), ('-', 97), ('-', 97), ('-', 97), ('-', 97), ('-', 97), ('-', 97), ('-', 97), ('-', 97), ('-', 97), ('-', 97), ('-', 97), ('-', 97), ('-', 97), ('-', 97), ('-', 97), ('-', 97), ('-', 97), ('-', 97), ('-', 97), ('-', 97), ('-', 97), ('-', 97), ('-', 97), ('-', 97), ('-', 97), ('-', 97), ('-', 97), ('-', 97), ('-', 97), ('-', 97), ('-', 97), ('-', 97), ('-', 97), ('-', 97), ('-', 97), ('-', 97), ('-', 97), ('-', 97), ('-', 97), ('-', 97), ('-', 97), ('-', 97), ('-', 97), ('-', 97), ('-', 97), ('-', 97), ('-', 97), ('-', 97), ('-', 97), ('-', 97), ('-', 97), ('-', 97), ('-', 97), ('-', 97), ('-', 97), ('-', 97), ('-', 97), ('-', 97), ('-', 97), ('-', 97), ('-', 97), ('-', 97), ('-', 97), ('-', 97), ('-', 97), ('-', 97), ('-', 97), ('-', 97), ('-', 97), ('-', 97), ('-', 97), ('-', 97), ('-', 97), ('-', 97), ('-', 97), ('-', 97), ('-', 97), ('-', 97), ('-', 97), ('-', 97), ('-', 97), ('-', 97), ('-', 97), ('-', 97), ('-', 97), ('-', 97), ('-', 97), ('-', 97), ('-', 97), ('-', 97), ('-', 97), ('-', 97), ('-', 97), ('-', 97), ('-', 97), ('-', 97), ('-', 97), ('-', 97), ('-', 97), ('-', 97), ('-', 97), ('-', 17), ('+', 1), ('+', 1)]\n",
      "Nodos analizados: 146\n",
      "Heurística: heuristica\n",
      "Algoritmo: best_first_graph_search\n"
     ]
    }
   ],
   "source": [
    "# Caso más alto con heuristica(aqui anchura es inviable)\n",
    "I1 = Prohibido(90001,2)\n",
    "resuelve_prohibido(I1,best_first_graph_search,I1.heuristica, print_sol=True)"
   ]
  },
  {
   "cell_type": "code",
   "execution_count": 12,
   "metadata": {},
   "outputs": [
    {
     "name": "stdout",
     "output_type": "stream",
     "text": [
      "Solución: [('+', 97), ('*', 97), ('*', 43), ('-', 97), ('-', 97), ('-', 97), ('-', 97), ('-', 97), ('-', 97), ('-', 97), ('-', 97), ('-', 97), ('-', 97), ('-', 97), ('-', 97), ('-', 97), ('-', 97), ('-', 97), ('-', 97), ('-', 97), ('-', 97), ('-', 97), ('-', 97), ('-', 97), ('-', 97), ('-', 97), ('-', 97), ('-', 97), ('-', 97), ('-', 97), ('-', 97), ('-', 97), ('-', 97), ('-', 97), ('-', 97), ('-', 97), ('-', 97), ('-', 97), ('-', 97), ('-', 97), ('-', 97), ('-', 97), ('-', 97), ('-', 97), ('-', 97), ('-', 97), ('-', 97), ('-', 97), ('-', 97), ('-', 97), ('-', 29), ('+', 1), ('+', 1)]\n",
      "Nodos analizados: 54\n",
      "Heurística: heuristica\n",
      "Algoritmo: best_first_graph_search\n"
     ]
    }
   ],
   "source": [
    "# Caso aun mas alto con heuristica\n",
    "I1 = Prohibido(400001,2)\n",
    "resuelve_prohibido(I1,best_first_graph_search,I1.heuristica, print_sol=True)"
   ]
  },
  {
   "cell_type": "markdown",
   "metadata": {},
   "source": [
    "#### En el siguiente caso, la heurística reduce bastante el número de nodos recorridos, pero no llega a la solución óptima, pues no es admisible:"
   ]
  },
  {
   "cell_type": "code",
   "execution_count": 23,
   "metadata": {},
   "outputs": [
    {
     "name": "stdout",
     "output_type": "stream",
     "text": [
      "Solución: [('+', 1), ('+', 2), ('*', 41)]\n",
      "Nodos analizados: 10264\n",
      "Algoritmo: breadth_first_tree_search\n"
     ]
    }
   ],
   "source": [
    "I2 = Prohibido(123,3) \n",
    "resuelve_prohibido(I2,breadth_first_tree_search, print_sol=True)"
   ]
  },
  {
   "cell_type": "code",
   "execution_count": 25,
   "metadata": {},
   "outputs": [
    {
     "name": "stdout",
     "output_type": "stream",
     "text": [
      "Solución: [('+', 97), ('+', 23), ('+', 2), ('+', 1)]\n",
      "Nodos analizados: 5\n",
      "Heurística: heuristica\n",
      "Algoritmo: best_first_graph_search\n"
     ]
    }
   ],
   "source": [
    "I2 = Prohibido(123,3) \n",
    "resuelve_prohibido(I2,best_first_graph_search,I2.heuristica, print_sol=True)"
   ]
  },
  {
   "cell_type": "code",
   "execution_count": 69,
   "metadata": {},
   "outputs": [
    {
     "name": "stdout",
     "output_type": "stream",
     "text": [
      "Solución: [('-', 97), ('-', 29), ('+', 2), ('+', 1)]\n",
      "Nodos analizados: 5\n",
      "Heurística: heuristica\n",
      "Algoritmo: best_first_graph_search\n"
     ]
    }
   ],
   "source": [
    "# Prueba con negativo\n",
    "I2 = Prohibido(-123,3) \n",
    "resuelve_prohibido(I2,best_first_graph_search,I2.heuristica, print_sol=True)"
   ]
  },
  {
   "cell_type": "code",
   "execution_count": 71,
   "metadata": {},
   "outputs": [
    {
     "name": "stdout",
     "output_type": "stream",
     "text": [
      "Solución: [('+', 1), ('-', 41), ('-', 83)]\n",
      "Nodos analizados: 13849\n",
      "Algoritmo: breadth_first_tree_search\n"
     ]
    }
   ],
   "source": [
    "I1 = Prohibido(-123,3)\n",
    "resuelve_prohibido(I1,breadth_first_tree_search, print_sol=True)"
   ]
  },
  {
   "cell_type": "markdown",
   "metadata": {},
   "source": [
    "### Posibles complicaciones\n",
    "<ul>\n",
    "    <li> Podrían prohibirnos alguna operación. En ese caso, se eliminaría de las operaciones disponibles en la función __init__</li>\n",
    "    <li> Podrían restringirnos el uso del mismo primo en dos acciones consecutivas (es decir, 2+2=4 estaría prohibido). En ese caso, habría que guardar en el estado el primo usado anteriormente, y en la función actions se eliminaría ese primo de los primos a usar.</li>\n",
    "    <li> Podrían aumentar los primos que podemos usar, por ejemplo, que solo podamos usar primos entre el 0 y el 50. En ese caso, habría que cambiar la llamada a la criba de Erathostenes.</li>\n",
    "    <li> Podrían prohibirnos usar más de un número. En cuyo caso, habría que almacenar todos los números prohibidos en una tupla y, mediante diferencia de conjuntos, quitar todos los números que estén en esa tupla de los primos disponibles (obtenidos en la criba de Erathostenes)</li>\n",
    "    <li>Una generalización de este problema sería permitir el uso de paréntesis, y por tanto poder cambiar la asociatividad de las operaciones. En ese caso habría que enfocar la búsqueda de otra forma diferente, mediante el uso de árboles sintácticos</li>\n",
    "<ul>"
   ]
  },
  {
   "cell_type": "code",
   "execution_count": null,
   "metadata": {},
   "outputs": [],
   "source": []
  }
 ],
 "metadata": {
  "kernelspec": {
   "display_name": "Python 3",
   "language": "python",
   "name": "python3"
  },
  "language_info": {
   "codemirror_mode": {
    "name": "ipython",
    "version": 3
   },
   "file_extension": ".py",
   "mimetype": "text/x-python",
   "name": "python",
   "nbconvert_exporter": "python",
   "pygments_lexer": "ipython3",
   "version": "3.7.6"
  }
 },
 "nbformat": 4,
 "nbformat_minor": 4
}
