{
 "cells": [
  {
   "cell_type": "markdown",
   "metadata": {},
   "source": [
    "### Carlos Morán y Carlos Tardón grupo 9"
   ]
  },
  {
   "cell_type": "markdown",
   "metadata": {},
   "source": [
    "# Práctica 1.B Problema 2"
   ]
  },
  {
   "cell_type": "markdown",
   "metadata": {},
   "source": [
    "En el siguiente puzle infantil se pide rellenar los espacios en blanco con números del 1 al 9 de tal modo que la ecuación sea correcta siguiendo el orden de las operaciones. Los números no pueden repeetirse. Es decir, en cada uno de los 9 huecos en blanco deberá ir un número sin reptetirse. Según declaraciones del profesor Tran Phuong existen 362.880 combinaciones para colocar los 9 dígitos en loso 9 espacios en blanco, pero sólo unas pocas son correctas."
   ]
  },
  {
   "source": [
    "### Interpretación del enunciado\n",
    "\n",
    "Una instancia válida de este problema consistirá en dos tuplas (una de n elementos para los números con los espacios en blanco incluídos y otra tupla de n-1 elementos representando las operaciones). Los atributos de este problema serán esas esas dos tuplas, el número de espacios en blanco y los números disponibles (representados mediante un entero m que indica que estarán disponibles los números del 1 al m)."
   ],
   "cell_type": "markdown",
   "metadata": {}
  },
  {
   "cell_type": "markdown",
   "metadata": {},
   "source": [
    "### Representación de Estados\n",
    "\n",
    "Una tupla incialmente vacía que va almacenando (por orden) los números que se van colocando en los espacios en blanco. "
   ]
  },
  {
   "cell_type": "markdown",
   "metadata": {},
   "source": [
    "### Representación de Acciones\n",
    "Las acciones se representarán como números enteros del 1 al 9 indicando los números que aún no se han metido en nums."
   ]
  },
  {
   "cell_type": "markdown",
   "metadata": {},
   "source": [
    "### Heurística usada\n",
    "La heurística que hemos probado consiste en hallar uno de los mayores números alcanzables. Esto lo conseguimos asignando los mayores números no usados a las operaciones '+' y '*' y los menores números no usados a las operaciones '-' y '/'. De esta manera obtenemos un \"mayor número alcanzable\" (no necesariamente el máximo pero una aproximación de éste) y, cuanto más pequeño sea este (más concretamente, cuanto más se aproxime al número buscado), mejor será esa rama particular del árbol."
   ]
  },
  {
   "cell_type": "code",
   "execution_count": 1,
   "metadata": {},
   "outputs": [],
   "source": [
    "from search import *\n",
    "\n",
    "def opera(op1,sig,op2):\n",
    "    if op1 == -1:\n",
    "        return op2\n",
    "\n",
    "    if op2 == -1:\n",
    "        return op1\n",
    "\n",
    "    if sig == '+':\n",
    "        return op1 + op2\n",
    "    elif sig == '-':\n",
    "        return op1 - op2\n",
    "    elif sig == '*':\n",
    "        return op1 * op2\n",
    "    else:\n",
    "        return op1 / op2"
   ]
  },
  {
   "cell_type": "code",
   "execution_count": 42,
   "metadata": {},
   "outputs": [],
   "source": [
    "class Ecuacion(Problem):\n",
    "\n",
    "    def __init__(self, initial, n = 9):\n",
    "        self.nums = initial[0]\n",
    "        self.ops = initial[1]\n",
    "        self.n = n # admitimos numeros del 1 al n\n",
    "        self.analizados = 0\n",
    "        self.blancos = 0\n",
    "        for i in range(0,len(self.nums)):\n",
    "            if self.nums[i] == -1:\n",
    "                self.blancos += 1\n",
    "        Problem.__init__(self,tuple(), None)\n",
    "\n",
    "    def actions(self,estado):\n",
    "        ## Nota: Este if existe para el caso en que el número de blancos sea menor que 9\n",
    "        accs=list()\n",
    "        if len(estado) < self.blancos:\n",
    "            cjt1 = set(self.nums).union(estado)\n",
    "            cjt2 = set(range(1,self.n + 1))\n",
    "            cjt3 = cjt2.difference(cjt1)\n",
    "            \n",
    "            for i in cjt3:\n",
    "                accs.append(i)\n",
    "        \n",
    "        return accs\n",
    "\n",
    "    def result(self,estado,accion):\n",
    "        nums = list(estado)\n",
    "        nums.append(accion)\n",
    "        self.analizados += 1\n",
    "        return tuple(nums)\n",
    "\n",
    "    ## Nota: Esto se hace suponiendo que solo hay un símbolo igual y que éste está al final \n",
    "    def goal_test(self,estado):\n",
    "        if len(estado) < self.blancos:\n",
    "            return False\n",
    "\n",
    "        ind = 0\n",
    "\n",
    "        if self.nums[0] == -1:\n",
    "                res = estado[ind]\n",
    "                ind += 1\n",
    "        else: res = nums[0]\n",
    "\n",
    "        for i in range(0,len(self.ops)-1):\n",
    "            if self.nums[i+1] == -1:\n",
    "                res = opera(res,self.ops[i],estado[ind])\n",
    "                ind += 1\n",
    "            else: res = opera(res,self.ops[i],self.nums[i+1])\n",
    "\n",
    "        if res != self.nums[-1]:\n",
    "            return False\n",
    "\n",
    "        return True\n",
    "\n",
    "    def elegir(self,sig,nums):\n",
    "        cjt1 = nums\n",
    "        cjt2 = set(range(1,self.n + 1))\n",
    "        dif = tuple(cjt2.difference(cjt1))\n",
    "\n",
    "        if sig == '+' or sig == '*':\n",
    "            return dif[-1]\n",
    "        else: return dif[0]\n",
    "\n",
    "    def heuristica(self,node):\n",
    "        nums = list(self.nums)\n",
    "        ind = 0\n",
    "        if nums[0] == -1 and ind >= len(node.state):\n",
    "            nums[0] = self.elegir('+',set(nums))\n",
    "        elif nums[0] == -1:\n",
    "            nums[0] = node.state[ind]\n",
    "            ind += 1\n",
    "\n",
    "        res = nums[0]\n",
    "\n",
    "        for i in range(0,len(self.ops)-1):\n",
    "            if nums[i+1] == -1 and ind >= len(node.state):\n",
    "                nums[i+1] = self.elegir(self.ops[i],set(nums).union(set(node.state)))\n",
    "            elif nums[i+1] == -1:\n",
    "                nums[i+1] = node.state[ind]\n",
    "                ind += 1\n",
    "            res = opera(res,self.ops[i],nums[i+1])\n",
    "        \n",
    "        return abs(res-self.nums[-1])\n",
    "    \n",
    "\n",
    "    def initial_check(self): # Comprobaciones iniciales, para no llamar a la busqueda si no es necesario\n",
    "        ## Si la diferencia de tamaños entre números y operaciones es mayor que 1 \n",
    "        ## (corresponde a las instancias con fallos de sintaxis)\n",
    "        if len(self.nums) != len(self.ops)+1:\n",
    "            return False\n",
    "\n",
    "        ## Para evitar instancias otro tipo de instancias con fallos de sintaxis (instancias con más blancos que números            disponibles)\n",
    "        if self.blancos > self.n:\n",
    "            return False\n",
    "        \n",
    "        return True  "
   ]
  },
  {
   "cell_type": "code",
   "execution_count": 43,
   "metadata": {},
   "outputs": [],
   "source": [
    "def resuelve_ecuacion(problem, algoritmo,h=None, print_sol=True):\n",
    "    if problem.initial_check():\n",
    "        if h: \n",
    "            res = algoritmo(problem,h)\n",
    "        else:\n",
    "            res = algoritmo(problem)\n",
    "        if res is None:\n",
    "            print(\"Instancia sin solución\")\n",
    "            print(\"Nodos analizados: {0}\".format(problem.analizados))\n",
    "        else:\n",
    "            sol = res.solution()\n",
    "            if print_sol: #Para calcular tiempos, no printeamos la solución\n",
    "                print(\"Solución: {0}\".format(sol))\n",
    "                print(\"Nodos analizados: {0}\".format(problem.analizados))\n",
    "                if h:\n",
    "                    print(\"Heurística: {0}\".format(h.__name__))\n",
    "                print(\"Algoritmo: {0}\".format(algoritmo.__name__))\n",
    "    else: \n",
    "        print(\"Problema sin solución\")\n",
    "\n"
   ]
  },
  {
   "cell_type": "code",
   "execution_count": 32,
   "metadata": {},
   "outputs": [
    {
     "name": "stdout",
     "output_type": "stream",
     "text": [
      "Solución: [1, 2, 4, 7, 5, 8, 3, 6, 9]\n",
      "Nodos analizados: 986409\n",
      "Algoritmo: breadth_first_tree_search\n"
     ]
    }
   ],
   "source": [
    "I1 = Ecuacion(((-1,13,-1,-1,-1,12,-1,-1,11,-1,-1,-1,10,66),('+','*','/','+','+','*','-','-','+','*','/','-','=')))\n",
    "resuelve_ecuacion(I1,breadth_first_tree_search, print_sol=True)"
   ]
  },
  {
   "cell_type": "code",
   "execution_count": 33,
   "metadata": {},
   "outputs": [
    {
     "name": "stdout",
     "output_type": "stream",
     "text": [
      "4.76 s ± 440 ms per loop (mean ± std. dev. of 7 runs, 1 loop each)\n"
     ]
    }
   ],
   "source": [
    "%%timeit\n",
    "## La del enunciado. Varias soluciones posbles\n",
    "I1 = Ecuacion(((-1,13,-1,-1,-1,12,-1,-1,11,-1,-1,-1,10,66),('+','*','/','+','+','*','-','-','+','*','/','-','=')))\n",
    "resuelve_ecuacion(I1,breadth_first_tree_search, print_sol=False)"
   ]
  },
  {
   "cell_type": "code",
   "execution_count": 39,
   "metadata": {},
   "outputs": [
    {
     "name": "stdout",
     "output_type": "stream",
     "text": [
      "Solución: [9, 7, 2, 8, 4, 3, 6, 1, 5]\n",
      "Nodos analizados: 23683\n",
      "Algoritmo: depth_first_graph_search\n"
     ]
    }
   ],
   "source": [
    "I1 = Ecuacion(((-1,13,-1,-1,-1,12,-1,-1,11,-1,-1,-1,10,66),('+','*','/','+','+','*','-','-','+','*','/','-','=')))\n",
    "resuelve_ecuacion(I1,depth_first_graph_search, print_sol=True)"
   ]
  },
  {
   "cell_type": "code",
   "execution_count": 40,
   "metadata": {
    "tags": []
   },
   "outputs": [
    {
     "name": "stdout",
     "output_type": "stream",
     "text": [
      "357 ms ± 113 ms per loop (mean ± std. dev. of 7 runs, 1 loop each)\n"
     ]
    }
   ],
   "source": [
    "%%timeit\n",
    "I1 = Ecuacion(((-1,13,-1,-1,-1,12,-1,-1,11,-1,-1,-1,10,66),('+','*','/','+','+','*','-','-','+','*','/','-','=')))\n",
    "resuelve_ecuacion(I1,depth_first_graph_search, print_sol=False)"
   ]
  },
  {
   "cell_type": "code",
   "execution_count": 44,
   "metadata": {
    "tags": []
   },
   "outputs": [
    {
     "name": "stdout",
     "output_type": "stream",
     "text": [
      "Solución: [1, 2, 7, 5, 3, 4, 9, 8, 6]\n",
      "Nodos analizados: 3332\n",
      "Heurística: heuristica\n",
      "Algoritmo: best_first_graph_search\n"
     ]
    }
   ],
   "source": [
    "I1 = Ecuacion(((-1,13,-1,-1,-1,12,-1,-1,11,-1,-1,-1,10,66),('+','*','/','+','+','*','-','-','+','*','/','-','=')))\n",
    "resuelve_ecuacion(I1,best_first_graph_search,I1.heuristica , print_sol=True)"
   ]
  },
  {
   "cell_type": "code",
   "execution_count": 45,
   "metadata": {
    "tags": []
   },
   "outputs": [
    {
     "name": "stdout",
     "output_type": "stream",
     "text": [
      "253 ms ± 39.8 ms per loop (mean ± std. dev. of 7 runs, 10 loops each)\n"
     ]
    }
   ],
   "source": [
    "%%timeit\n",
    "I1 = Ecuacion(((-1,13,-1,-1,-1,12,-1,-1,11,-1,-1,-1,10,66),('+','*','/','+','+','*','-','-','+','*','/','-','=')))\n",
    "resuelve_ecuacion(I1,astar_search,I1.heuristica , print_sol=False)"
   ]
  },
  {
   "cell_type": "code",
   "execution_count": 46,
   "metadata": {},
   "outputs": [
    {
     "name": "stdout",
     "output_type": "stream",
     "text": [
      "Solución: [5, 6, 7, 8, 9]\n",
      "Nodos analizados: 18729\n",
      "Algoritmo: breadth_first_tree_search\n"
     ]
    }
   ],
   "source": [
    "I2 = Ecuacion(((-1,-1,-1,-1,-1,35),('+','+','+','+','=')))\n",
    "resuelve_ecuacion(I2,breadth_first_tree_search, print_sol=True)"
   ]
  },
  {
   "cell_type": "code",
   "execution_count": 47,
   "metadata": {},
   "outputs": [
    {
     "output_type": "stream",
     "name": "stdout",
     "text": [
      "80.3 ms ± 21 ms per loop (mean ± std. dev. of 7 runs, 10 loops each)\n"
     ]
    }
   ],
   "source": [
    "%%timeit\n",
    "I2 = Ecuacion(((-1,-1,-1,-1,-1,35),('+','+','+','+','=')))\n",
    "resuelve_ecuacion(I2,breadth_first_tree_search, print_sol=False)"
   ]
  },
  {
   "cell_type": "code",
   "execution_count": 48,
   "metadata": {},
   "outputs": [
    {
     "output_type": "stream",
     "name": "stdout",
     "text": [
      "Solución: [9, 8, 7, 6, 5]\nNodos analizados: 35\nAlgoritmo: depth_first_graph_search\n"
     ]
    }
   ],
   "source": [
    "I2 = Ecuacion(((-1,-1,-1,-1,-1,35),('+','+','+','+','=')))\n",
    "resuelve_ecuacion(I2,depth_first_graph_search , print_sol=True)"
   ]
  },
  {
   "cell_type": "code",
   "execution_count": 49,
   "metadata": {
    "tags": []
   },
   "outputs": [
    {
     "output_type": "stream",
     "name": "stdout",
     "text": [
      "305 µs ± 33 µs per loop (mean ± std. dev. of 7 runs, 1000 loops each)\n"
     ]
    }
   ],
   "source": [
    "%%timeit\n",
    "I2 = Ecuacion(((-1,-1,-1,-1,-1,35),('+','+','+','+','=')))\n",
    "resuelve_ecuacion(I2,depth_first_graph_search , print_sol=False)"
   ]
  },
  {
   "cell_type": "code",
   "execution_count": 50,
   "metadata": {},
   "outputs": [
    {
     "output_type": "stream",
     "name": "stdout",
     "text": [
      "Solución: [5, 6, 7, 8, 9]\nNodos analizados: 35\nHeurística: heuristica\nAlgoritmo: best_first_graph_search\n"
     ]
    }
   ],
   "source": [
    "I2 = Ecuacion(((-1,-1,-1,-1,-1,35),('+','+','+','+','=')))\n",
    "resuelve_ecuacion(I2,best_first_graph_search,I2.heuristica , print_sol=True)"
   ]
  },
  {
   "cell_type": "code",
   "execution_count": 51,
   "metadata": {},
   "outputs": [
    {
     "output_type": "stream",
     "name": "stdout",
     "text": [
      "788 µs ± 227 µs per loop (mean ± std. dev. of 7 runs, 1000 loops each)\n"
     ]
    }
   ],
   "source": [
    "%%timeit\n",
    "I2 = Ecuacion(((-1,-1,-1,-1,-1,35),('+','+','+','+','=')))\n",
    "resuelve_ecuacion(I2,best_first_graph_search,I2.heuristica , print_sol=False)"
   ]
  },
  {
   "cell_type": "code",
   "execution_count": 52,
   "metadata": {},
   "outputs": [
    {
     "output_type": "stream",
     "name": "stdout",
     "text": [
      "Instancia sin solución\n",
      "Nodos analizados: 18729\n"
     ]
    }
   ],
   "source": [
    "## No hay solución posible\n",
    "I3 = Ecuacion(((-1,-1,-1,-1,-1,36),('+','+','+','+','=')))\n",
    "resuelve_ecuacion(I3,breadth_first_tree_search)"
   ]
  },
  {
   "cell_type": "code",
   "execution_count": 53,
   "metadata": {},
   "outputs": [
    {
     "name": "stdout",
     "output_type": "stream",
     "text": [
      "Instancia sin solución\n",
      "Nodos analizados: 18729\n"
     ]
    }
   ],
   "source": [
    "I3 = Ecuacion(((-1,-1,-1,-1,-1,36),('+','+','+','+','=')))\n",
    "resuelve_ecuacion(I3,best_first_graph_search,I3.heuristica)"
   ]
  },
  {
   "cell_type": "code",
   "execution_count": 54,
   "metadata": {},
   "outputs": [
    {
     "output_type": "stream",
     "name": "stdout",
     "text": [
      "Instancia sin solución\n",
      "Nodos analizados: 18729\n"
     ]
    }
   ],
   "source": [
    "I3 = Ecuacion(((-1,-1,-1,-1,-1,36),('+','+','+','+','=')))\n",
    "resuelve_ecuacion(I3,astar_search,I3.heuristica)"
   ]
  },
  {
   "cell_type": "code",
   "execution_count": 56,
   "metadata": {
    "tags": []
   },
   "outputs": [
    {
     "output_type": "stream",
     "name": "stdout",
     "text": [
      "Problema sin solución\n"
     ]
    }
   ],
   "source": [
    "## No hay solución posible (la diferencia entre los tamaños de nums y ops es distinta de 1 en valor absoluto)\n",
    "I5 = Ecuacion(((-1,-1,-1,-1,-1,-1,-1,-1,-1,36),('+','+','+','+','+','+','+','+','+','=')))\n",
    "resuelve_ecuacion(I5,breadth_first_tree_search)"
   ]
  },
  {
   "cell_type": "code",
   "execution_count": 57,
   "metadata": {},
   "outputs": [
    {
     "output_type": "stream",
     "name": "stdout",
     "text": [
      "Solución: [1, 2, 3, 4, 5]\nNodos analizados: 18729\nAlgoritmo: breadth_first_tree_search\n"
     ]
    }
   ],
   "source": [
    "I6 = Ecuacion(((-1,-1,-1,-1,-1,15),('+','+','+','+','=')))\n",
    "resuelve_ecuacion(I6,breadth_first_tree_search , print_sol=True)"
   ]
  },
  {
   "cell_type": "code",
   "execution_count": 58,
   "metadata": {},
   "outputs": [
    {
     "output_type": "stream",
     "name": "stdout",
     "text": [
      "64.1 ms ± 1.18 ms per loop (mean ± std. dev. of 7 runs, 10 loops each)\n"
     ]
    }
   ],
   "source": [
    "%%timeit\n",
    "## Una solucíón posible: 1+2+3+4.\n",
    "I6 = Ecuacion(((-1,-1,-1,-1,-1,15),('+','+','+','+','=')))\n",
    "resuelve_ecuacion(I6,breadth_first_tree_search , print_sol=False)"
   ]
  },
  {
   "cell_type": "code",
   "execution_count": 59,
   "metadata": {},
   "outputs": [
    {
     "output_type": "stream",
     "name": "stdout",
     "text": [
      "Solución: [5, 4, 3, 2, 1]\n",
      "Nodos analizados: 9555\n",
      "Algoritmo: depth_first_graph_search\n"
     ]
    }
   ],
   "source": [
    "I6 = Ecuacion(((-1,-1,-1,-1,-1,15),('+','+','+','+','=')))\n",
    "resuelve_ecuacion(I6,depth_first_graph_search, print_sol=True)"
   ]
  },
  {
   "cell_type": "code",
   "execution_count": 60,
   "metadata": {},
   "outputs": [
    {
     "output_type": "stream",
     "name": "stdout",
     "text": [
      "137 ms ± 2.99 ms per loop (mean ± std. dev. of 7 runs, 10 loops each)\n"
     ]
    }
   ],
   "source": [
    "%%timeit\n",
    "I6 = Ecuacion(((-1,-1,-1,-1,-1,15),('+','+','+','+','=')))\n",
    "resuelve_ecuacion(I6,depth_first_graph_search, print_sol=False)"
   ]
  },
  {
   "cell_type": "code",
   "execution_count": 61,
   "metadata": {
    "tags": []
   },
   "outputs": [
    {
     "output_type": "stream",
     "name": "stdout",
     "text": [
      "Solución: [1, 2, 3, 4, 5]\nNodos analizados: 35\nHeurística: heuristica\nAlgoritmo: best_first_graph_search\n"
     ]
    }
   ],
   "source": [
    "I6 = Ecuacion(((-1,-1,-1,-1,-1,15),('+','+','+','+','=')))\n",
    "resuelve_ecuacion(I6,best_first_graph_search,I6.heuristica)"
   ]
  },
  {
   "cell_type": "markdown",
   "metadata": {},
   "source": [
    "### Comentarios sobre la heurística y la solución\n",
    "\n",
    "En este problema se muestra claramente la importancia de obtener una heurística, pese a no ser admisible, pues la finalidad de este problema es encontrar una solución. Con búsqueda en anchura, en la instancia I1(la que nos daban de prueba en el pdf), se analizan casi 1 millon de nodos antes de llegar a la solución. Con el incremento de potencias de procesamiento, este caso es tratable. Sin embargo, si generalizaramos el problema (por ejemplo, admitiendo los números del 1 al n), no podríamos usar busqueda en anchura en un tiempo razonable. Como se ve con I1, la heurística consigue bajar los nodos analizados, de casi 1 millon a tan solo 3332.  \n",
    "En la siguiente celda, comprobamos la efectividad de la heuristica con n=11, es decir, permitiendo los numeros del 1 al 11:"
   ]
  },
  {
   "cell_type": "code",
   "execution_count": null,
   "metadata": {
    "tags": [
     "outputPrepend"
    ]
   },
   "outputs": [],
   "source": [
    "# Ha estado hora y media y no ha terminado. Esto es debido al gran factor de ramificacion, que produce que haya \n",
    "# 11! = 39.916.800 hojas (estados finales)\n",
    "I4 = Ecuacion(((-1,-1,-1,-1,-1,-1,-1,-1,-1,-1,36),('+','+','+','+','-','+','+','-','+','=')),n=11)\n",
    "resuelve_ecuacion(I4,breadth_first_tree_search)"
   ]
  },
  {
   "cell_type": "code",
   "execution_count": 63,
   "metadata": {},
   "outputs": [
    {
     "name": "stdout",
     "output_type": "stream",
     "text": [
      "Solución: [1, 2, 3, 4, 7, 5, 9, 10, 6, 11]\n",
      "Nodos analizados: 2635\n",
      "Heurística: heuristica\n",
      "Algoritmo: best_first_graph_search\n"
     ]
    }
   ],
   "source": [
    "# Tan solo analiza 2635 nodos para llegar a a la solucion.\n",
    "I4 = Ecuacion(((-1,-1,-1,-1,-1,-1,-1,-1,-1,-1,36),('+','+','+','+','-','+','+','-','+','=')),n=11)\n",
    "resuelve_ecuacion(I4,best_first_graph_search,I6.heuristica)"
   ]
  },
  {
   "cell_type": "markdown",
   "metadata": {},
   "source": [
    "### Comentarios sobre la solución\n",
    "<ol>\n",
    "<li>Durante la solución del problema, podríamos llevar el resultado parcial de los números ya añadidos (para hacer más eficiente la ejecución de goal_test). Sin embargo, como tenemos que anotar qué números hemos usado y si quedan blancos o no (lo que es igual de eficiente en espacio), no llevamos este resultado parcial (es igual de eficiente en memoria, pese a la ganancia de eficiencia en tiempo). </li>\n",
    "<li>Combiene añadir que, como en este problema no teenemos ningún coste asociado/criterio de optimalidad, una heurística solo puede servir para llegar más rápido a una solución y no para mejorar una posible solución.</li>\n",
    "<li> Mejor algoritmo: como se observa, la heurística mejora notablemente los nodos analizados, y por tanto se puede usar búsqueda voraz para obtener una solución.</li>\n",
    "</ol>"
   ]
  },
  {
   "cell_type": "markdown",
   "metadata": {},
   "source": [
    "### Posibles complicaciones del problema\n",
    "<ol>\n",
    "<li>Admitir números negativos (tanto en blancos como por defecto en nums): Habría que cambiar la identificación de los blancos (por el caracter 'b' por ejemplo)</li>\n",
    "<li>Ampliar los números con los que podemos rellenar los blancos de range(1,10) a range(n,m+1) con n <= m: Habría que modificar la función \"elegir\" (introducir n y m como parámetros) para que escoja el conjunto range(n,m+1) en vez de range(1,10)</li>\n",
    "<li>Si podemos colocar range(n,m+1) elementos en los espacios en blanco, que en nums vengan \"por defecto\" números que estén en range(n,m+1): En vez de hacer diferencia de conjuntos en este caso, tendríamos que llevar en cada estado una tupla de booleanos (llamémosla usados) de tamaño m-n+1 inicializada en principio a false donde usados_i representa si ya se ha usado el número n+i (True) o no (False).</li>\n",
    "<li>Blancos y/o operaciones a la derecha del igual: habría que modificar goal_test y la función de la heurística. Tendríamos que guardar en 2 variables distintas los resultados a la izquierda y a la derecha del igual y sería necesario recorrer nums hasta el igual primero y luego del igual en adelante. Otra opción sería preprocesar la ecuación para despejar todas las incógnitas, y después usar la resolución ya implementada</li>\n",
    "<li>Más de un símbolo igual: La solución sería una versión iterada del apartado anterior con un pequeño detalle adicional, tenemos que saber previamente (como atributo adicional del problema) el número de símbolos igual. Sea ahora i la cantidad de símbolos de igual. Habría que modificar goal_test y la heurística y guardar en una tupla de i+1 elementos los diferentes resultados. Está claro que para calcular cada uno de esos resultados parciales necesitamos recorrer ese fragmento de la lista (vemos que el caso anterior sería un caso particular de este para i=1).</li>\n",
    "</ol>"
   ]
  },
  {
   "cell_type": "code",
   "execution_count": null,
   "metadata": {},
   "outputs": [],
   "source": []
  }
 ],
 "metadata": {
  "kernelspec": {
   "display_name": "Python 3",
   "language": "python",
   "name": "python3"
  },
  "language_info": {
   "codemirror_mode": {
    "name": "ipython",
    "version": 3
   },
   "file_extension": ".py",
   "mimetype": "text/x-python",
   "name": "python",
   "nbconvert_exporter": "python",
   "pygments_lexer": "ipython3",
   "version": "3.7.6"
  }
 },
 "nbformat": 4,
 "nbformat_minor": 4
}