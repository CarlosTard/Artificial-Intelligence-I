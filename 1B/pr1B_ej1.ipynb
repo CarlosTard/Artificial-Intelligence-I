{
 "cells": [
  {
   "cell_type": "markdown",
   "metadata": {},
   "source": [
    "### Carlos Morán Y Carlos Tardón Grupo 9"
   ]
  },
  {
   "cell_type": "markdown",
   "metadata": {},
   "source": [
    "# Práctica 1.B Problema 1"
   ]
  },
  {
   "cell_type": "markdown",
   "metadata": {},
   "source": [
    "Para cada problema se debe proponer una representación adecuada que permita a un agente resolverlo con distintos\n",
    "parámetros de entrada (tamaños, valores ,..), explicando las decisiones de representación, coste, heurística y descripción de los resultados de los distintos algoritmos.\n",
    "Justificar cuál es el/los algoritmo/s de búsqueda utilizado para resolverlo, \n",
    "incluyendo datos de la complejidad de la resolución del problema."
   ]
  },
  {
   "cell_type": "markdown",
   "metadata": {},
   "source": [
    "Un grupo de 5 personas quiere cruzar un viejo y estrecho puente. Es una noche\n",
    "cerrada y se necesita llevar una linterna para cruzar. El grupo solo dispone de\n",
    "una linterna, a la que le quedan 5 minutos de batería.\n",
    "<ul>\n",
    "<li>Cada persona tarda en cruzar 10, 30, 60, 80 y 120 segundos,\n",
    "respectivamente.</li>\n",
    "<li>El puente solo resiste un máximo de 2 personas cruzando a la vez, y\n",
    "cuando cruzan dos personas juntas, caminan a la velocidad del más lento.</li>\n",
    "<li>No se puede lanzar la linterna de un extremo a otro del puente, así que\n",
    "cada vez que crucen dos personas, alguien tiene que volver a cruzar hacia\n",
    "atrás con la linterna a buscar a los compañeros que falten, y así hasta que\n",
    "hayan cruzado todos.</li>\n",
    "</ul>"
   ]
  },
  {
   "cell_type": "markdown",
   "metadata": {},
   "source": [
    "### Representación Estados\n",
    "Sea t_persona = [10, 30, 60, 80, 120] el array con el tiempo que cada persona tarda en cruzar, y t0 = 300 los segundos restantes de batería\n",
    "\n",
    "Ideas, distintas formas:\n",
    "<ol>\n",
    "    <li> ((1, 0, 0, 1), l, t) donde tupla[0][i] indica orilla donde está la persona i, l=orilla de linterna(0,1) y t el tiempo que ha pasado desde que encendieron la linterna. 0<=t<=t0 </li>\n",
    "    <li> ((i1,..,in), l, t), donde t indica el tiempo que ha pasado desde que encendieron la linterna. 0<=t<=t0, l=orilla de linterna(0,1), y la tupla tupla[0] indica los indices de las personas que están en la orilla 0. Supone un ahorro en espacio con respecto a la opción anterior, pero aumentamos el coste en tiempo, pues para calcular las acciones y nuevos estados es necesario recorrer la tupla entera. </li>\n",
    "    <li> Si el array de personas es muy grande, y queremos ahorrar tiempo, convendría la siguiente representación: (set0, l, t), donde t indica el tiempo, l=orilla de linterna(0,1), y set0 el conjunto de personas(índices del array t_persona) en la orilla 0. Esta representación tiene un inconveniente, y es que para usar la librería aima es necesario que los estados sean hashables, pero el set no tiene definido hash en python (habría que definirlo, con los inconvenientes que conlleva)</li>\n",
    "</ul>\n",
    "\n",
    "De momento se usará la opción 1, pues en el caso que hay que resolver, la cantidad de personas no es muy grande, y la opcion 1 asegura que la tupla es hashable, y los set de python no tienen predefinida una funcion hash"
   ]
  },
  {
   "cell_type": "markdown",
   "metadata": {},
   "source": [
    "### Representación Acciones\n",
    "Ideas, distintas formas:\n",
    "<ol>\n",
    "    <li>Tupla (i1, i2) donde i1 e i2 son indices validos de personas, 0 <= i1 < len(t_persona) y, o bien i2=None ( si solo cruza uno) o bien 0 <= i2 < len(t_persona). Para no tener distintas tuplas que representen la misma acción, se impone i1 < i2</li>\n",
    "   \n",
    "</ul>"
   ]
  },
  {
   "cell_type": "markdown",
   "metadata": {},
   "source": [
    "### Elección Coste, Algoritmo y Complejidad\n",
    "Costes posibles:\n",
    "<ol>\n",
    "    <li>Tiempo t en cada estado, es decir, el tiempo que ha pasado desde que encendieron la linterna. En este caso se usaría busqueda de coste uniforme o astar (cuando tengamos una heurística)</li>\n",
    "    <li>Número de veces que cruzan el puente. Este coste sería interesante si se añaden nuevas restricciones (por ejemplo, que el puente se rompe si pasas n veces, con batería infinita). En este caso parece que interesa usar busqueda en anchura. Sin embargo, si los tiempos son positivos(de hecho lo son), si minimizamos el coste anterior, minimizamos este también, pues al minimizar el tiempo de uso de la linterna, de la orilla 0 a la 1 pasarán 2 personas siempre que se pueda, y solo volverá una persona de la 1 a la 0 para devolver la linterna, lo que garantiza que se minimice el número de veces que se pasa el puente. Por tanto, para este caso también se puede usar astar con alguna heurística para el coste anterior.</li>\n",
    "</ol>"
   ]
  },
  {
   "cell_type": "markdown",
   "metadata": {},
   "source": [
    "### Estados objetivo\n",
    "Los estados objetivos serán aquellos de la forma ((1, 1,..,1),l,t),  l=1 y 0<=t<=t0"
   ]
  },
  {
   "cell_type": "markdown",
   "metadata": {},
   "source": [
    "### Posibles heurísticas\n",
    "<ol>\n",
    "    <li>h1. Podemos relajar las condiciones y asumir infinitas linternas en cada lado. De esta manera, nadie tiene que volver una vez cruzan el puente. Por tanto, una heurística admisible se obtiene considerando la solución voraz a este problema relajado, que consiste en emparejar a las dos personas más lentas, después a las siguientes dos personas más lentas, y así. Por ejemplo, si están [10, 30, 60, 80, 120] en la orilla 0, h1 = max(120,80) + max(60,30) + 10 = 190</li>\n",
    "    <li>h2 Para mejorar h1, si la linterna está en la orilla 1 y no es final, se puede sumar a h1 el mínimo tiempo que costaría llevar la linterna a la orilla0, es decir, el tiempo de la persona más rápida en la orilla 1. Sigue siendo admisible, pues h1 lo era, y el tiempo que hemos sumado se corresponde con una acción que tendremos que realizar si o si en la solución real. </li>\n",
    "   \n",
    "</ul>"
   ]
  },
  {
   "cell_type": "code",
   "execution_count": 39,
   "metadata": {},
   "outputs": [],
   "source": [
    "from search import *"
   ]
  },
  {
   "cell_type": "code",
   "execution_count": 40,
   "metadata": {},
   "outputs": [],
   "source": [
    "class Linternas(Problem):\n",
    "\n",
    "    def __init__(self, t_persona = [10, 30, 60, 80, 120], t0=300):\n",
    "        t_persona.sort()\n",
    "        self.t_persona = t_persona\n",
    "        self.t0 = t0\n",
    "        self.initial = ((0,)*len(t_persona), 0, 0)\n",
    "        self.analizados  = 0\n",
    "\n",
    "    def actions(self, state):\n",
    "        tupla, l, t = state\n",
    "        accs = []\n",
    "        for i, e in enumerate(tupla):\n",
    "            if e==l and self.t0 >= t + self.t_persona[i]:\n",
    "                accs.append((i,None))\n",
    "            if e == l:\n",
    "                for j, f in enumerate(tupla[i+1:],i+1):\n",
    "                    if f==l and self.t0 >= t + max(self.t_persona[i], self.t_persona[j]):\n",
    "                        accs.append((i,j)) \n",
    "        return accs\n",
    "\n",
    "    def result(self, state, action):\n",
    "        tupla, l, t = state\n",
    "        i1, i2 = action\n",
    "        newt = t\n",
    "        li = list(tupla)\n",
    "        li[i1] = (li[i1]+1 )% 2\n",
    "        if i2 == None:\n",
    "            newt += self.t_persona[i1] \n",
    "        else:\n",
    "            newt += max(self.t_persona[i1], self.t_persona[i2])\n",
    "            li[i2] = (li[i2]+1 )% 2\n",
    "            \n",
    "        return (tuple(li), (l+1 )% 2, newt)\n",
    "\n",
    "\n",
    "    def goal_test(self, state):\n",
    "        self.analizados += 1\n",
    "        return all(state[0]) and state[1] == 1 and 0<=state[2]<=self.t0\n",
    "\n",
    "    def path_cost(self, c, state1, action, state2):\n",
    "        i1, i2 = action\n",
    "        if i2 == None:\n",
    "            return c + self.t_persona[i1]\n",
    "        return c  + max(self.t_persona[i1], self.t_persona[i2])\n",
    "    \n",
    "    def h1(self, node):\n",
    "        tupla, _, _ = node.state\n",
    "        indices_orilla0 = [i for i,e in enumerate(tupla) if e == 0]\n",
    "        i = len(indices_orilla0)-1\n",
    "        total = 0\n",
    "        while i >= 0:\n",
    "            total += self.t_persona[indices_orilla0[i]]\n",
    "            i -= 2\n",
    "        return total\n",
    "    \n",
    "    def h2(self, node):\n",
    "        h1 = self.h1(node)\n",
    "        tupla, l, t = node.state\n",
    "        if h1 == 0 or l == 0:\n",
    "            return h1\n",
    "        # como l == 1 sabemos que hay alguien en orilla1\n",
    "        for i,e in enumerate(tupla):\n",
    "            if e == 1:\n",
    "                return h1 + self.t_persona[i]\n",
    "\n",
    "    def init_check(self): # Realiza checkeo inicial, para no tener que llamar a la busqueda en casos sin solución.\n",
    "        if max(self.t_persona) > self.t0 or (max(self.t_persona) == self.t0 and len(self.t_persona) > 2):\n",
    "            return False\n",
    "        \n",
    "        return True\n",
    "    "
   ]
  },
  {
   "cell_type": "code",
   "execution_count": 41,
   "metadata": {},
   "outputs": [],
   "source": [
    "def resuelve_linternas(problem, algoritmo,print_sol=True, h=None):\n",
    "    if problem.init_check():\n",
    "        if h: \n",
    "            res = algoritmo(problem,h)\n",
    "        else:\n",
    "            res = algoritmo(problem)\n",
    "        if res is None:\n",
    "            print(\"Instancia sin solución\")\n",
    "        else:\n",
    "            sol = res.solution()\n",
    "            if print_sol: #Para calcular tiempos, no printeamos la solución\n",
    "                print(\"Solución: {0}\".format(sol))\n",
    "                print(\"Longitud de la solución: {0}\".format(len(sol)))\n",
    "                print(\"Nodos analizados: {0}\".format(problem.analizados))\n",
    "                if h:\n",
    "                    print(\"Heurística: {0}\".format(h.__name__))\n",
    "                print(\"Algoritmo: {0}\".format(algoritmo.__name__))\n",
    "                print(f\"Coste solucion: {res.path_cost}\")\n",
    "    else: \n",
    "        print(\"Instancia sin solución\")\n"
   ]
  },
  {
   "cell_type": "code",
   "execution_count": 22,
   "metadata": {},
   "outputs": [
    {
     "name": "stdout",
     "output_type": "stream",
     "text": [
      "Solución: [(0, 1), (0, None), (0, 2), (0, None), (3, 4), (1, None), (0, 1)]\n",
      "Longitud de la solución: 7\n",
      "Nodos analizados: 719\n",
      "Algoritmo: breadth_first_graph_search\n",
      "Coste solucion: 290\n"
     ]
    }
   ],
   "source": [
    "linternas = Linternas()\n",
    "resuelve_linternas(linternas,breadth_first_graph_search,True)"
   ]
  },
  {
   "cell_type": "code",
   "execution_count": 12,
   "metadata": {},
   "outputs": [
    {
     "name": "stdout",
     "output_type": "stream",
     "text": [
      "74.3 ms ± 23.4 ms per loop (mean ± std. dev. of 7 runs, 10 loops each)\n"
     ]
    }
   ],
   "source": [
    "%%timeit\n",
    "linternas = Linternas()\n",
    "resuelve_linternas(linternas,breadth_first_graph_search,False)"
   ]
  },
  {
   "cell_type": "markdown",
   "metadata": {},
   "source": [
    "Solucion: [(0, 1), (0, None), (0, 2), (0, None), (3, 4), (1, None), (0, 1)] de coste 290. "
   ]
  },
  {
   "cell_type": "code",
   "execution_count": 23,
   "metadata": {},
   "outputs": [
    {
     "name": "stdout",
     "output_type": "stream",
     "text": [
      "Solución: [(0, 1), (0, None), (3, 4), (1, None), (0, 1), (0, None), (0, 2)]\n",
      "Longitud de la solución: 7\n",
      "Nodos analizados: 689\n",
      "Algoritmo: uniform_cost_search\n",
      "Coste solucion: 290\n"
     ]
    }
   ],
   "source": [
    "linternas = Linternas()\n",
    "resuelve_linternas(linternas,uniform_cost_search,True)"
   ]
  },
  {
   "cell_type": "code",
   "execution_count": 14,
   "metadata": {},
   "outputs": [
    {
     "name": "stdout",
     "output_type": "stream",
     "text": [
      "295 ms ± 81.6 ms per loop (mean ± std. dev. of 7 runs, 1 loop each)\n"
     ]
    }
   ],
   "source": [
    "%%timeit\n",
    "linternas = Linternas()\n",
    "resuelve_linternas(linternas,uniform_cost_search, False)"
   ]
  },
  {
   "cell_type": "markdown",
   "metadata": {},
   "source": [
    "Solucion: [(0, 1), (0, None), (3, 4), (1, None), (0, 1), (0, None), (0, 2)] de coste 290. En este caso, debido a la restriccion temporal(de 5 min), existen varias soluciones ( que son la misma salvo permutación del orden de las acciones) que minimizan a la vez los dos costes."
   ]
  },
  {
   "cell_type": "code",
   "execution_count": 24,
   "metadata": {},
   "outputs": [
    {
     "name": "stdout",
     "output_type": "stream",
     "text": [
      "Solución: [(0, 2), (0, None), (0, 1), (0, None), (3, 4), (1, None), (0, 1)]\n",
      "Longitud de la solución: 7\n",
      "Nodos analizados: 172\n",
      "Heurística: h1\n",
      "Algoritmo: astar_search\n",
      "Coste solucion: 290\n"
     ]
    }
   ],
   "source": [
    "linternas = Linternas()\n",
    "resuelve_linternas(linternas,astar_search,True, linternas.h1)"
   ]
  },
  {
   "cell_type": "code",
   "execution_count": 19,
   "metadata": {},
   "outputs": [
    {
     "name": "stdout",
     "output_type": "stream",
     "text": [
      "80.5 ms ± 25.3 ms per loop (mean ± std. dev. of 7 runs, 10 loops each)\n"
     ]
    }
   ],
   "source": [
    "%%timeit\n",
    "linternas = Linternas()\n",
    "resuelve_linternas(linternas,astar_search,False, linternas.h1)"
   ]
  },
  {
   "cell_type": "code",
   "execution_count": 27,
   "metadata": {},
   "outputs": [
    {
     "name": "stdout",
     "output_type": "stream",
     "text": [
      "Solución: [(0, 2), (0, None), (0, 1), (0, None), (3, 4), (1, None), (0, 1)]\n",
      "Longitud de la solución: 7\n",
      "Nodos analizados: 115\n",
      "Heurística: h2\n",
      "Algoritmo: astar_search\n",
      "Coste solucion: 290\n"
     ]
    }
   ],
   "source": [
    "linternas = Linternas()\n",
    "resuelve_linternas(linternas,astar_search, True, linternas.h2)"
   ]
  },
  {
   "cell_type": "code",
   "execution_count": 26,
   "metadata": {},
   "outputs": [
    {
     "name": "stdout",
     "output_type": "stream",
     "text": [
      "68.9 ms ± 22.7 ms per loop (mean ± std. dev. of 7 runs, 10 loops each)\n"
     ]
    }
   ],
   "source": [
    "%%timeit\n",
    "linternas = Linternas()\n",
    "resuelve_linternas(linternas,astar_search, False, linternas.h2)"
   ]
  },
  {
   "cell_type": "markdown",
   "metadata": {},
   "source": [
    "En este caso, la búsqueda en anchura tan solo tarda 74.3 ms, mientras que con busqueda de coste uniforme, tardamos una media de 295 ms en encontrar la solucion, y se analizan 689 nodos. Asimismo, astar con la heurística h1 tarda tan solo 80.5 ms, lo que supone una reducción del 72% con respecto a la búsqueda de coste uniforme, y se analizan 172 nodos. Por último, h2 con astar tarda 68.9 ms, y se analizan solo 115 nodos."
   ]
  },
  {
   "cell_type": "code",
   "execution_count": 30,
   "metadata": {
    "tags": [
     "outputPrepend"
    ]
   },
   "outputs": [
    {
     "name": "stdout",
     "output_type": "stream",
     "text": [
      "Solución: [(0, 1), (0, None), (2, 3), (1, None), (0, 1)]\n",
      "Longitud de la solución: 5\n",
      "Nodos analizados: 140\n",
      "Algoritmo: breadth_first_graph_search\n",
      "Coste solucion: 17\n"
     ]
    }
   ],
   "source": [
    "linternas2 = Linternas([1,2,5,10],17)\n",
    "resuelve_linternas(linternas2,breadth_first_graph_search, True)"
   ]
  },
  {
   "cell_type": "code",
   "execution_count": 32,
   "metadata": {},
   "outputs": [
    {
     "name": "stdout",
     "output_type": "stream",
     "text": [
      "Solución: [(0, 1), (0, None), (2, 3), (1, None), (0, 1)]\n",
      "Longitud de la solución: 5\n",
      "Nodos analizados: 194\n",
      "Algoritmo: uniform_cost_search\n",
      "Coste solucion: 17\n"
     ]
    }
   ],
   "source": [
    "linternas2 = Linternas([1,2,5,10],17)\n",
    "resuelve_linternas(linternas2,uniform_cost_search, True)"
   ]
  },
  {
   "cell_type": "code",
   "execution_count": 34,
   "metadata": {
    "tags": [
     "outputPrepend"
    ]
   },
   "outputs": [
    {
     "name": "stdout",
     "output_type": "stream",
     "text": [
      "Solución: [(0, 1), (0, None), (2, 3), (1, None), (0, 1)]\n",
      "Longitud de la solución: 5\n",
      "Nodos analizados: 36\n",
      "Heurística: h1\n",
      "Algoritmo: astar_search\n",
      "Coste solucion: 17\n"
     ]
    }
   ],
   "source": [
    "linternas2 = Linternas([1,2,5,10],17)\n",
    "resuelve_linternas(linternas2,astar_search,True, linternas2.h1)"
   ]
  },
  {
   "cell_type": "code",
   "execution_count": 36,
   "metadata": {
    "tags": [
     "outputPrepend"
    ]
   },
   "outputs": [
    {
     "name": "stdout",
     "output_type": "stream",
     "text": [
      "Solución: [(0, 1), (0, None), (2, 3), (1, None), (0, 1)]\n",
      "Longitud de la solución: 5\n",
      "Nodos analizados: 24\n",
      "Heurística: h2\n",
      "Algoritmo: astar_search\n",
      "Coste solucion: 17\n"
     ]
    }
   ],
   "source": [
    "linternas2 = Linternas([1,2,5,10],17)\n",
    "resuelve_linternas(linternas2,astar_search,True,linternas2.h2)"
   ]
  },
  {
   "cell_type": "markdown",
   "metadata": {},
   "source": [
    "#### En las siguientes celdas, se ve un caso en el que interesa usar búsqueda astar con la heurística h2(que es una heurística para el coste 1)  para minimizar el número de veces que se pasa el puente, pues breadth_first_graph_search analiza 2966 nodos, y astar solo 68"
   ]
  },
  {
   "cell_type": "code",
   "execution_count": 37,
   "metadata": {},
   "outputs": [
    {
     "name": "stdout",
     "output_type": "stream",
     "text": [
      "Solución: [(0, 1), (0, None), (0, 2), (0, None), (0, 3), (0, None), (0, 4)]\n",
      "Longitud de la solución: 7\n",
      "Nodos analizados: 2966\n",
      "Algoritmo: breadth_first_graph_search\n",
      "Coste solucion: 40\n"
     ]
    }
   ],
   "source": [
    "linternas2 = Linternas([1,2,5,10,20],345)\n",
    "resuelve_linternas(linternas2,breadth_first_graph_search, True)"
   ]
  },
  {
   "cell_type": "code",
   "execution_count": 38,
   "metadata": {},
   "outputs": [
    {
     "name": "stdout",
     "output_type": "stream",
     "text": [
      "Solución: [(0, 2), (0, None), (0, 1), (0, None), (3, 4), (1, None), (0, 1)]\n",
      "Longitud de la solución: 7\n",
      "Nodos analizados: 68\n",
      "Heurística: h2\n",
      "Algoritmo: astar_search\n",
      "Coste solucion: 33\n"
     ]
    }
   ],
   "source": [
    "linternas2 = Linternas([1,2,5,10,20],345)\n",
    "resuelve_linternas(linternas2,astar_search,True,linternas2.h2)"
   ]
  },
  {
   "cell_type": "markdown",
   "metadata": {},
   "source": [
    "#### Por último, un caso sin solución"
   ]
  },
  {
   "cell_type": "code",
   "execution_count": 42,
   "metadata": {},
   "outputs": [
    {
     "name": "stdout",
     "output_type": "stream",
     "text": [
      "Instancia sin solución\n"
     ]
    }
   ],
   "source": [
    "linternas3 = Linternas([1,2,5,10],16)\n",
    "resuelve_linternas(linternas3,astar_search,True, linternas3.h1)"
   ]
  },
  {
   "cell_type": "code",
   "execution_count": null,
   "metadata": {},
   "outputs": [],
   "source": []
  }
 ],
 "metadata": {
  "kernelspec": {
   "display_name": "Python 3",
   "language": "python",
   "name": "python3"
  },
  "language_info": {
   "codemirror_mode": {
    "name": "ipython",
    "version": 3
   },
   "file_extension": ".py",
   "mimetype": "text/x-python",
   "name": "python",
   "nbconvert_exporter": "python",
   "pygments_lexer": "ipython3",
   "version": "3.7.6"
  }
 },
 "nbformat": 4,
 "nbformat_minor": 4
}
