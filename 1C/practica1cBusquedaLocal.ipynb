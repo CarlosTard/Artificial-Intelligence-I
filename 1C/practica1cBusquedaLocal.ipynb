{
 "cells": [
  {
   "cell_type": "markdown",
   "metadata": {},
   "source": [
    "## Carlos Morán Alfonso y Carlos Tardón Rubio grupo 9"
   ]
  },
  {
   "cell_type": "markdown",
   "metadata": {},
   "source": [
    "# Práctica 1C - Inteligencia Artificial\n",
    "## Belén Díaz Agudo -  Facultad de Informática UCM\n",
    "## Búsqueda local\n",
    "En esta primera parte usaremos ejercicios paso a paso para familiarizarnos con la resolución de problemas sencillos de optimización, como la maximización o minimización de una función, o el problema de la mochila o del viajante, problemas conocidos cuya resolución se ha abordado con técnicas algorítmicas y que vamos a resolver utilizando algoritmos de búsqueda local. En la segunda parte de la práctica se pide resolver el problema de la organización de jornadas informáticas dado en el enunciado."
   ]
  },
  {
   "cell_type": "markdown",
   "metadata": {},
   "source": [
    "## Parte 1. Algoritmo de escalada\n",
    "Hill Climbing es un algoritmo de búsqueda local heurística utilizada para problemas de optimización.\n",
    "Esta solución puede o no ser el óptimo global. El algoritmo es una variante del algoritmo de generación y prueba.\n",
    "<br>\n",
    "En general, el algoritmo funciona de la siguiente manera:\n",
    "- Evaluar el estado inicial.\n",
    "- Si es igual al estado del objetivo, terminamos.\n",
    "- Encuentra un estado vecino al estado actual\n",
    "- Evaluar este estado. Si está más cerca del estado objetivo que antes, reemplace el estado inicial con este estado y repita estos pasos.\n",
    "<br>\n",
    "Usaremos la implementación de AIMA que está en el módulo search.py\n",
    "\n",
    "    def hill_climbing(problem):\n",
    "        \"\"\"From the initial node, keep choosing the neighbor with highest value,\n",
    "        stopping when no neighbor is better. [Figure 4.2]\"\"\"\n",
    "        current = Node(problem.initial)\n",
    "        while True:\n",
    "            neighbors = current.expand(problem)\n",
    "            if not neighbors:\n",
    "                break\n",
    "            neighbor = argmax_random_tie(neighbors,\n",
    "                                     key=lambda node: problem.value(node.state))\n",
    "            if problem.value(neighbor.state) <= problem.value(current.state):\n",
    "                break\n",
    "            current = neighbor\n",
    "        return current.state\n"
   ]
  },
  {
   "cell_type": "markdown",
   "metadata": {},
   "source": [
    "### TSP (Travelling Salesman Problem): el problema del viajante\n",
    "Dado un conjunto de ciudades y la distancia entre cada par de ciudades, el problema es encontrar la ruta más corta posible que visite cada ciudad exactamente una vez y regrese al punto de partida. Es un problema NP hard. No existen una solución de coste polinomial. "
   ]
  },
  {
   "cell_type": "code",
   "execution_count": 1,
   "metadata": {},
   "outputs": [],
   "source": [
    "##Resolvereremos el problema del viajante TSP para encontrar una solución aproximada.\n",
    "from search import *\n",
    "\n",
    "class TSP_problem(Problem):\n",
    "\n",
    "    def two_opt(self, state):\n",
    "        \"\"\" Neighbour generating function for Traveling Salesman Problem \"\"\"\n",
    "        neighbour_state = state[:]\n",
    "        left = random.randint(0, len(neighbour_state) - 1)\n",
    "        right = random.randint(0, len(neighbour_state) - 1)\n",
    "        if left > right:\n",
    "            left, right = right, left\n",
    "        neighbour_state[left: right + 1] = reversed(neighbour_state[left: right + 1])\n",
    "        return neighbour_state\n",
    "\n",
    "    def actions(self, state):\n",
    "        \"\"\" action that can be excuted in given state \"\"\"\n",
    "        return [self.two_opt]\n",
    "\n",
    "    def result(self, state, action):\n",
    "        \"\"\"  result after applying the given action on the given state \"\"\"\n",
    "        return action(state)\n",
    "\n",
    "    def path_cost(self, c, state1, action, state2):\n",
    "        \"\"\" total distance for the Traveling Salesman to be covered if in state2  \"\"\"\n",
    "        cost = 0\n",
    "        for i in range(len(state2) - 1):\n",
    "            cost += distances[state2[i]][state2[i + 1]]\n",
    "        cost += distances[state2[0]][state2[-1]]\n",
    "        return cost\n",
    "\n",
    "    def value(self, state):\n",
    "        \"\"\" value of path cost given negative for the given state \"\"\"\n",
    "        return -1 * self.path_cost(None, None, None, state)"
   ]
  },
  {
   "cell_type": "code",
   "execution_count": 181,
   "metadata": {},
   "outputs": [],
   "source": [
    "## Resolveremos el TSP para las ciudades de la lista de ciudades de Rumanía.\n",
    "## ['Arad', 'Bucharest', 'Craiova', 'Drobeta', 'Eforie', 'Fagaras', 'Giurgiu', 'Hirsova', 'Iasi', 'Lugoj', 'Mehadia', 'Neamt', 'Oradea', 'Pitesti', 'Rimnicu', 'Sibiu', 'Timisoara', 'Urziceni', 'Vaslui', 'Zerind']"
   ]
  },
  {
   "cell_type": "code",
   "execution_count": 2,
   "metadata": {},
   "outputs": [],
   "source": [
    "# Usaremos la siguiente representacion del libro AIMA para el mapa de Rumanía.\n",
    "romania_map = UndirectedGraph(dict(\n",
    "    Arad=dict(Zerind=75, Sibiu=140, Timisoara=118),\n",
    "    Bucharest=dict(Urziceni=85, Pitesti=101, Giurgiu=90, Fagaras=211),\n",
    "    Craiova=dict(Drobeta=120, Rimnicu=146, Pitesti=138),\n",
    "    Drobeta=dict(Mehadia=75),\n",
    "    Eforie=dict(Hirsova=86),\n",
    "    Fagaras=dict(Sibiu=99),\n",
    "    Hirsova=dict(Urziceni=98),\n",
    "    Iasi=dict(Vaslui=92, Neamt=87),\n",
    "    Lugoj=dict(Timisoara=111, Mehadia=70),\n",
    "    Oradea=dict(Zerind=71, Sibiu=151),\n",
    "    Pitesti=dict(Rimnicu=97),\n",
    "    Rimnicu=dict(Sibiu=80),\n",
    "    Urziceni=dict(Vaslui=142)))\n",
    "\n",
    "romania_map.locations = dict(\n",
    "    Arad=(91, 492), Bucharest=(400, 327), Craiova=(253, 288),\n",
    "    Drobeta=(165, 299), Eforie=(562, 293), Fagaras=(305, 449),\n",
    "    Giurgiu=(375, 270), Hirsova=(534, 350), Iasi=(473, 506),\n",
    "    Lugoj=(165, 379), Mehadia=(168, 339), Neamt=(406, 537),\n",
    "    Oradea=(131, 571), Pitesti=(320, 368), Rimnicu=(233, 410),\n",
    "    Sibiu=(207, 457), Timisoara=(94, 410), Urziceni=(456, 350),\n",
    "    Vaslui=(509, 444), Zerind=(108, 531))"
   ]
  },
  {
   "cell_type": "markdown",
   "metadata": {},
   "source": [
    "Es bastante sencillo entender este `romania_map`. El primer nodo ** Arad ** tiene tres vecinos llamados ** Zerind **, ** Sibiu **, ** Timisoara **. Cada uno de estos nodos son 75, 140, 118 unidades aparte de ** Arad ** respectivamente. Y lo mismo ocurre con otros nodos.\n",
    "\n",
    "Y `romania_map.locations` contiene las posiciones de cada uno de los nodos. \n",
    "Como heurística se puede usar la distancia en línea recta o la distancia manhattan (que es diferente de la proporcionada en `romania_map`) entre dos ciudades."
   ]
  },
  {
   "cell_type": "code",
   "execution_count": 3,
   "metadata": {},
   "outputs": [
    {
     "name": "stdout",
     "output_type": "stream",
     "text": [
      "{'Arad': (91, 492), 'Bucharest': (400, 327), 'Craiova': (253, 288), 'Drobeta': (165, 299), 'Eforie': (562, 293), 'Fagaras': (305, 449), 'Giurgiu': (375, 270), 'Hirsova': (534, 350), 'Iasi': (473, 506), 'Lugoj': (165, 379), 'Mehadia': (168, 339), 'Neamt': (406, 537), 'Oradea': (131, 571), 'Pitesti': (320, 368), 'Rimnicu': (233, 410), 'Sibiu': (207, 457), 'Timisoara': (94, 410), 'Urziceni': (456, 350), 'Vaslui': (509, 444), 'Zerind': (108, 531)}\n"
     ]
    }
   ],
   "source": [
    "romania_locations = romania_map.locations\n",
    "print(romania_locations)"
   ]
  },
  {
   "cell_type": "code",
   "execution_count": 4,
   "metadata": {},
   "outputs": [],
   "source": [
    "# node colors, node positions and node label positions\n",
    "node_colors = {node: 'white' for node in romania_map.locations.keys()}\n",
    "node_positions = romania_map.locations\n",
    "node_label_pos = { k:[v[0],v[1]-10]  for k,v in romania_map.locations.items() }\n",
    "edge_weights = {(k, k2) : v2 for k, v in romania_map.graph_dict.items() for k2, v2 in v.items()}\n",
    "\n",
    "romania_graph_data = {  'graph_dict' : romania_map.graph_dict,\n",
    "                        'node_colors': node_colors,\n",
    "                        'node_positions': node_positions,\n",
    "                        'node_label_positions': node_label_pos,\n",
    "                         'edge_weights': edge_weights\n",
    "                     }"
   ]
  },
  {
   "cell_type": "code",
   "execution_count": 5,
   "metadata": {},
   "outputs": [],
   "source": [
    "from IPython.display import HTML\n",
    "from IPython.display import display\n",
    "from PIL import Image\n",
    "from matplotlib import lines\n",
    "import ipywidgets as widgets\n",
    "import matplotlib.pyplot as plt\n",
    "import networkx as nx\n",
    "import numpy as np"
   ]
  },
  {
   "cell_type": "code",
   "execution_count": 186,
   "metadata": {},
   "outputs": [],
   "source": [
    "def show_map(graph_data, node_colors=None):\n",
    "    G = nx.Graph(graph_data['graph_dict'])\n",
    "    node_colors = node_colors or graph_data['node_colors']\n",
    "    node_positions = graph_data['node_positions']\n",
    "    node_label_pos = graph_data['node_label_positions']\n",
    "    edge_weights = graph_data['edge_weights']\n",
    "\n",
    "    # set the size of the plot\n",
    "    plt.figure(figsize=(18, 13))\n",
    "    # draw the graph (both nodes and edges) with locations from romania_locations\n",
    "    nx.draw(G, pos={k: node_positions[k] for k in G.nodes()},\n",
    "            node_color=[node_colors[node] for node in G.nodes()], linewidths=0.3, edgecolors='k')\n",
    "\n",
    "    # draw labels for nodes\n",
    "    node_label_handles = nx.draw_networkx_labels(G, pos=node_label_pos, font_size=14)\n",
    "\n",
    "    # add a white bounding box behind the node labels\n",
    "    [label.set_bbox(dict(facecolor='white', edgecolor='none')) for label in node_label_handles.values()]\n",
    "\n",
    "    # add edge lables to the graph\n",
    "    nx.draw_networkx_edge_labels(G, pos=node_positions, edge_labels=edge_weights, font_size=14)\n",
    "\n",
    "    # add a legend\n",
    "    white_circle = lines.Line2D([], [], color=\"white\", marker='o', markersize=15, markerfacecolor=\"white\")\n",
    "    orange_circle = lines.Line2D([], [], color=\"orange\", marker='o', markersize=15, markerfacecolor=\"orange\")\n",
    "    red_circle = lines.Line2D([], [], color=\"red\", marker='o', markersize=15, markerfacecolor=\"red\")\n",
    "    gray_circle = lines.Line2D([], [], color=\"gray\", marker='o', markersize=15, markerfacecolor=\"gray\")\n",
    "    green_circle = lines.Line2D([], [], color=\"green\", marker='o', markersize=15, markerfacecolor=\"green\")\n",
    "    plt.legend((white_circle, orange_circle, red_circle, gray_circle, green_circle),\n",
    "               ('Un-explored', 'Frontier', 'Currently Exploring', 'Explored', 'Final Solution'),\n",
    "               numpoints=1, prop={'size': 16}, loc=(.8, .75))\n",
    "\n",
    "    # show the plot. No need to use in notebooks. nx.draw will show the graph itself.\n",
    "    plt.show()"
   ]
  },
  {
   "cell_type": "code",
   "execution_count": 187,
   "metadata": {},
   "outputs": [
    {
     "data": {
      "image/png": "[encoded data removed]",
      "text/plain": [
       "<Figure size 1296x936 with 1 Axes>"
      ]
     },
     "metadata": {},
     "output_type": "display_data"
    }
   ],
   "source": [
    "show_map(romania_graph_data)"
   ]
  },
  {
   "cell_type": "code",
   "execution_count": 5,
   "metadata": {},
   "outputs": [],
   "source": [
    "##from notebook import show_map\n",
    "##show_map(romania_graph_data)"
   ]
  },
  {
   "cell_type": "code",
   "execution_count": 6,
   "metadata": {},
   "outputs": [
    {
     "name": "stdout",
     "output_type": "stream",
     "text": [
      "['Arad', 'Bucharest', 'Craiova', 'Drobeta', 'Eforie', 'Fagaras', 'Giurgiu', 'Hirsova', 'Iasi', 'Lugoj', 'Mehadia', 'Neamt', 'Oradea', 'Pitesti', 'Rimnicu', 'Sibiu', 'Timisoara', 'Urziceni', 'Vaslui', 'Zerind']\n"
     ]
    }
   ],
   "source": [
    "## el siguiente código crea un diccionario y calcula y añade al diccionario la distancia manhattan entre las ciudades. \n",
    "import numpy as np\n",
    "\n",
    "distances = {}\n",
    "all_cities = []\n",
    "\n",
    "for city in romania_map.locations.keys():\n",
    "    distances[city] = {}\n",
    "    all_cities.append(city)\n",
    "    \n",
    "all_cities.sort()\n",
    "print(all_cities)\n",
    "\n",
    "for name_1, coordinates_1 in romania_map.locations.items():\n",
    "        for name_2, coordinates_2 in romania_map.locations.items():\n",
    "            distances[name_1][name_2] = np.linalg.norm(\n",
    "                [coordinates_1[0] - coordinates_2[0], coordinates_1[1] - coordinates_2[1]])\n",
    "            distances[name_2][name_1] = np.linalg.norm(\n",
    "                [coordinates_1[0] - coordinates_2[0], coordinates_1[1] - coordinates_2[1]])"
   ]
  },
  {
   "cell_type": "code",
   "execution_count": 15,
   "metadata": {},
   "outputs": [
    {
     "name": "stdout",
     "output_type": "stream",
     "text": [
      "-4264.1914235182\n"
     ]
    }
   ],
   "source": [
    "# Creamos una instancia del problema TSP con la lista de ciudades anterior que se na extraido del mapa.\n",
    "# En el mapa hay informacion de las distancias que se utilizan en la clase TSP_problem para calcular el coste y las heurísticas.\n",
    "tsp = TSP_problem(all_cities)"
   ]
  },
  {
   "cell_type": "code",
   "execution_count": 7,
   "metadata": {},
   "outputs": [],
   "source": [
    "## Redefinimos el hill climbing de AIMA para que el método de generacion de vecinos sea acceder al grafo que hemos definido para el TSP\n",
    "\n",
    "def hill_climbing(problem):\n",
    "    \n",
    "    \"\"\"From the initial node, keep choosing the neighbor with highest value,\n",
    "    stopping when no neighbor is better. [Figure 4.2]\"\"\"\n",
    "    \n",
    "    def find_neighbors(state, number_of_neighbors=100):\n",
    "        \"\"\" finds neighbors using two_opt method \"\"\"\n",
    "        \n",
    "        neighbors = []\n",
    "        \n",
    "        for i in range(number_of_neighbors):\n",
    "            new_state = problem.two_opt(state)\n",
    "            neighbors.append(Node(new_state))\n",
    "            state = new_state\n",
    "            \n",
    "        return neighbors\n",
    "\n",
    "    # as this is a stochastic algorithm, we will set a cap on the number of iterations\n",
    "    iterations = 10000\n",
    "    \n",
    "    current = Node(problem.initial)\n",
    "    while iterations:\n",
    "        neighbors = find_neighbors(current.state)\n",
    "        if not neighbors:\n",
    "            break\n",
    "        neighbor = argmax_random_tie(neighbors,\n",
    "                                     key=lambda node: problem.value(node.state))\n",
    "        if problem.value(neighbor.state) >= problem.value(current.state):\n",
    "            current.state = neighbor.state\n",
    "        iterations -= 1\n",
    "    print(f\"Value: {problem.value(current.state)}\")\n",
    "    return current.state"
   ]
  },
  {
   "cell_type": "code",
   "execution_count": 34,
   "metadata": {},
   "outputs": [
    {
     "name": "stdout",
     "output_type": "stream",
     "text": [
      "Value: -1589.8433308050926\n",
      "['Oradea', 'Zerind', 'Arad', 'Timisoara', 'Lugoj', 'Mehadia', 'Drobeta', 'Craiova', 'Pitesti', 'Giurgiu', 'Bucharest', 'Urziceni', 'Eforie', 'Hirsova', 'Vaslui', 'Iasi', 'Neamt', 'Fagaras', 'Rimnicu', 'Sibiu']\n"
     ]
    }
   ],
   "source": [
    "# Y lo resolvemos con escalada. \n",
    "print(hill_climbing(tsp))"
   ]
  },
  {
   "cell_type": "code",
   "execution_count": 30,
   "metadata": {
    "scrolled": true
   },
   "outputs": [
    {
     "name": "stdout",
     "output_type": "stream",
     "text": [
      "Value: -1589.8433308050924\n",
      "['Drobeta', 'Craiova', 'Pitesti', 'Giurgiu', 'Bucharest', 'Urziceni', 'Eforie', 'Hirsova', 'Vaslui', 'Iasi', 'Neamt', 'Fagaras', 'Rimnicu', 'Sibiu', 'Oradea', 'Zerind', 'Arad', 'Timisoara', 'Lugoj', 'Mehadia']\n"
     ]
    }
   ],
   "source": [
    "print(hill_climbing(tsp))"
   ]
  },
  {
   "cell_type": "code",
   "execution_count": 31,
   "metadata": {},
   "outputs": [
    {
     "name": "stdout",
     "output_type": "stream",
     "text": [
      "Value: -1589.8433308050924\n",
      "['Mehadia', 'Drobeta', 'Craiova', 'Pitesti', 'Giurgiu', 'Bucharest', 'Urziceni', 'Eforie', 'Hirsova', 'Vaslui', 'Iasi', 'Neamt', 'Fagaras', 'Rimnicu', 'Sibiu', 'Oradea', 'Zerind', 'Arad', 'Timisoara', 'Lugoj']\n"
     ]
    }
   ],
   "source": [
    "print(hill_climbing(tsp))"
   ]
  },
  {
   "cell_type": "code",
   "execution_count": 33,
   "metadata": {},
   "outputs": [
    {
     "name": "stdout",
     "output_type": "stream",
     "text": [
      "Value: -1593.5354259584917\n",
      "Value: -1589.8433308050924\n",
      "Value: -1593.5354259584917\n",
      "Value: -1593.5354259584917\n",
      "Value: -1684.4204383087335\n",
      "Value: -1684.4204383087335\n",
      "Value: -1589.8433308050924\n",
      "Value: -1593.5354259584917\n",
      "14.9 s ± 1.25 s per loop (mean ± std. dev. of 7 runs, 1 loop each)\n"
     ]
    }
   ],
   "source": [
    "%%timeit\n",
    "hill_climbing(tsp)"
   ]
  },
  {
   "cell_type": "code",
   "execution_count": 8,
   "metadata": {},
   "outputs": [],
   "source": [
    "##Nota: Esta implementación es un intento de implementación distinta para intentar comparar el \n",
    "# algortimo que nos dan con los vistos anteriormente. Al final no nos funcionó y está incompleto\n",
    "\n",
    "import operator as op\n",
    "import functools as funct\n",
    "\n",
    "class TSP_ad_hoc(Problem):\n",
    "\n",
    "    def __init__(self, cities, distances):\n",
    "        self.cities = cities\n",
    "        self.distances = distances\n",
    "        self.initial = (tuple([False for i in range(0,len(self.cities))]),0,\"\",())\n",
    "\n",
    "    def actions(self, state):\n",
    "        return tuple([i for i in range(0,len(self.cities)) if not state[0][i]])\n",
    "\n",
    "    def result(self, state, action):\n",
    "        new_cities = list(state[0])\n",
    "        new_visited = list(state[3])\n",
    "        new_cities[action] = True\n",
    "        new_visited.append(self.cities[action])\n",
    "        new_cost = state[1]\n",
    "        if state[2] != \"\":\n",
    "            new_cost = new_cost + self.distances[state[2]][self.cities[action]] \n",
    "        return (tuple(new_cities),new_cost,self.cities[action],tuple(new_visited))\n",
    "    \n",
    "    def goal_test(self,state):\n",
    "        return len(state[3]) == len(self.cities)"
   ]
  },
  {
   "cell_type": "markdown",
   "metadata": {},
   "source": [
    "### Ejercicio 1. Resuelve el problema TSP con el algoritmo de escalada por máxima pendiente en el mapa de ciudades de Rumanía y explica el resultado obtenido. \n",
    "\n",
    "Realiza un análisis razonado de las propiedades del algoritmo: eficiencia y optimalidad en base a la ejecución.  \n",
    "   \n",
    "El algoritmo no es óptimo. Prueba de ello es que una ejecución del algoritmo devolvió la solución:  \n",
    "['Fagaras', 'Neamt', 'Iasi', 'Vaslui', 'Hirsova', 'Eforie', 'Urziceni', 'Bucharest', 'Giurgiu', 'Craiova', 'Drobeta', 'Mehadia', 'Lugoj', 'Timisoara', 'Arad', 'Zerind', 'Oradea', 'Sibiu', 'Rimnicu', 'Pitesti']\n",
    "de coste 1593.53, y la siguiente ejecución:  \n",
    "['Drobeta', 'Craiova', 'Pitesti', 'Giurgiu', 'Bucharest', 'Urziceni', 'Eforie', 'Hirsova', 'Vaslui', 'Iasi', 'Neamt', 'Fagaras', 'Rimnicu', 'Sibiu', 'Oradea', 'Zerind', 'Arad', 'Timisoara', 'Lugoj', 'Mehadia']\n",
    "de coste 1589.84, que es menor que la primera ejecución(y por tanto, la primera ejecución no devolvió una solución óptima). De hecho, la ruta más corta que hemos encontrado hasta ahora tiene longitud 1589.84 (es un minimo, puede ser el global o uno local)\n",
    "\n",
    "En cuanto a la eficiencia, como se observa en la implementación, el algoritmo de escalada por máxima pendiente es más eficiente en memoria que los algoritmos vistos hasta ahora, pues como mucho tenemos number_of_neighbors estados guardados a la vez en memoria(por defecto 100). Con respecto a la complejidad en tiempo, de media tarda 14.6 segundos en llegar a una solución. Pese a que el espacio de búsqueda tiene n! estados (donde n=20 es el número de ciudades), tenemos una cota superior del número de iteraciones que se van a dar, así que nunca se recorrerán todos los estados.\n",
    "\n",
    "Para ver si ha encontrado el óptimo global, vamos a probar con distintos estados iniciales aleatorios, y ejecutamos el algoritmo sobre ellos"
   ]
  },
  {
   "cell_type": "code",
   "execution_count": 18,
   "metadata": {},
   "outputs": [
    {
     "name": "stdout",
     "output_type": "stream",
     "text": [
      "['Vaslui', 'Pitesti', 'Iasi', 'Craiova', 'Fagaras', 'Zerind', 'Giurgiu', 'Hirsova', 'Neamt', 'Rimnicu', 'Mehadia', 'Lugoj', 'Urziceni', 'Timisoara', 'Sibiu', 'Oradea', 'Eforie', 'Drobeta', 'Arad', 'Bucharest']\n"
     ]
    }
   ],
   "source": [
    "import random\n",
    "random.shuffle(all_cities)\n",
    "print(all_cities)"
   ]
  },
  {
   "cell_type": "code",
   "execution_count": 20,
   "metadata": {},
   "outputs": [
    {
     "name": "stdout",
     "output_type": "stream",
     "text": [
      "Value: -1589.8433308050924\n",
      "Value: -1589.8433308050924\n",
      "Value: -1589.8433308050924\n",
      "Value: -1589.8433308050924\n",
      "Value: -1589.8433308050924\n",
      "Value: -1589.8433308050924\n",
      "Value: -1593.5354259584917\n",
      "Value: -1593.5354259584917\n",
      "12.4 s ± 817 ms per loop (mean ± std. dev. of 7 runs, 1 loop each)\n"
     ]
    }
   ],
   "source": [
    "%%timeit\n",
    "random.shuffle(all_cities)\n",
    "tsp = TSP_problem(all_cities)\n",
    "hill_climbing(tsp)"
   ]
  },
  {
   "cell_type": "markdown",
   "metadata": {},
   "source": [
    "Según se ve, desde estados iniciales aleatorios no se llega a una solucion de coste menor a 1589.8533308050924, por lo que podemos escoger como candidato a solución global:\n",
    "\n",
    "['Mehadia', 'Drobeta', 'Craiova', 'Pitesti', 'Giurgiu', 'Bucharest', 'Urziceni', 'Eforie', 'Hirsova', 'Vaslui', 'Iasi', 'Neamt', 'Fagaras', 'Rimnicu', 'Sibiu', 'Oradea', 'Zerind', 'Arad', 'Timisoara', 'Lugoj']\n",
    "De coste: 1589.8433308050924  \n",
    "\n",
    "El algoritmo ha encontrado(salvo permutación cíclica) la misma solución en varias iteraciones. Muestra de ello:  \n",
    "['Drobeta', 'Craiova', 'Pitesti', 'Giurgiu', 'Bucharest', 'Urziceni', 'Eforie', 'Hirsova', 'Vaslui', 'Iasi', 'Neamt', 'Fagaras', 'Rimnicu', 'Sibiu', 'Oradea', 'Zerind', 'Arad', 'Timisoara', 'Lugoj', 'Mehadia']  \n",
    "con valor 1589.8433308050924  \n",
    "['Mehadia', 'Drobeta', 'Craiova', 'Pitesti', 'Giurgiu', 'Bucharest', 'Urziceni', 'Eforie', 'Hirsova', 'Vaslui', 'Iasi', 'Neamt', 'Fagaras', 'Rimnicu', 'Sibiu', 'Oradea', 'Zerind', 'Arad', 'Timisoara', 'Lugoj']  \n",
    "con valor 1589.8433308050924   \n",
    "Que son soluciones equivalentes(la ciudad inicial es distinta, pero se recorren en el mismo orden)  \n",
    "\n",
    "Para compararlo con los algoritmos de búsqueda exhaustiva, hay que darse cuenta de que las posibles soluciones son las permutaciones de la lista de ciudades, así que bastaría implementar una búsqueda exhaustiva que genere todas esas permutaciones. Como ese espacio tiene n! estados, lo suyo sería buscar una heurística y usar astar. Esto, al contrario que hill climbing, garantizaría el determinismo de la solución que proporciona el algoritmo.\n"
   ]
  },
  {
   "cell_type": "markdown",
   "metadata": {},
   "source": [
    "## Parte 2. Enfriamiento simulado ( simulated annealing) \n",
    "El algoritmo de enfriamiento simulado puede manejar las situaciones de óptimo local o mesetas típicas en algoritmos de escalada.\n",
    "<br>\n",
    "El enfriamiento simulado es bastante similar a la escalada pero en lugar de elegir el mejor movimiento en cada iteración, elige un movimiento aleatorio. Si este movimiento aleatorio nos acerca al óptimo global, será aceptado,\n",
    "pero si no lo hace, el algoritmo puede aceptar o rechazar el movimiento en función de una probabilidad dictada por la temperatura.  Cuando la `temperatura` es alta, es más probable que el algoritmo acepte un movimiento aleatorio incluso si es malo. A bajas temperaturas, solo se aceptan buenos movimientos, con alguna excepción ocasional.\n",
    "Esto permite la exploración del espacio de estado y evita que el algoritmo se atasque en el óptimo local.\n",
    "\n",
    "    Usaremos la implementación de AIMA del modulo search.py\n",
    "    \n",
    "    def simulated_annealing(problem, schedule=exp_schedule()):\n",
    "    \"\"\"[Figure 4.5] CAUTION: This differs from the pseudocode as it\n",
    "    returns a state instead of a Node.\"\"\"\n",
    "    current = Node(problem.initial)\n",
    "    for t in range(sys.maxsize):\n",
    "        T = schedule(t)\n",
    "        if T == 0:\n",
    "            return current.state\n",
    "        neighbors = current.expand(problem)\n",
    "        if not neighbors:\n",
    "            return current.state\n",
    "        next_choice = random.choice(neighbors)\n",
    "        delta_e = problem.value(next_choice.state) - problem.value(current.state)\n",
    "        if delta_e > 0 or probability(math.exp(delta_e / T)):\n",
    "            current = next_choice"
   ]
  },
  {
   "cell_type": "markdown",
   "metadata": {},
   "source": [
    "Como hemos visto en clase hay varios métodos de enfriamiento (scheduling routine) \n",
    "Se puede variar el método de enfriamiento. En la implementación actual estamos usando el método de enfriamiento exponencial (que se pasa como parámetro). \n",
    "\n",
    "    def exp_schedule(k=20, lam=0.005, limit=100):\n",
    "        \"\"\"One possible schedule function for simulated annealing\"\"\"\n",
    "        return lambda t: (k * math.exp(-lam * t) if t < limit else 0)"
   ]
  },
  {
   "cell_type": "markdown",
   "metadata": {},
   "source": [
    "Como ejemplo, vamos a definir un problema sencillo de encontrar el punto más alto en una rejilla. Este problema está definido en el módulo search.py como PeakFindingProblem. Lo reproducimos aquí y creamos una rejilla simple."
   ]
  },
  {
   "cell_type": "code",
   "execution_count": 42,
   "metadata": {},
   "outputs": [],
   "source": [
    "initial = (0, 0)\n",
    "grid = [[3, 7, 2, 8], [5, 2, 9, 1], [5, 3, 3, 1]]"
   ]
  },
  {
   "cell_type": "code",
   "execution_count": 6,
   "metadata": {},
   "outputs": [],
   "source": [
    "# Pre-defined actions for PeakFindingProblem\n",
    "directions4 = { 'W':(-1, 0), 'N':(0, 1), 'E':(1, 0), 'S':(0, -1) }\n",
    "directions8 = dict(directions4) \n",
    "directions8.update({'NW':(-1, 1), 'NE':(1, 1), 'SE':(1, -1), 'SW':(-1, -1) })\n",
    "\n",
    "class PeakFindingProblem(Problem):\n",
    "    \"\"\"Problem of finding the highest peak in a limited grid\"\"\"\n",
    "\n",
    "    def __init__(self, initial, grid, defined_actions=directions4):\n",
    "        \"\"\"The grid is a 2 dimensional array/list whose state is specified by tuple of indices\"\"\"\n",
    "        Problem.__init__(self, initial)\n",
    "        self.grid = grid\n",
    "        self.defined_actions = defined_actions\n",
    "        self.n = len(grid)\n",
    "        assert self.n > 0\n",
    "        self.m = len(grid[0])\n",
    "        assert self.m > 0\n",
    "\n",
    "    def actions(self, state):\n",
    "        \"\"\"Returns the list of actions which are allowed to be taken from the given state\"\"\"\n",
    "        allowed_actions = []\n",
    "        for action in self.defined_actions:\n",
    "            next_state = vector_add(state, self.defined_actions[action])\n",
    "            if next_state[0] >= 0 and next_state[1] >= 0 and next_state[0] <= self.n - 1 and next_state[1] <= self.m - 1:\n",
    "                allowed_actions.append(action)\n",
    "\n",
    "        return allowed_actions\n",
    "\n",
    "    def result(self, state, action):\n",
    "        \"\"\"Moves in the direction specified by action\"\"\"\n",
    "        return vector_add(state, self.defined_actions[action])\n",
    "\n",
    "    def value(self, state):\n",
    "        \"\"\"Value of a state is the value it is the index to\"\"\"\n",
    "        x, y = state\n",
    "        assert 0 <= x < self.n\n",
    "        assert 0 <= y < self.m\n",
    "        return self.grid[x][y]\n"
   ]
  },
  {
   "cell_type": "code",
   "execution_count": 24,
   "metadata": {},
   "outputs": [],
   "source": [
    "problem = PeakFindingProblem(initial, grid, directions4)"
   ]
  },
  {
   "cell_type": "code",
   "execution_count": 11,
   "metadata": {},
   "outputs": [
    {
     "data": {
      "text/plain": [
       "9"
      ]
     },
     "execution_count": 11,
     "metadata": {},
     "output_type": "execute_result"
    }
   ],
   "source": [
    "# Lo resolvemos con enfriamiento simulado\n",
    "\n",
    "solutions = [problem.value(simulated_annealing(problem)) for i in range(100)]\n",
    "max(solutions)"
   ]
  },
  {
   "cell_type": "code",
   "execution_count": 12,
   "metadata": {},
   "outputs": [],
   "source": [
    "def hill_climbing(problem):\n",
    "    \"\"\"From the initial node, keep choosing the neighbor with highest value,\n",
    "    stopping when no neighbor is better. [Figure 4.2]\"\"\"\n",
    "    current = Node(problem.initial)\n",
    "    while True:\n",
    "        neighbors = current.expand(problem)\n",
    "        if not neighbors:\n",
    "            break\n",
    "        neighbor = argmax_random_tie(neighbors,\n",
    "                                     key=lambda node: problem.value(node.state))\n",
    "        if problem.value(neighbor.state) <= problem.value(current.state):\n",
    "            break\n",
    "        current = neighbor\n",
    "    return current.state"
   ]
  },
  {
   "cell_type": "code",
   "execution_count": 25,
   "metadata": {},
   "outputs": [
    {
     "data": {
      "text/plain": [
       "7"
      ]
     },
     "execution_count": 25,
     "metadata": {},
     "output_type": "execute_result"
    }
   ],
   "source": [
    "solution = problem.value(hill_climbing(problem))\n",
    "solution"
   ]
  },
  {
   "cell_type": "markdown",
   "metadata": {},
   "source": [
    "### Ejercicio 2.  Resuelve el problema anterior de encontrar el punto máximo en una rejilla. Comenta y razona los resultados obtenidos en distintas rejjillas con los algoritmos de enfriamiento simulado y escalada por máxima pendiente. \n",
    "\n",
    "Como hemos visto en el primer grid, el algoritmo de enfriamiento simulado encuentra el maximo global, sin quedarse estancado en un máximo local. Esto se debe gracias al componente aleatorio del algoritmo, lo cual permite escoger movimientos que, si bien al principio empeoran la solución, después permiten llegar al máximo global. Sin embargo, el algoritmo de hill climbing se queda estancado en un máximo local(el 7). Podría solucionarse empezando desde varios puntos escogidos aleatoriamente, ejecutar un hill climbing desde cada uno de ellos y quedarse con el maximo(aunque esto no asegura hallar el maximo global):"
   ]
  },
  {
   "cell_type": "code",
   "execution_count": 74,
   "metadata": {},
   "outputs": [],
   "source": [
    "def random_grid_hill_climbing(grid, s=100):\n",
    "    current = grid[0][0] ## solucion actual.\n",
    "    for i in range(0,s):\n",
    "        initial = (random.randrange(len(grid)),random.randrange(len(grid[0])))\n",
    "        problem = PeakFindingProblem(initial, grid, directions4)\n",
    "        val = problem.value(hill_climbing(problem))\n",
    "        current = max(val, current)\n",
    "    return current"
   ]
  },
  {
   "cell_type": "code",
   "execution_count": 43,
   "metadata": {},
   "outputs": [
    {
     "data": {
      "text/plain": [
       "9"
      ]
     },
     "execution_count": 43,
     "metadata": {},
     "output_type": "execute_result"
    }
   ],
   "source": [
    "random_grid_hill_climbing(grid)"
   ]
  },
  {
   "cell_type": "code",
   "execution_count": 44,
   "metadata": {},
   "outputs": [],
   "source": [
    "## Probemos con otra rejilla\n",
    "grid = [[0.00, 0.00, 0.00, 0.00, 0.00, 0.00, 0.00, 0.00, 0.00],\n",
    "        [0.00, 0.00, 0.00, 0.00, 0.00, 0.00, 0.00, 0.00, 0.00],\n",
    "        [0.00, 0.00, 0.00, 0.40, 0.40, 0.00, 0.00, 0.00, 0.00],\n",
    "        [0.00, 0.00, 0.00, 0.00, 0.00, 0.00, 0.00, 0.70, 1.40],\n",
    "        [2.20, 1.80, 0.70, 0.00, 0.00, 0.00, 0.00, 0.00, 0.00],\n",
    "        [2.20, 1.80, 4.70, 6.50, 4.30, 1.80, 0.70, 0.00, 0.00],\n",
    "        [0.00, 0.00, 0.00, 0.00, 0.00, 0.00, 11.2, 0.70, 1.40],\n",
    "        [2.20, 1.80, 0.70, 0.00, 0.00, 9.00, 0.00, 0.00, 0.00],\n",
    "        [2.20, 1.80, 4.70, 6.50, 4.30, 1.80, 0.70, 0.00, 0.00],\n",
    "        [0.00, 0.00, 0.00, 0.00, 0.00, 0.00, 0.00, 0.70, 1.40],\n",
    "        [2.20, 1.80, 0.70, 0.00, 0.00, 0.00, 0.00, 0.00, 0.00],\n",
    "        [2.20, 1.80, 4.70, 8.50, 4.30, 1.80, 0.70, 0.00, 0.00]]\n",
    "problem = PeakFindingProblem(initial, grid, directions4)"
   ]
  },
  {
   "cell_type": "code",
   "execution_count": 45,
   "metadata": {},
   "outputs": [
    {
     "data": {
      "text/plain": [
       "11.2"
      ]
     },
     "execution_count": 45,
     "metadata": {},
     "output_type": "execute_result"
    }
   ],
   "source": [
    "solutions = [problem.value(simulated_annealing(problem)) for i in range(100)]\n",
    "max(solutions)"
   ]
  },
  {
   "cell_type": "code",
   "execution_count": 46,
   "metadata": {},
   "outputs": [
    {
     "data": {
      "text/plain": [
       "0.0"
      ]
     },
     "execution_count": 46,
     "metadata": {},
     "output_type": "execute_result"
    }
   ],
   "source": [
    "solution = problem.value(hill_climbing(problem))\n",
    "solution"
   ]
  },
  {
   "cell_type": "markdown",
   "metadata": {},
   "source": [
    "Como vemos, enfriamiento simulado ha conseguido llegar al óptimo global (11.2), mientras que en hill climbing, con la celda de prueba vemos que no alcanzamos en ningún caso la solución porque la celda (0,0) (donde comenzamos) es una meseta. El algoritmo empieza y acaba en la misma celda. Algo parecido ocurre con la primera celda de prueba,[[3, 7, 2, 8], [5, 2, 9, 1], [5, 3, 3, 1]]. En ese caso hill_climbing siempre devuelve el 7 por ser un mínimo local y nunca llega al 9.  \n",
    "\n",
    "Con simulated_annealing cabamos alcanzando en ambos casos la solución. En esto ayuda que estamos ejecutando el algoritmo más de una vez para ambas rejillas, teniendo así más posibilidades de avanzar por la rejilla y encontrar el verdadero máximo y no un máximo local. Conviene resaltar que para las dos celdas de ejemplo dadas (especialmente en el caso de la segunda) nos interesa empezar con la temperatura razonablemente caliente.  \n",
    "\n",
    "Veamos qué tal se comporta hill climbing con puntos de inicio aleatorios:"
   ]
  },
  {
   "cell_type": "code",
   "execution_count": 48,
   "metadata": {},
   "outputs": [
    {
     "data": {
      "text/plain": [
       "11.2"
      ]
     },
     "execution_count": 48,
     "metadata": {},
     "output_type": "execute_result"
    }
   ],
   "source": [
    "random_grid_hill_climbing(grid)"
   ]
  },
  {
   "cell_type": "markdown",
   "metadata": {},
   "source": [
    "Como hemos visto, random_grid_hill_climbing también consigue llegar al máximo global. Esto tampoco es sorprendente, pues el algoritmo escoge aleatoriamente 100 puntos de inicio, y la rejilla de pruebas tiene 12x9 = 108 puntos. Para comparar su eficacia, habría que usar rejillas mucho más amplias"
   ]
  },
  {
   "cell_type": "code",
   "execution_count": 83,
   "metadata": {},
   "outputs": [],
   "source": [
    "grid = [[0.00, 0.00, 0.00, 0.00, 0.00, 0.00, 0.00, 0.00, 0.00, 0.00, 0.00, 0.00, 0.00, 0.00, 0.00, 0.00, 0.00],\n",
    "        [0.00, 0.00, 0.00, 0.00, 0.00, 0.00, 0.00, 0.00, 0.00, 0.00, 0.00, 0.40, 0.40, 0.00, 0.00, 0.00, 0.00],\n",
    "        [0.00, 0.00, 0.00, 0.40, 0.40, 0.00, 0.00, 0.00, 0.00, 0.00, 0.00, 0.00, 0.00, 0.00, 0.00, 0.70, 1.40],\n",
    "        [0.00, 0.00, 0.00, 0.00, 0.00, 0.00, 0.00, 0.70, 1.40, 1.80, 0.70, 0.00, 0.00, 0.00, 0.00, 0.00, 0.00],\n",
    "        [2.20, 1.80, 0.70, 0.00, 0.00, 0.00, 0.00, 0.00, 0.00, 1.80, 4.70, 6.50, 4.30, 1.80, 0.70, 0.00, 0.00],\n",
    "        [2.20, 1.80, 4.70, 6.50, 4.30, 1.80, 0.70, 0.00, 0.00, 0.00, 0.00, 0.00, 0.00, 8.00, 11.2, 9.70, 1.40],\n",
    "        [0.00, 0.00, 0.00, 0.00, 0.00, 0.00, 10.2, 0.70, 1.40, 1.80, 0.70, 0.00, 0.00, 9.00, 10.00, 0.00, 0.00],\n",
    "        [2.20, 1.80, 0.70, 0.00, 0.00, 9.00, 0.00, 0.00, 0.00, 1.80, 4.70, 6.50, 4.30, 1.80, 0.70, 0.00, 0.00],\n",
    "        [2.20, 1.80, 4.70, 6.50, 4.30, 1.80, 0.70, 0.00, 0.00, 0.00, 0.00, 0.00, 0.00, 0.00, 0.00, 0.70, 1.40],\n",
    "        [0.00, 0.00, 0.00, 0.00, 0.00, 0.00, 0.00, 0.70, 1.40, 1.80, 0.70, 0.00, 0.00, 0.00, 0.00, 0.00, 0.00],\n",
    "        [2.20, 1.80, 0.70, 0.00, 0.00, 0.00, 0.00, 0.00, 0.00, 1.80, 4.70, 8.50, 4.30, 1.80, 0.70, 0.00, 0.00],\n",
    "        [2.20, 1.80, 4.70, 8.50, 4.30, 1.80, 0.70, 0.00, 0.00, 1.80, 4.70, 8.50, 4.30, 1.80, 0.70, 0.00, 0.00]]\n",
    "problem = PeakFindingProblem((0,0), grid, directions4)"
   ]
  },
  {
   "cell_type": "code",
   "execution_count": 81,
   "metadata": {},
   "outputs": [
    {
     "data": {
      "text/plain": [
       "10.2"
      ]
     },
     "execution_count": 81,
     "metadata": {},
     "output_type": "execute_result"
    }
   ],
   "source": [
    "# En contadas ocasiones, no encuentra el máximo global. El iniciar en un punto fijo supone un agravio comparativo\n",
    "# con respecto a random_grid_hill_climbing\n",
    "solutions = [problem.value(simulated_annealing(problem)) for i in range(100)]\n",
    "max(solutions)"
   ]
  },
  {
   "cell_type": "code",
   "execution_count": 84,
   "metadata": {},
   "outputs": [
    {
     "data": {
      "text/plain": [
       "11.2"
      ]
     },
     "execution_count": 84,
     "metadata": {},
     "output_type": "execute_result"
    }
   ],
   "source": [
    "# Pese a ser un algoritmo que parte de hill_climbing, en casi todas las ejecuciones encuentra el máximo global,\n",
    "# con tan solo 20 puntos iniciales escogidos aleatoriamente, lo que muestra que es recomendable introducir \n",
    "#aleatoriedad en el punto de inicio\n",
    "random_grid_hill_climbing(grid,20)"
   ]
  },
  {
   "cell_type": "code",
   "execution_count": 193,
   "metadata": {},
   "outputs": [],
   "source": [
    "# Un último ejemplo. El máximo (1000) está en la celda más alejada del origen\n",
    "grid = [[0.00, 0.00, 0.00, 0.00, 0.00, 0.00, 0.00, 0.00, 0.00, 0.00, 0.00, 0.00, 0.00, 0.00, 0.00, 0.00, 0.00],\n",
    "        [0.00, 0.00, 0.00, 0.00, 0.00, 0.00, 0.00, 0.00, 0.00, 0.00, 0.00, 0.40, 0.40, 0.00, 0.00, 0.00, 0.00],\n",
    "        [0.00, 0.00, 0.00, 0.40, 0.40, 0.00, 0.00, 0.00, 0.00, 0.00, 0.00, 0.00, 0.00, 0.00, 0.00, 0.70, 1.40],\n",
    "        [0.00, 0.00, 0.00, 0.00, 0.00, 0.00, 0.00, 0.70, 1.40, 1.80, 0.70, 0.00, 0.00, 0.00, 0.00, 0.00, 0.00],\n",
    "        [2.20, 1.80, 0.70, 0.00, 0.00, 0.00, 0.00, 0.00, 0.00, 1.80, 4.70, 6.50, 4.30, 1.80, 0.70, 0.00, 0.00],\n",
    "        [2.20, 1.80, 4.70, 6.50, 4.30, 1.80, 0.70, 0.00, 0.00, 0.00, 0.00, 0.00, 0.00, 8.00, 11.2, 9.70, 1.40],\n",
    "        [0.00, 0.00, 0.00, 0.00, 0.00, 0.00, 10.2, 0.70, 1.40, 1.80, 0.70, 0.00, 0.00, 9.00, 10.00, 0.00, 0.00],\n",
    "        [2.20, 1.80, 0.70, 0.00, 0.00, 9.00, 0.00, 0.00, 0.00, 1.80, 4.70, 6.50, 4.30, 1.80, 0.70, 0.00, 0.00],\n",
    "        [2.20, 1.80, 4.70, 6.50, 4.30, 1.80, 0.70, 0.00, 0.00, 0.00, 0.00, 0.00, 0.00, 0.00, 0.00, 0.70, 1.40],\n",
    "        [0.00, 0.00, 0.00, 0.00, 0.00, 0.00, 0.00, 0.70, 1.40, 1.80, 0.70, 0.00, 0.00, 0.00, 0.00, 0.00, 0.00],\n",
    "        [2.20, 1.80, 0.70, 0.00, 0.00, 0.00, 0.00, 0.00, 0.00, 1.80, 4.70, 8.50, 4.30, 1.80, 0.70, 0.00, 0.00],\n",
    "        [2.20, 1.80, 4.70, 8.50, 4.30, 1.80, 0.70, 0.00, 0.00, 1.80, 4.70, 8.50, 4.30, 1.80, 0.70, 0.00, 1000.00]]\n",
    "problem = PeakFindingProblem((0,0), grid, directions8)"
   ]
  },
  {
   "cell_type": "code",
   "execution_count": 198,
   "metadata": {},
   "outputs": [
    {
     "data": {
      "text/plain": [
       "1000.0"
      ]
     },
     "execution_count": 198,
     "metadata": {},
     "output_type": "execute_result"
    }
   ],
   "source": [
    "solutions = [problem.value(simulated_annealing(problem)) for i in range(100)]\n",
    "max(solutions)"
   ]
  },
  {
   "cell_type": "code",
   "execution_count": 133,
   "metadata": {},
   "outputs": [
    {
     "data": {
      "text/plain": [
       "11.2"
      ]
     },
     "execution_count": 133,
     "metadata": {},
     "output_type": "execute_result"
    }
   ],
   "source": [
    "random_grid_hill_climbing(grid,100)"
   ]
  },
  {
   "cell_type": "markdown",
   "metadata": {},
   "source": [
    "Se ve una gran diferencia usando directions8, pues al poder tomar más caminos, con directions8 las 100 ejecuciones de simulated_annealing son suficientes para llegar al máximo global 1000.00. En este caso, para que hill_climbing llegara a la solución en casi todas las ejecuciones de random_grid_hill_climbing, ha sido necesario poner 100 puntos iniciales escogidos aleatoriamente. Como la rejilla es de 204, esto demuestra la limitación de random_grid_hill_climbing, y por tanto de hill_climbing.  \n",
    "Combinando estas ideas, podemos hacer algo similar para simulated_annealing:"
   ]
  },
  {
   "cell_type": "code",
   "execution_count": 207,
   "metadata": {},
   "outputs": [],
   "source": [
    "def random_simulated_annealing(grid, s=100):\n",
    "    current = grid[0][0] ## solucion actual.\n",
    "    for i in range(0,s):\n",
    "        initial = (random.randrange(len(grid)),random.randrange(len(grid[0])))\n",
    "        problem = PeakFindingProblem(initial, grid, directions8)\n",
    "        val = problem.value(simulated_annealing(problem))\n",
    "        current = max(val, current)\n",
    "    return current"
   ]
  },
  {
   "cell_type": "code",
   "execution_count": 211,
   "metadata": {},
   "outputs": [
    {
     "data": {
      "text/plain": [
       "1000.0"
      ]
     },
     "execution_count": 211,
     "metadata": {},
     "output_type": "execute_result"
    }
   ],
   "source": [
    "## Llega a la solución en prácticamente la totalidad de las ejecuciones, y esta rejilla\n",
    "## tan solo requiere de 25 puntos iniciales.\n",
    "random_simulated_annealing(grid,s=25)"
   ]
  },
  {
   "cell_type": "markdown",
   "metadata": {},
   "source": [
    "## Parte 3. Algoritmos genéticos\n"
   ]
  },
  {
   "cell_type": "markdown",
   "metadata": {},
   "source": [
    "Se define una clase ProblemaGenetico que incluye los elementos necesarios para la representación de un problema de optimización que se va a resolver con un algoritmo genético. Los elementos son los que hemos visto en clase:\n",
    "\n",
    " - genes: lista de genes usados en el genotipo de los estados.\n",
    " - longitud_individuos: longitud de los cromosomas\n",
    " - decodifica: función de obtiene el fenotipo a partir del genotipo.\n",
    " - fitness: función de valoración.\n",
    " - muta: función de mutación de un cromosoma \n",
    " - cruza: función de cruce de un par de cromosomas"
   ]
  },
  {
   "cell_type": "code",
   "execution_count": 6,
   "metadata": {},
   "outputs": [],
   "source": [
    "import random"
   ]
  },
  {
   "cell_type": "code",
   "execution_count": 7,
   "metadata": {},
   "outputs": [],
   "source": [
    "class ProblemaGenetico(object):\n",
    "        def __init__(self, genes,fun_dec,fun_muta , fun_cruza, fun_fitness,longitud_individuos):\n",
    "            self.genes = genes\n",
    "            self.fun_dec = fun_dec\n",
    "            self.fun_cruza = fun_cruza\n",
    "            self.fun_muta = fun_muta\n",
    "            self.fun_fitness = fun_fitness\n",
    "            self.longitud_individuos = longitud_individuos\n",
    "            \"\"\"Constructor de la clase\"\"\"\n",
    "                \n",
    "        def decodifica(self, genotipo):\n",
    "            \"\"\"Devuelve el fenotipo a partir del genotipo\"\"\"\n",
    "            fenotipo = self.fun_dec(genotipo)\n",
    "            return fenotipo\n",
    "        def muta(self, cromosoma,prob):\n",
    "            \"\"\"Devuelve el cromosoma mutado\"\"\"   \n",
    "            mutante = self.fun_muta(cromosoma,prob)\n",
    "            return mutante\n",
    "        def cruza(self, cromosoma1, cromosoma2):         \n",
    "            \"\"\"Devuelve el cruce de un par de cromosomas\"\"\"\n",
    "            cruce = self.fun_cruza(cromosoma1,cromosoma2)\n",
    "            return cruce \n",
    "        def fitness(self, cromosoma):    \n",
    "            \"\"\"Función de valoración\"\"\"\n",
    "            valoracion = self.fun_fitness(cromosoma)\n",
    "            return valoracion"
   ]
  },
  {
   "cell_type": "markdown",
   "metadata": {},
   "source": [
    "En primer lugar vamos a definir una instancia de la clase anterior correspondiente al problema de optimizar (maximizar o minimizar) la función cuadrado x^2 en el conjunto de los números naturales menores que 2^{10}.\n",
    "Se usa este ejemplo (del que sabemos la solución) para ver todos los elementos y poder observar el comportamiento. \n"
   ]
  },
  {
   "cell_type": "code",
   "execution_count": 4,
   "metadata": {},
   "outputs": [],
   "source": [
    "# Será necesaria la siguiente función que interpreta una lista de 0's y 1's como\n",
    "# un número natural:  \n",
    "\n",
    "def binario_a_decimal(x):\n",
    "    return sum(b*(2**i) for (i,b) in enumerate(x)) "
   ]
  },
  {
   "cell_type": "code",
   "execution_count": 6,
   "metadata": {},
   "outputs": [
    {
     "data": {
      "text/plain": [
       "[(0, 1), (1, 0), (2, 0)]"
      ]
     },
     "execution_count": 6,
     "metadata": {},
     "output_type": "execute_result"
    }
   ],
   "source": [
    "list(enumerate([1, 0, 0]))"
   ]
  },
  {
   "cell_type": "code",
   "execution_count": 5,
   "metadata": {},
   "outputs": [],
   "source": [
    "# En primer luegar usaremos la clase anterior para representar el problema de optimizar (maximizar o minimizar)\n",
    "# la función cuadrado en el conjunto de los números naturales menores que\n",
    "# 2^{10}.\n",
    "\n",
    "# Tenemos que definir funciones de cruce, mutación y fitness para este problema.\n",
    "\n",
    "def fun_cruzar(cromosoma1, cromosoma2):\n",
    "    \"\"\"Cruza los cromosomas por la mitad\"\"\"\n",
    "    l1 = len(cromosoma1)\n",
    "    l2 = len(cromosoma2)\n",
    "    cruce1 = cromosoma1[0:l1//2]+cromosoma2[l1//2:l2]\n",
    "    cruce2 = cromosoma2[0:l2//2]+cromosoma1[l2//2:l1]\n",
    "    return [cruce1,cruce2]\n",
    "\n",
    "def fun_mutar(cromosoma,prob):\n",
    "    \"\"\"Elige un elemento al azar del cromosoma y lo modifica con una probabilidad igual a prob\"\"\"\n",
    "    l = len(cromosoma)\n",
    "    p = random.randint(0,l-1)\n",
    "    if prob > random.uniform(0,1):\n",
    "        cromosoma[p] =  (cromosoma[p]+1)%2\n",
    "    return cromosoma\n",
    "\n",
    "def fun_fitness_cuad(cromosoma):\n",
    "    \"\"\"Función de valoración que eleva al cuadrado el número recibido en binario\"\"\"\n",
    "    n = binario_a_decimal(cromosoma)**2\n",
    "    return n\n",
    "\n",
    "cuadrados = ProblemaGenetico([0,1],binario_a_decimal,fun_mutar, fun_cruzar, fun_fitness_cuad,10)"
   ]
  },
  {
   "cell_type": "markdown",
   "metadata": {},
   "source": [
    "Una vez definida la instancia cuadrados que representa el problema genético, probar alguna de las funciones definidas en la clase anterior, para esta instancia concreta. Por ejemplo:"
   ]
  },
  {
   "cell_type": "code",
   "execution_count": 8,
   "metadata": {},
   "outputs": [
    {
     "data": {
      "text/plain": [
       "1329"
      ]
     },
     "execution_count": 8,
     "metadata": {},
     "output_type": "execute_result"
    }
   ],
   "source": [
    "cuadrados.decodifica([1,0,0,0,1,1,0,0,1,0,1])\n",
    "# Salida esperada: 1329"
   ]
  },
  {
   "cell_type": "code",
   "execution_count": 9,
   "metadata": {},
   "outputs": [
    {
     "data": {
      "text/plain": [
       "1766241"
      ]
     },
     "execution_count": 9,
     "metadata": {},
     "output_type": "execute_result"
    }
   ],
   "source": [
    "cuadrados.fitness([1,0,0,0,1,1,0,0,1,0,1])\n",
    "# Salida esperada: 1766241"
   ]
  },
  {
   "cell_type": "code",
   "execution_count": 16,
   "metadata": {},
   "outputs": [
    {
     "data": {
      "text/plain": [
       "[1, 0, 0, 0, 1, 1, 0, 0, 0, 0, 1]"
      ]
     },
     "execution_count": 16,
     "metadata": {},
     "output_type": "execute_result"
    }
   ],
   "source": [
    "cuadrados.muta([1,0,0,0,1,1,0,0,1,0,1],0.1)\n",
    "# Posible salida: [1, 0, 0, 0, 1, 1, 0, 0, 1, 0, 1]"
   ]
  },
  {
   "cell_type": "code",
   "execution_count": 17,
   "metadata": {},
   "outputs": [
    {
     "data": {
      "text/plain": [
       "[1, 0, 0, 0, 1, 1, 0, 0, 1, 0, 1]"
      ]
     },
     "execution_count": 17,
     "metadata": {},
     "output_type": "execute_result"
    }
   ],
   "source": [
    "cuadrados.muta([1,0,0,0,1,1,0,0,1,0,1],0.1)\n",
    "# Posible salida: [0, 0, 0, 0, 1, 1, 0, 0, 1, 0, 1]"
   ]
  },
  {
   "cell_type": "code",
   "execution_count": 18,
   "metadata": {},
   "outputs": [
    {
     "data": {
      "text/plain": [
       "[[1, 0, 0, 0, 1, 0, 0, 1, 1, 1], [0, 1, 1, 0, 1, 1, 0, 0, 1, 0, 1]]"
      ]
     },
     "execution_count": 18,
     "metadata": {},
     "output_type": "execute_result"
    }
   ],
   "source": [
    "cuadrados.cruza([1,0,0,0,1,1,0,0,1,0,1],[0,1,1,0,1,0,0,1,1,1])\n",
    "# Posible salida: [[1, 0, 0, 0, 1, 0, 0, 1, 1, 1], [0, 1, 1, 0, 1, 1, 0, 0, 1, 0, 1]]"
   ]
  },
  {
   "cell_type": "markdown",
   "metadata": {},
   "source": [
    "### Ejercicio 3\n",
    "\n",
    "   - Definir una función poblacion_inicial(problema_genetico,tamaño), para definir una población inicial de un tamaño dado, para una instancia dada de la clase anterior ProblemaGenetico\n",
    "\n",
    "sugerencia: usar random.choice\n",
    "\n",
    "   - Definir una función de cruce que recibe una instancia de Problema_Genetico y una población de padres (supondremos que hay un número par de padres), obtiene la población resultante de cruzarlos de dos en dos (en el orden en que aparecen)\n",
    "\n",
    "cruza_padres(problema_genetico,padres)\n",
    "\n",
    "   - Definir la función de mutación que recibe una instancia de Problema_Genetico, una población y una probabilidad de mutación, obtiene la población resultante de aplicar operaciones de mutación a cada individuo llamando a la función muta definida para el problema genético.\n",
    "muta_individuos(problema_genetico, poblacion, prob)"
   ]
  },
  {
   "cell_type": "code",
   "execution_count": 6,
   "metadata": {},
   "outputs": [],
   "source": [
    "def poblacion_inicial(problema_genetico, size):\n",
    "    l = []\n",
    "    for i in range(size):\n",
    "        l.append([random.choice(problema_genetico.genes) for i in range(problema_genetico.longitud_individuos)])\n",
    "    return l"
   ]
  },
  {
   "cell_type": "code",
   "execution_count": 23,
   "metadata": {},
   "outputs": [
    {
     "data": {
      "text/plain": [
       "[[0, 1, 0, 1, 1, 0, 0, 0, 0, 1],\n",
       " [1, 1, 1, 0, 0, 0, 1, 0, 1, 1],\n",
       " [1, 1, 1, 1, 0, 0, 0, 0, 1, 1],\n",
       " [0, 0, 1, 0, 0, 0, 0, 0, 1, 0],\n",
       " [1, 1, 1, 1, 1, 1, 0, 0, 0, 0],\n",
       " [0, 0, 1, 0, 0, 1, 0, 1, 1, 0],\n",
       " [0, 1, 1, 1, 0, 0, 0, 1, 0, 0],\n",
       " [0, 0, 1, 0, 0, 0, 0, 1, 0, 1],\n",
       " [1, 0, 1, 0, 1, 0, 1, 0, 1, 0],\n",
       " [1, 0, 1, 0, 0, 1, 1, 1, 0, 0]]"
      ]
     },
     "execution_count": 23,
     "metadata": {},
     "output_type": "execute_result"
    }
   ],
   "source": [
    "poblacion_inicial(cuadrados,10)"
   ]
  },
  {
   "cell_type": "code",
   "execution_count": 7,
   "metadata": {},
   "outputs": [],
   "source": [
    "def cruza_padres(problema_genetico,padres):\n",
    "    l = []\n",
    "    for i in range(len(padres)//2):\n",
    "        l = l + problema_genetico.cruza(padres[2*i],padres[2*i+1])\n",
    "    return l"
   ]
  },
  {
   "cell_type": "code",
   "execution_count": 33,
   "metadata": {},
   "outputs": [
    {
     "data": {
      "text/plain": [
       "[[1, 1, 0, 1, 0, 0, 1, 0, 1, 1],\n",
       " [0, 1, 0, 1, 0, 1, 0, 0, 0, 1],\n",
       " [0, 0, 1, 0, 0, 1, 1, 1, 1, 0],\n",
       " [0, 0, 1, 1, 1, 0, 1, 1, 1, 0],\n",
       " [0, 1, 1, 0, 0, 0, 1, 1, 0, 1],\n",
       " [1, 0, 1, 1, 1, 0, 0, 0, 0, 0]]"
      ]
     },
     "execution_count": 33,
     "metadata": {},
     "output_type": "execute_result"
    }
   ],
   "source": [
    "p1 = [[1, 1, 0, 1, 0, 1, 0, 0, 0, 1],\n",
    "      [0, 1, 0, 1, 0, 0, 1, 0, 1, 1],\n",
    "      [0, 0, 1, 0, 0, 0, 1, 1, 1, 0],\n",
    "      [0, 0, 1, 1, 1, 1, 1, 1, 1, 0],\n",
    "      [0, 1, 1, 0, 0, 0, 0, 0, 0, 0],\n",
    "      [1, 0, 1, 1, 1, 0, 1, 1, 0, 1]]\n",
    "\n",
    "cruza_padres(cuadrados,p1)\n",
    "# Posible salida\n",
    "# [[1, 1, 0, 1, 0, 0, 1, 0, 1, 1],\n",
    "#  [0, 1, 0, 1, 0, 1, 0, 0, 0, 1],\n",
    "#  [0, 0, 1, 1, 1, 1, 1, 1, 1, 0],\n",
    "#  [0, 0, 1, 0, 0, 0, 1, 1, 1, 0],\n",
    "#  [0, 1, 1, 1, 1, 0, 1, 1, 0, 1],\n",
    "#  [1, 0, 1, 0, 0, 0, 0, 0, 0, 0]]"
   ]
  },
  {
   "cell_type": "code",
   "execution_count": 39,
   "metadata": {},
   "outputs": [],
   "source": [
    "## Por probar más cruces posibles pero esto depende mucho del azar\n",
    "\n",
    "def experimento_cruza_padres(problema_genetico,padres):\n",
    "    l = []\n",
    "    fils = len(padres)\n",
    "    cols = len(padres[0])\n",
    "    usados = [False for i in range(fils)]\n",
    "    i = 0\n",
    "    while i < fils:\n",
    "        n = random.randint(0,fils-1)\n",
    "        if not usados[n]:\n",
    "            usados[n] = True\n",
    "            l.append(padres[i][0:cols//2]+padres[n][cols//2:cols])\n",
    "            i = i + 1\n",
    "    return l"
   ]
  },
  {
   "cell_type": "code",
   "execution_count": 8,
   "metadata": {},
   "outputs": [],
   "source": [
    "def muta_individuos(problema_genetico, poblacion, prob):\n",
    "    return [problema_genetico.muta(x, prob) for x in poblacion]\n",
    "    # hay que llamar a  problema_genetico.muta(x,prob) para todos los individuos de la poblacion."
   ]
  },
  {
   "cell_type": "code",
   "execution_count": 35,
   "metadata": {
    "scrolled": true
   },
   "outputs": [
    {
     "data": {
      "text/plain": [
       "[[1, 1, 0, 1, 0, 1, 0, 0, 0, 1],\n",
       " [0, 1, 0, 1, 0, 0, 1, 0, 1, 1],\n",
       " [0, 0, 1, 0, 0, 0, 1, 0, 1, 0],\n",
       " [1, 0, 1, 1, 1, 1, 1, 1, 1, 0],\n",
       " [0, 1, 1, 0, 0, 0, 0, 0, 0, 0],\n",
       " [1, 0, 1, 1, 1, 0, 1, 1, 0, 1]]"
      ]
     },
     "execution_count": 35,
     "metadata": {},
     "output_type": "execute_result"
    }
   ],
   "source": [
    "muta_individuos(cuadrados,p1,0.5)\n",
    "# Posible salida:\n",
    "#  [[1, 1, 0, 1, 0, 1, 0, 0, 0, 1],\n",
    "#   [0, 1, 0, 1, 0, 0, 1, 0, 0, 1],\n",
    "#   [0, 0, 1, 0, 0, 0, 1, 0, 1, 0],\n",
    "#   [0, 0, 1, 1, 1, 1, 1, 1, 1, 0],\n",
    "#   [0, 1, 0, 0, 0, 0, 0, 0, 0, 0],\n",
    "#   [1, 0, 1, 1, 1, 0, 1, 1, 0, 1]]"
   ]
  },
  {
   "cell_type": "code",
   "execution_count": 40,
   "metadata": {},
   "outputs": [],
   "source": [
    "p1 = [[1, 1, 0, 1, 0, 1, 0, 0, 0, 1],\n",
    "      [0, 1, 0, 1, 0, 0, 1, 0, 1, 1],\n",
    "      [0, 0, 1, 0, 0, 0, 1, 1, 1, 0],\n",
    "      [0, 0, 1, 1, 1, 1, 1, 1, 1, 0],\n",
    "      [0, 1, 1, 0, 0, 0, 0, 0, 0, 0],\n",
    "      [1, 0, 1, 1, 1, 0, 1, 1, 0, 1]]"
   ]
  },
  {
   "cell_type": "code",
   "execution_count": 41,
   "metadata": {},
   "outputs": [
    {
     "data": {
      "text/plain": [
       "[[1, 1, 0, 1, 0, 1, 0, 0, 0, 1],\n",
       " [0, 1, 0, 1, 0, 0, 1, 0, 1, 1],\n",
       " [0, 0, 1, 0, 0, 0, 1, 1, 1, 0],\n",
       " [0, 0, 1, 1, 1, 1, 1, 1, 1, 0],\n",
       " [0, 1, 1, 0, 0, 0, 0, 0, 0, 0],\n",
       " [1, 0, 1, 1, 1, 0, 1, 1, 0, 1]]"
      ]
     },
     "execution_count": 41,
     "metadata": {},
     "output_type": "execute_result"
    }
   ],
   "source": [
    "muta_individuos(cuadrados,p1,0.1)"
   ]
  },
  {
   "cell_type": "markdown",
   "metadata": {},
   "source": [
    "### Ejercicio 4\n",
    "\n",
    "Se pide definir una función de selección mediante torneo de n individuos de una población.  \n",
    "La función recibe como entrada:\n",
    " - una instancia de la clase ProblemaGenetico\n",
    " - una población\n",
    " - el número n de individuos que vamos a seleccionar\n",
    " - el número k de participantes en el torneo\n",
    " - un valor opt que puede ser o la función max o la función min (dependiendo de si el problema es de maximización o de minimización, resp.).\n",
    "\n",
    "seleccion\\_por\\_torneo(problema_genetico,poblacion,n,k,opt) \n",
    "\n",
    "INDICACIÓN: Usar random.sample para seleccionar k elementos de una secuencia. \n",
    "Por ejemplo, random.sample(population=[2,5,7,8,9], k=3) devuelve [7,5,8]. "
   ]
  },
  {
   "cell_type": "code",
   "execution_count": 9,
   "metadata": {},
   "outputs": [],
   "source": [
    "def seleccion_por_torneo(problema_genetico, poblacion, n, k, opt):\n",
    "    \"\"\"Selección por torneo de n individuos de una población. Siendo k el nº de participantes\n",
    "        y opt la función max o min.\"\"\"\n",
    "    seleccionados = []\n",
    "    for i in range(n):\n",
    "        participantes = random.sample(poblacion,k)\n",
    "        seleccionado = opt(participantes, key=problema_genetico.fitness)\n",
    "        opt(poblacion, key=problema_genetico.fitness)\n",
    "        seleccionados.append(seleccionado)\n",
    "        # poblacion.remove(seleccionado)\n",
    "    return seleccionados  "
   ]
  },
  {
   "cell_type": "code",
   "execution_count": 55,
   "metadata": {},
   "outputs": [
    {
     "data": {
      "text/plain": [
       "[[0, 1, 0, 0, 0, 0, 0, 1, 1, 1],\n",
       " [0, 0, 1, 0, 0, 0, 1, 1, 1, 1],\n",
       " [0, 0, 1, 0, 0, 0, 1, 1, 1, 1]]"
      ]
     },
     "execution_count": 55,
     "metadata": {},
     "output_type": "execute_result"
    }
   ],
   "source": [
    "#Ejemplo\n",
    "seleccion_por_torneo(cuadrados, poblacion_inicial(cuadrados,8),3,6,max)\n",
    "# Posible salida: [[1, 1, 1, 1, 1, 0, 0, 0, 1, 1],\n",
    "#                  [1, 0, 0, 1, 1, 1, 0, 1, 0, 1],\n",
    "#                  [1, 1, 1, 1, 0, 1, 1, 1, 0, 1]]\n"
   ]
  },
  {
   "cell_type": "code",
   "execution_count": 64,
   "metadata": {},
   "outputs": [
    {
     "data": {
      "text/plain": [
       "[[0, 0, 0, 0, 0, 0, 1, 0, 0, 0],\n",
       " [0, 0, 0, 0, 0, 0, 1, 0, 0, 0],\n",
       " [0, 0, 0, 0, 0, 0, 1, 0, 0, 0]]"
      ]
     },
     "execution_count": 64,
     "metadata": {},
     "output_type": "execute_result"
    }
   ],
   "source": [
    "seleccion_por_torneo(cuadrados, poblacion_inicial(cuadrados,8),3,6,min)\n",
    "# [[0, 0, 1, 1, 0, 1, 1, 0, 0, 0], [1, 0, 1, 0, 1, 1, 1, 0, 0, 0], [1, 1, 0, 1, 0, 0, 1, 0, 1, 0]]"
   ]
  },
  {
   "cell_type": "code",
   "execution_count": 10,
   "metadata": {},
   "outputs": [],
   "source": [
    "# La siguiente función implementa una posibilidad para el algoritmo genético completo: \n",
    "# inicializa t = 0 \n",
    "# Generar y evaluar la Población P(t)\n",
    "# Mientras no hemos llegado al número de generaciones fijado:  t < nGen\n",
    "#    P1 = Selección por torneo de (1-size)·p individuos de P(t)\n",
    "#    P2 = Selección por torneo de (size·p) individuos de P(t)\n",
    "#    Aplicar cruce en la población P2\n",
    "#    P4 = Union de P1 y P3\n",
    "#    P(t+1) := Aplicar mutación P4 \n",
    "#    Evalua la población P(t+1) \n",
    "#    t:= t+1\n",
    "        \n",
    "# Sus argumentos son:\n",
    "# problema_genetico: una instancia de la clase ProblemaGenetico con la representación adecuada del problema de optimización \n",
    "# que se quiere resolver.\n",
    "# k: número de participantes en los torneos de selección.\n",
    "# opt: max ó min, dependiendo si el problema es de maximización o de minimización. \n",
    "# nGen: número de generaciones (que se usa como condición de terminación)\n",
    "# size: número de individuos en cada generación\n",
    "# prop_cruce: proporción del total de la población que serán padres. \n",
    "# prob_mutación: probabilidad de realizar una mutación de un gen.\n",
    "\n",
    "def algoritmo_genetico(problema_genetico,k,opt,ngen,size,prop_cruces,prob_mutar):\n",
    "    poblacion= poblacion_inicial(problema_genetico,size)\n",
    "    n_padres=round(size*prop_cruces)\n",
    "    n_padres= int (n_padres if n_padres%2==0 else n_padres-1)\n",
    "    n_directos = size-n_padres\n",
    "    for _ in range(ngen):\n",
    "        poblacion= nueva_generacion(problema_genetico,k,opt,poblacion,n_padres, n_directos,prob_mutar)\n",
    "\n",
    "    mejor_cr= opt(poblacion, key=problema_genetico.fitness)\n",
    "    mejor=problema_genetico.decodifica(mejor_cr)\n",
    "    return (mejor,problema_genetico.fitness(mejor_cr)) \n"
   ]
  },
  {
   "cell_type": "markdown",
   "metadata": {},
   "source": [
    "Necesitarás definir la función auxiliar nueva_generacion(problema_genetico,poblacion,n_padres,n_directos,prob_mutar) que dada una población calcula la siguiente generación."
   ]
  },
  {
   "cell_type": "code",
   "execution_count": 11,
   "metadata": {},
   "outputs": [],
   "source": [
    "#Definir la función nueva_generacion\n",
    "def nueva_generacion(problema_genetico, k,opt, poblacion, n_padres, n_directos, prob_mutar):\n",
    "    padres2 = seleccion_por_torneo(problema_genetico, poblacion, n_directos, k,opt) \n",
    "    padres1 = seleccion_por_torneo(problema_genetico, poblacion, n_padres , k, opt)\n",
    "    cruces =  cruza_padres(problema_genetico,padres1)\n",
    "    generacion = padres2+cruces\n",
    "    resultado_mutaciones = muta_individuos(problema_genetico, generacion, prob_mutar)\n",
    "    return resultado_mutaciones"
   ]
  },
  {
   "cell_type": "markdown",
   "metadata": {},
   "source": [
    "### Ejercicio 5.  Ejecutar el algoritmo genético anterior, para resolver el problema anterior (tanto en minimización como en maximización).  \n",
    "\n",
    "Hacer una valoración de resultados y comentarios sobre el comportamiento del algoritmmo. \n",
    "En la resolución del problema hay que tener en cuenta que el algoritmo genético devuelve un par con el mejor fenotipo encontrado y su valoración."
   ]
  },
  {
   "cell_type": "code",
   "execution_count": 144,
   "metadata": {},
   "outputs": [
    {
     "data": {
      "text/plain": [
       "(4, 16)"
      ]
     },
     "execution_count": 144,
     "metadata": {},
     "output_type": "execute_result"
    }
   ],
   "source": [
    "# algoritmo_genetico(problema_genetico,k,opt,ngen,size,prop_cruces,prob_mutar)\n",
    "cuadrados = ProblemaGenetico([0,1],binario_a_decimal,fun_mutar, fun_cruzar, fun_fitness_cuad,10)\n",
    "algoritmo_genetico(cuadrados,k=3,opt=min,ngen=20,size=10,prop_cruces=0.7,prob_mutar=0.1)\n",
    "# Salida esperada: (0, 0)"
   ]
  },
  {
   "cell_type": "code",
   "execution_count": 175,
   "metadata": {},
   "outputs": [
    {
     "data": {
      "text/plain": [
       "(0, 0)"
      ]
     },
     "execution_count": 175,
     "metadata": {},
     "output_type": "execute_result"
    }
   ],
   "source": [
    "algoritmo_genetico(cuadrados,k=3,opt=min,ngen=20,size=10,prop_cruces=0.7,prob_mutar=0.1)"
   ]
  },
  {
   "cell_type": "code",
   "execution_count": 84,
   "metadata": {},
   "outputs": [
    {
     "data": {
      "text/plain": [
       "(1023, 1046529)"
      ]
     },
     "execution_count": 84,
     "metadata": {},
     "output_type": "execute_result"
    }
   ],
   "source": [
    "algoritmo_genetico(cuadrados,3,max,20,10,0.7,0.1)\n",
    "# Salida esperada: (1023, 1046529)"
   ]
  },
  {
   "cell_type": "code",
   "execution_count": 140,
   "metadata": {},
   "outputs": [
    {
     "name": "stdout",
     "output_type": "stream",
     "text": [
      "10.6 ms ± 3.06 ms per loop (mean ± std. dev. of 7 runs, 100 loops each)\n"
     ]
    }
   ],
   "source": [
    "%%timeit\n",
    "algoritmo_genetico(cuadrados,3,min,20,10,0.7,0.1)"
   ]
  },
  {
   "cell_type": "code",
   "execution_count": 141,
   "metadata": {},
   "outputs": [
    {
     "name": "stdout",
     "output_type": "stream",
     "text": [
      "11.4 ms ± 3.05 ms per loop (mean ± std. dev. of 7 runs, 100 loops each)\n"
     ]
    }
   ],
   "source": [
    "%%timeit\n",
    "algoritmo_genetico(cuadrados,3,max,20,10,0.7,0.1)"
   ]
  },
  {
   "cell_type": "code",
   "execution_count": 168,
   "metadata": {},
   "outputs": [],
   "source": [
    "# Método de maximizacion(minimizacion) lineal, para comparar\n",
    "def lineal(opt, fit, nmax):\n",
    "    return opt(range(nmax),key=fit)"
   ]
  },
  {
   "cell_type": "code",
   "execution_count": 169,
   "metadata": {},
   "outputs": [
    {
     "data": {
      "text/plain": [
       "1023"
      ]
     },
     "execution_count": 169,
     "metadata": {},
     "output_type": "execute_result"
    }
   ],
   "source": [
    "lineal(max,lambda x:x**2,2**10)"
   ]
  },
  {
   "cell_type": "code",
   "execution_count": 170,
   "metadata": {},
   "outputs": [
    {
     "name": "stdout",
     "output_type": "stream",
     "text": [
      "255 µs ± 29.8 µs per loop (mean ± std. dev. of 7 runs, 1000 loops each)\n"
     ]
    }
   ],
   "source": [
    "%%timeit\n",
    "lineal(max,lambda x:x**2,2**10)"
   ]
  },
  {
   "cell_type": "code",
   "execution_count": 171,
   "metadata": {},
   "outputs": [
    {
     "name": "stdout",
     "output_type": "stream",
     "text": [
      "249 µs ± 42.1 µs per loop (mean ± std. dev. of 7 runs, 1000 loops each)\n"
     ]
    }
   ],
   "source": [
    "%%timeit\n",
    "lineal(max,lambda x:x**2,2**10)"
   ]
  },
  {
   "cell_type": "markdown",
   "metadata": {},
   "source": [
    "Como vemos, con los datos iniciales k=3, opt=min, ngen=20, size=10, prop_cruces=0.7, prob_mutar=0.1, maximizar(minimizar) la función x^2 sobre [0,2^10] es más costoso con el algoritmo genético que con el algoritmo lineal, pues el lineal tarda de media entre 249 µs y 255µs, mientras que el genético tarda entre 10 y 11 ms. Además, debido al no determinismo introducido en el algoritmo genético al calcular la población inicial y las nuevas generaciones, los resultados dados por este algoritmo no siempre son los máximos(mínimos) globales, es decir, no es óptimo, mientras que el lineal se garantiza que lo es. Una posible solución para intentar acercarse al óptimo (o una buena aproximación de este), es aumentar el número de generaciones:"
   ]
  },
  {
   "cell_type": "code",
   "execution_count": 191,
   "metadata": {},
   "outputs": [
    {
     "data": {
      "text/plain": [
       "(1023, 1046529)"
      ]
     },
     "execution_count": 191,
     "metadata": {},
     "output_type": "execute_result"
    }
   ],
   "source": [
    "algoritmo_genetico(cuadrados,k=3,opt=max,ngen=30,size=10,prop_cruces=0.7,prob_mutar=0.1)"
   ]
  },
  {
   "cell_type": "code",
   "execution_count": 192,
   "metadata": {},
   "outputs": [
    {
     "name": "stdout",
     "output_type": "stream",
     "text": [
      "18.4 ms ± 4.24 ms per loop (mean ± std. dev. of 7 runs, 100 loops each)\n"
     ]
    }
   ],
   "source": [
    "## Comprobamos que aumentar el número de generaciones aumenta el tiempo medio de ejecución\n",
    "%%timeit \n",
    "algoritmo_genetico(cuadrados,k=3,opt=max,ngen=30,size=10,prop_cruces=0.7,prob_mutar=0.1)"
   ]
  },
  {
   "cell_type": "markdown",
   "metadata": {},
   "source": [
    "Vemos un comportamiento parecido tanto si estamos buscando el mínimo como si estamos buscando el máximo. Jugando con la probabilidad de cruce y con la de mutación obtenemos lo siguiente (en base a 10 ejecuciones). Nota: PC = proporción de cruces:\n",
    "<ol>\n",
    "<li> Mínimo. PC=0,5. Probabilidad solución óptima: 1/2 </li>\n",
    "<li> Mínimo. PC=0,7. Probabilidad solución óptima: 7/10 </li>\n",
    "<li> Mínimo. PC=1. Probabilidad solución óptima: 3/5 </li>\n",
    "<li> Máximo. PC=0.5. Probabilidad solución óptima: 3/10 </li>\n",
    "<li> Máximo. PC=0.7. Probabilidad solución óptima: 2/5 </li>\n",
    "<li> Máximo. PC=1. Probabilidad solución óptima: 1/2 </li>\n",
    "</ul>\n",
    "\n",
    "En base a estos resultados, comprobamos que, en este caso y en este problema concreto, cuanto más alta sea la proporción de cruces, más frecuentemente obtendremos la solución óptima. Además vemos que, en este caso, obtenemos el mínimo más frecuentemente que el máximo.\n"
   ]
  },
  {
   "cell_type": "markdown",
   "metadata": {},
   "source": [
    "#### ¿Por qué usar el algoritmo genético, cuando el lineal es óptimo y parece mejor computacionalmente?\n",
    "La respuesta la encontramos cuando aumentamos el dominio sobre el que queremos optimizar la función. El algoritmo lineal tiene que recorrer todo el dominio ( que puede ser muy grande), mientras que las soluciones dadas por el algoritmo genético pueden servir como aproximaciones del óptimo global, o como aproximaciones de un óptimo local, (en muchas aplicaciones de la vida real, estas aproximaciones bastan para resolver el problema en cuestión). Un ejemplo:"
   ]
  },
  {
   "cell_type": "code",
   "execution_count": 203,
   "metadata": {},
   "outputs": [],
   "source": [
    "### maximizamos la misma función, pero probamos con un dominio [0,2^25]\n",
    "cuadrados = ProblemaGenetico([0,1],binario_a_decimal,fun_mutar, fun_cruzar, fun_fitness_cuad,25)"
   ]
  },
  {
   "cell_type": "code",
   "execution_count": 206,
   "metadata": {
    "scrolled": true
   },
   "outputs": [
    {
     "data": {
      "text/plain": [
       "(33336819, 1111343501038761)"
      ]
     },
     "execution_count": 206,
     "metadata": {},
     "output_type": "execute_result"
    }
   ],
   "source": [
    "algoritmo_genetico(cuadrados,k=3,opt=max,ngen=20,size=10,prop_cruces=0.7,prob_mutar=0.1)\n",
    "## La solución buscada es el máximo del dominio = 2^25 -1 = 33554431\n",
    "## En la primera ejecución nos devolvió (33336819, 1111343501038761) de forma instantánea,\n",
    "## que se aproxima bastante al óptimo global"
   ]
  },
  {
   "cell_type": "code",
   "execution_count": 200,
   "metadata": {},
   "outputs": [
    {
     "data": {
      "text/plain": [
       "33554431"
      ]
     },
     "execution_count": 200,
     "metadata": {},
     "output_type": "execute_result"
    }
   ],
   "source": [
    "## encuentra el óptimo, pero tarda más\n",
    "lineal(max,lambda x:x**2,2**25)"
   ]
  },
  {
   "cell_type": "code",
   "execution_count": 207,
   "metadata": {},
   "outputs": [
    {
     "name": "stdout",
     "output_type": "stream",
     "text": [
      "19.6 ms ± 794 µs per loop (mean ± std. dev. of 7 runs, 10 loops each)\n"
     ]
    }
   ],
   "source": [
    "## tarda 19.6 ms de media. Es rápido y asumible. Además escala bien (intuimos que de forma logaritmica,\n",
    "## al ser la representación binaria), y solo tarda 8 ms más que el mismo problema en el rango [0,2^10]\n",
    "%%timeit \n",
    "algoritmo_genetico(cuadrados,k=3,opt=max,ngen=20,size=10,prop_cruces=0.7,prob_mutar=0.1)"
   ]
  },
  {
   "cell_type": "code",
   "execution_count": 209,
   "metadata": {},
   "outputs": [
    {
     "name": "stdout",
     "output_type": "stream",
     "text": [
      "11.2 s ± 401 ms per loop (mean ± std. dev. of 7 runs, 1 loop each)\n"
     ]
    }
   ],
   "source": [
    "## Tarda 11.2 segundos de media. Inasumible en muchas aplicaciones de tiempo real\n",
    "%%timeit \n",
    "lineal(max,lambda x:x**2,2**25)"
   ]
  },
  {
   "cell_type": "code",
   "execution_count": 97,
   "metadata": {},
   "outputs": [],
   "source": [
    "# La generalidad del código implementado permite optimizar cualquier función sobre los naturales\n",
    "# Probamos a maximizar (minimizar) la función (x-100)^2. Solo hay que cambiar la funcion de fitness:\n",
    "def fun_fitness2(cromosoma):\n",
    "\n",
    "    n = (binario_a_decimal(cromosoma)-100)**2\n",
    "    return n\n",
    "\n",
    "cuadrados = ProblemaGenetico([0,1],binario_a_decimal,fun_mutar, fun_cruzar, fun_fitness2,10)"
   ]
  },
  {
   "cell_type": "code",
   "execution_count": 112,
   "metadata": {
    "scrolled": true
   },
   "outputs": [
    {
     "data": {
      "text/plain": [
       "(95, 25)"
      ]
     },
     "execution_count": 112,
     "metadata": {},
     "output_type": "execute_result"
    }
   ],
   "source": [
    "algoritmo_genetico(cuadrados,3,min,20,20,0.7,0.1)\n",
    "# salida esperada: (100,0)"
   ]
  },
  {
   "cell_type": "code",
   "execution_count": 113,
   "metadata": {},
   "outputs": [
    {
     "data": {
      "text/plain": [
       "(100, 0)"
      ]
     },
     "execution_count": 113,
     "metadata": {},
     "output_type": "execute_result"
    }
   ],
   "source": [
    "algoritmo_genetico(cuadrados,3,min,20,20,0.7,0.1)\n",
    "# salida esperada: (100,0)"
   ]
  },
  {
   "cell_type": "code",
   "execution_count": 139,
   "metadata": {},
   "outputs": [
    {
     "data": {
      "text/plain": [
       "(1023, 1046529)"
      ]
     },
     "execution_count": 139,
     "metadata": {},
     "output_type": "execute_result"
    }
   ],
   "source": [
    "algoritmo_genetico(cuadrados,3,max,20,10,0.7,0.1)\n",
    "# salida esperada: (1023, 1046529)"
   ]
  },
  {
   "cell_type": "markdown",
   "metadata": {},
   "source": [
    "##  El problema de la mochila "
   ]
  },
  {
   "cell_type": "markdown",
   "metadata": {},
   "source": [
    "Se plantea el típico problema de la mochila en el que dados n objetos de pesos conocidos pi y valor vi (i=1,...,n) hay que elegir cuáles se meten en una mochila que soporta un peso P máximo. La selección debe hacerse de forma que se máximice el valor de los objetos introducidos sin superar el peso máximo."
   ]
  },
  {
   "cell_type": "markdown",
   "metadata": {},
   "source": [
    "### Ejercicio 6\n",
    "Se pide definir la representación del problema de la mochila usando genes [0,1] y longitud de los individuos n.\n",
    "\n",
    "Los valores 1 ó 0 representan, respectivamente, si el objeto se introduce o no en la mochila Tomados de izquerda a derecha, a partir del primero que no cabe, se consideran  todos fuera de la mochila,independientemente del gen en su posición. De esta manera, todos los individuos representan candidatos válidos.\n",
    "\n",
    "El numero de objetos n determina la longitud de los individuos de la población.\n",
    "En primer lugar es necesario definir una función de decodificación de la mochila que recibe como entrada:\n",
    "* un cromosoma (en este caso, una lista de 0s y 1s, de longitud igual a n_objetos) \n",
    "* n: número total de objetos de la mochila\n",
    "* pesos: una lista con los pesos de los objetos\n",
    "* capacidad: peso máximo de la mochila.\n",
    "La función decodifica recibe (cromosoma, n, pesos, capacidad) y devuelve una lista de 0s y 1s que indique qué objetos están en la mochila y cuáles no (el objeto i está en la mochila si y sólo si en la posición i-ésima de la lista hay un 1). Esta lista se obtendrá a partir del cromosoma, pero teniendo en cuenta que a partir del primer objeto que no quepa, éste y los siguientes se consideran fuera de la mochila, independientemente del valor que haya en su correspondiente posición de cromosoma. "
   ]
  },
  {
   "cell_type": "code",
   "execution_count": 2,
   "metadata": {},
   "outputs": [],
   "source": [
    "def decodifica_mochila(cromosoma, n, pesos, capacidad):\n",
    "    peso_en_mochila = 0\n",
    "    l = []\n",
    "    for i in range(n):\n",
    "        if cromosoma[i] == 1 and peso_en_mochila + pesos[i] <= capacidad:\n",
    "            l.append(1)\n",
    "            peso_en_mochila += pesos[i]\n",
    "        elif cromosoma[i]== 0 or peso_en_mochila + pesos[i] > capacidad:\n",
    "            l.append(0)\n",
    "    return l "
   ]
  },
  {
   "cell_type": "code",
   "execution_count": 4,
   "metadata": {},
   "outputs": [
    {
     "data": {
      "text/plain": [
       "[1, 1, 0, 0, 0]"
      ]
     },
     "execution_count": 4,
     "metadata": {},
     "output_type": "execute_result"
    }
   ],
   "source": [
    "decodifica_mochila([1,1,1,1,1], 5, [2,3,4,5,1], 5)"
   ]
  },
  {
   "cell_type": "markdown",
   "metadata": {},
   "source": [
    "Para definir la función de evaluación (fitness) necesitamos calcular el valor total de los objetos que están dentro de la mochila que representa el cromosoma según la codificación utilizada en la función anterior. \n",
    "\n",
    "Se pide la función fitness (cromosoma, n_objetos, pesos, capacidad, valores) donde los parámetros son los mismos que en la función anterior, y valores es la lista de los valores de cada objeto\n",
    "\n",
    "fitness(cromosoma, n_objetos, pesos, capacidad, valores)\n",
    "\n",
    "Ejemplo de uso:\n",
    "   fitness([1,1,1,1], 4, [2,3,4,5], 4, [7,1,4,5])\n",
    "   7"
   ]
  },
  {
   "cell_type": "code",
   "execution_count": 236,
   "metadata": {},
   "outputs": [],
   "source": [
    "# Podriamos llamar a decodifica_mochila y hallar el valor, pero es más eficiente implementar fitness desde cero\n",
    "def fitness_mochila(cromosoma, n_objetos, pesos, capacidad, valores):\n",
    "    peso_en_mochila = 0\n",
    "    val = 0\n",
    "    for i in range(n_objetos):\n",
    "        if cromosoma[i] == 1 and peso_en_mochila + pesos[i] <= capacidad:\n",
    "            val += valores[i]\n",
    "            peso_en_mochila += pesos[i]\n",
    "    return val"
   ]
  },
  {
   "cell_type": "code",
   "execution_count": 237,
   "metadata": {},
   "outputs": [
    {
     "data": {
      "text/plain": [
       "7"
      ]
     },
     "execution_count": 237,
     "metadata": {},
     "output_type": "execute_result"
    }
   ],
   "source": [
    "fitness_mochila([1,1,1,1], 4, [2,3,4,5], 4, [7,1,4,5])"
   ]
  },
  {
   "cell_type": "markdown",
   "metadata": {},
   "source": [
    "Damos tres instancias concretas del problema de la mochila. Damos también sus soluciones optimas, para que se puedan comparar con los resultados obtenidos por el algoritmo genético:"
   ]
  },
  {
   "cell_type": "code",
   "execution_count": 51,
   "metadata": {},
   "outputs": [],
   "source": [
    "# Problema de la mochila 1:\n",
    "# 10 objetos, peso máximo 165\n",
    "pesos1 = [23,31,29,44,53,38,63,85,89,82]\n",
    "valores1 = [92,57,49,68,60,43,67,84,87,72]\n",
    "\n",
    "# Solución óptima= [1,1,1,1,0,1,0,0,0,0], con valor 309"
   ]
  },
  {
   "cell_type": "code",
   "execution_count": 52,
   "metadata": {},
   "outputs": [],
   "source": [
    "# Problema de la mochila 2:\n",
    "# 15 objetos, peso máximo 750\n",
    "\n",
    "pesos2 = [70,73,77,80,82,87,90,94,98,106,110,113,115,118,120]\n",
    "valores2 = [135,139,149,150,156,163,173,184,192,201,210,214,221,229,240]\n",
    "\n",
    "# Solución óptima= [1,0,1,0,1,0,1,1,1,0,0,0,0,1,1] con valor 1458"
   ]
  },
  {
   "cell_type": "code",
   "execution_count": 53,
   "metadata": {},
   "outputs": [],
   "source": [
    "# Problema de la mochila 3:\n",
    "# 24 objetos, peso máximo 6404180\n",
    "pesos3 = [382745,799601,909247,729069,467902, 44328,\n",
    "       34610,698150,823460,903959,853665,551830,610856,\n",
    "       670702,488960,951111,323046,446298,931161, 31385,496951,264724,224916,169684]\n",
    "valores3 = [825594,1677009,1676628,1523970, 943972,  97426,\n",
    "       69666,1296457,1679693,1902996,\n",
    "       1844992,1049289,1252836,1319836, 953277,2067538, 675367,\n",
    "       853655,1826027, 65731, 901489, 577243, 466257, 369261]\n",
    "\n",
    "# Solución óptima= [1,1,0,1,1,1,0,0,0,1,1,0,1,0,0,1,0,0,0,0,0,1,1,1] con valoración 13549094"
   ]
  },
  {
   "cell_type": "markdown",
   "metadata": {},
   "source": [
    "### Ejercicio 7\n",
    "\n",
    "Definir variables m1g, m2g y m3g, referenciando a instancias de Problema_Genetico que correspondan, respectivamente, a los problemas de la mochila anteriores. Resuelve los problemas y comentar los resultados obtenidos en cuanto a eficiencia y calidad de los resultados obtenidos."
   ]
  },
  {
   "cell_type": "markdown",
   "metadata": {},
   "source": [
    "Algunas de las salidas posibles variando los parámetros."
   ]
  },
  {
   "cell_type": "code",
   "execution_count": 54,
   "metadata": {},
   "outputs": [],
   "source": [
    "# >>> algoritmo_genetico_t(m1g,3,max,100,50,0.8,0.05)\n",
    "# ([1, 1, 1, 1, 0, 1, 0, 0, 0, 0], 309)\n",
    "\n",
    "# >>> algoritmo_genetico_t(m3g,5,max,400,200,0.75,0.1)\n",
    "# ([1, 1, 0, 1, 0, 1, 1, 0, 1, 1, 1, 0, 1, 0, 0, 1, 0, 0, 0, 0, 0, 1, 0, 0], 13518963)\n",
    "# >>> algoritmo_genetico_t(m3g,4,max,600,200,0.75,0.1)\n",
    "# ([1, 1, 0, 1, 1, 1, 1, 0, 0, 1, 1, 0, 1, 0, 0, 1, 1, 0, 0, 1, 0, 1, 0, 0], 13524340)\n",
    "# >>> algoritmo_genetico_t(m3g,4,max,1000,200,0.75,0.1)\n",
    "# ([1, 1, 0, 1, 0, 0, 0, 0, 1, 1, 1, 0, 1, 0, 0, 1, 1, 0, 0, 0, 0, 0, 0, 0], 13449995)\n",
    "# >>> algoritmo_genetico_t(m3g,3,max,1000,100,0.75,0.1)\n",
    "# ([1, 1, 0, 0, 0, 1, 1, 0, 1, 1, 1, 0, 1, 1, 0, 1, 1, 0, 0, 0, 0, 0, 0, 0], 13412953)\n",
    "# >>> algoritmo_genetico_t(m3g,3,max,2000,100,0.75,0.1)\n",
    "# ([0, 1, 0, 1, 0, 1, 0, 0, 1, 1, 1, 0, 1, 1, 0, 1, 0, 0, 0, 0, 0, 0, 0, 0], 13366296)\n",
    "# >>> algoritmo_genetico_t(m3g,6,max,2000,100,0.75,0.1)\n",
    "# ([1, 1, 0, 1, 1, 1, 0, 0, 0, 1, 1, 0, 1, 0, 0, 1, 0, 0, 0, 0, 0, 1, 1, 1], 13549094)"
   ]
  },
  {
   "cell_type": "code",
   "execution_count": 55,
   "metadata": {},
   "outputs": [],
   "source": [
    "\n",
    "def fitness_mochila_1(cromosoma):\n",
    "    v = fitness_mochila(cromosoma, 10, pesos1, 165, valores1)\n",
    "    return v\n",
    "def decodifica_mochila_1(cromosoma):\n",
    "    v = decodifica_mochila(cromosoma, 10, pesos1, 165)\n",
    "    return v\n",
    "m1g = ProblemaGenetico([0,1], decodifica_mochila_1, fun_mutar, fun_cruzar, fitness_mochila_1,10)\n",
    "\n",
    "def fitness_mochila_2(cromosoma):\n",
    "    v = fitness_mochila(cromosoma, 15, pesos2, 750, valores2)\n",
    "    return v\n",
    "def decodifica_mochila_2(cromosoma):\n",
    "    v = decodifica_mochila(cromosoma, 15, pesos2, 750)\n",
    "    return v\n",
    "m2g = ProblemaGenetico([0,1], decodifica_mochila_2, fun_mutar, fun_cruzar, fitness_mochila_2,15)\n",
    "\n",
    "def fitness_mochila_3(cromosoma):\n",
    "    v = fitness_mochila(cromosoma, 24, pesos3,6404180 , valores3)\n",
    "    return v\n",
    "def decodifica_mochila_3(cromosoma):\n",
    "    v = decodifica_mochila(cromosoma, 24, pesos3, 6404180)\n",
    "    return v\n",
    "m3g = ProblemaGenetico([0,1], decodifica_mochila_3, fun_mutar, fun_cruzar, fitness_mochila_3,24)\n"
   ]
  },
  {
   "cell_type": "markdown",
   "metadata": {},
   "source": [
    "### m1g\n",
    "El problema m1g es el que menos complejidad tiene, y por tanto necesita menos generaciones y menos tamaño de población para llegar a la solución óptima. De hecho, en las salidas posibles se nos propone usar como parámetros ngen=100 y size=50, pero aumentando un poco la probabilidad de mutación (de 0.05 a 0.07), se puede disminuir el tamaño de población(de 50 a 20), con la mejora en tiempo computacional que esto supone, y sin disminuir la calidad de los resultados obtenidos(se llega a la solución óptima de valor 309 en casi todas las iteraciones)  \n",
    "##### Solución óptima= [1,1,1,1,0,1,0,0,0,0], con valor 309"
   ]
  },
  {
   "cell_type": "code",
   "execution_count": 238,
   "metadata": {},
   "outputs": [
    {
     "data": {
      "text/plain": [
       "([1, 1, 1, 1, 0, 1, 0, 0, 0, 0], 309)"
      ]
     },
     "execution_count": 238,
     "metadata": {},
     "output_type": "execute_result"
    }
   ],
   "source": [
    "algoritmo_genetico(m1g,3,max,100,50,0.8,0.05)"
   ]
  },
  {
   "cell_type": "code",
   "execution_count": 240,
   "metadata": {},
   "outputs": [
    {
     "name": "stdout",
     "output_type": "stream",
     "text": [
      "533 ms ± 181 ms per loop (mean ± std. dev. of 7 runs, 1 loop each)\n"
     ]
    }
   ],
   "source": [
    "%%timeit\n",
    "##Con size=50 necesita de media 1.7 s para llegar a la solución\n",
    "algoritmo_genetico(m1g,3,max,100,50,0.8,0.05)"
   ]
  },
  {
   "cell_type": "code",
   "execution_count": 95,
   "metadata": {},
   "outputs": [
    {
     "data": {
      "text/plain": [
       "([1, 1, 1, 1, 0, 1, 0, 0, 0, 0], 309)"
      ]
     },
     "execution_count": 95,
     "metadata": {},
     "output_type": "execute_result"
    }
   ],
   "source": [
    "algoritmo_genetico(m1g,3,max,100,20,0.8,0.07)"
   ]
  },
  {
   "cell_type": "code",
   "execution_count": 241,
   "metadata": {},
   "outputs": [
    {
     "name": "stdout",
     "output_type": "stream",
     "text": [
      "109 ms ± 34.7 ms per loop (mean ± std. dev. of 7 runs, 10 loops each)\n"
     ]
    }
   ],
   "source": [
    "%%timeit\n",
    "## Con size=20 tan solo gasta 310 ms en llegar a la solución. Ahorro del 81%\n",
    "algoritmo_genetico(m1g,3,max,100,20,0.8,0.07)"
   ]
  },
  {
   "cell_type": "markdown",
   "metadata": {},
   "source": [
    "### m2g\n",
    "Con m2g empieza a aumentar la complejidad del problema, pues ahora tenemos 15 objetos\n",
    "\n",
    "Si probamos una configuración parecida a la del anterior problema(ngen=100, size=50), y con una probabilidad de mutacion del 10%, llegamos rápidamente a soluciones que, si bien no son la solución óptima(de valor 1458), se aproximan bastante:\n",
    " \n",
    "##### Solución óptima= [1,0,1,0,1,0,1,1,1,0,0,0,0,1,1] con valor 1458"
   ]
  },
  {
   "cell_type": "code",
   "execution_count": 140,
   "metadata": {},
   "outputs": [
    {
     "data": {
      "text/plain": [
       "([1, 1, 1, 0, 0, 0, 0, 1, 1, 1, 0, 1, 0, 1, 0], 1443)"
      ]
     },
     "execution_count": 140,
     "metadata": {},
     "output_type": "execute_result"
    }
   ],
   "source": [
    "## Si nos interesa llegar a una solución rápidamente, con tan solo 100 generaciones obtenemos valores >= 1430\n",
    "algoritmo_genetico(m2g,5,max,100,50,0.8,0.1)"
   ]
  },
  {
   "cell_type": "code",
   "execution_count": 187,
   "metadata": {},
   "outputs": [
    {
     "data": {
      "text/plain": [
       "([1, 1, 1, 0, 0, 0, 0, 1, 1, 0, 1, 1, 1, 0, 0], 1444)"
      ]
     },
     "execution_count": 187,
     "metadata": {},
     "output_type": "execute_result"
    }
   ],
   "source": [
    "# Aunque multipliquemos x2 los parámetros ngen y size, no vamos a notar gran mejoría con respecto a la ejecución\n",
    "# anterior, pero cargaremos con el coste computacional que esto supone.\n",
    "algoritmo_genetico(m2g,5,max,200,100,0.8,0.1)"
   ]
  },
  {
   "cell_type": "code",
   "execution_count": 195,
   "metadata": {},
   "outputs": [
    {
     "data": {
      "text/plain": [
       "([1, 0, 0, 1, 1, 1, 0, 1, 1, 0, 0, 0, 0, 1, 1], 1449)"
      ]
     },
     "execution_count": 195,
     "metadata": {},
     "output_type": "execute_result"
    }
   ],
   "source": [
    "# intentamos reduciendo la probabilidad de mutación, y el tamaño de los grupos de torneo.\n",
    "# Parece que los resultados mejoran ligeramente\n",
    "algoritmo_genetico(m2g,3,max,200,100,0.8,0.07)"
   ]
  },
  {
   "cell_type": "code",
   "execution_count": 196,
   "metadata": {},
   "outputs": [
    {
     "data": {
      "text/plain": [
       "([1, 1, 1, 1, 0, 0, 0, 0, 0, 1, 1, 1, 0, 0, 1], 1438)"
      ]
     },
     "execution_count": 196,
     "metadata": {},
     "output_type": "execute_result"
    }
   ],
   "source": [
    "# Tal vez si aumentamos la probabilidad de mutación..\n",
    "algoritmo_genetico(m2g,3,max,200,100,0.8,0.13)"
   ]
  },
  {
   "cell_type": "code",
   "execution_count": 200,
   "metadata": {},
   "outputs": [
    {
     "data": {
      "text/plain": [
       "([1, 1, 1, 0, 0, 1, 0, 0, 1, 0, 1, 0, 1, 0, 1], 1449)"
      ]
     },
     "execution_count": 200,
     "metadata": {},
     "output_type": "execute_result"
    }
   ],
   "source": [
    "# Cambiamos la proporción de cruces\n",
    "algoritmo_genetico(m2g,3,max,200,100,0.7,0.07)"
   ]
  },
  {
   "cell_type": "markdown",
   "metadata": {},
   "source": [
    "Parece que hemos mejorado algo las posibles soluciones que devuelve el algoritmo. Pero, ¿Qué precio computacional hemos pagado? Vamos a calcular la media de valores, y el tiempo medio de ejecución con estos parámetros:"
   ]
  },
  {
   "cell_type": "code",
   "execution_count": 206,
   "metadata": {},
   "outputs": [
    {
     "name": "stdout",
     "output_type": "stream",
     "text": [
      "1442.1\n"
     ]
    }
   ],
   "source": [
    "sols = [algoritmo_genetico(m2g,5,max,100,50,0.8,0.1)[1] for i in range(20)]\n",
    "print(sum(sols)/20)"
   ]
  },
  {
   "cell_type": "code",
   "execution_count": 201,
   "metadata": {},
   "outputs": [
    {
     "name": "stdout",
     "output_type": "stream",
     "text": [
      "1.64 s ± 462 ms per loop (mean ± std. dev. of 7 runs, 1 loop each)\n"
     ]
    }
   ],
   "source": [
    "%%timeit\n",
    "algoritmo_genetico(m2g,5,max,100,50,0.8,0.1)"
   ]
  },
  {
   "cell_type": "code",
   "execution_count": 209,
   "metadata": {},
   "outputs": [
    {
     "name": "stdout",
     "output_type": "stream",
     "text": [
      "1444.7\n"
     ]
    }
   ],
   "source": [
    "sols = [algoritmo_genetico(m2g,5,max,200,100,0.7,0.07)[1] for i in range(20)]\n",
    "print(sum(sols)/20)"
   ]
  },
  {
   "cell_type": "code",
   "execution_count": 210,
   "metadata": {},
   "outputs": [
    {
     "name": "stdout",
     "output_type": "stream",
     "text": [
      "13.3 s ± 679 ms per loop (mean ± std. dev. of 7 runs, 1 loop each)\n"
     ]
    }
   ],
   "source": [
    "%%timeit\n",
    "algoritmo_genetico(m2g,5,max,200,100,0.7,0.07)"
   ]
  },
  {
   "cell_type": "markdown",
   "metadata": {},
   "source": [
    "Es decir, que en el primer caso tardamos de media 1.64 segundos en obtener soluciones cuyo valor medio es de 1442.1, mientras que si aumentamos el número de generaciones, el tamaño de generación y cambiamos la probabilidad de mutación, en 13.7 segundos conseguimos soluciones con valor medio de 1444.7. Es decir, hemos multiplicado el tiempo x8.35, y solo obtenemos una ganancia del 0.2% en el valor de las soluciones que devuelve el algoritmo. En muchas aplicaciones, esta mejora es imperceptible, y por tanto obtendremos ventaja computacional con una aproximación dada por la ejecución del algoritmo con ngen=100 y size=50. Sin embargo, puede que nos interese llegar al máximo global. Vamos a intentar esto último aumentando el número de generaciones:"
   ]
  },
  {
   "cell_type": "code",
   "execution_count": 214,
   "metadata": {},
   "outputs": [
    {
     "data": {
      "text/plain": [
       "([1, 1, 0, 0, 0, 1, 1, 1, 1, 0, 0, 0, 0, 1, 1], 1455)"
      ]
     },
     "execution_count": 214,
     "metadata": {},
     "output_type": "execute_result"
    }
   ],
   "source": [
    "algoritmo_genetico(m2g,5,max,300,150,0.7,0.07)"
   ]
  },
  {
   "cell_type": "code",
   "execution_count": 217,
   "metadata": {},
   "outputs": [
    {
     "data": {
      "text/plain": [
       "([1, 0, 1, 0, 1, 1, 1, 0, 0, 1, 0, 0, 0, 1, 1], 1446)"
      ]
     },
     "execution_count": 217,
     "metadata": {},
     "output_type": "execute_result"
    }
   ],
   "source": [
    "# Aumentamos aún más el numero de generaciones y el tamaño de generación, y elevamos ligeramente k.\n",
    "# En la mejor ejecución hemos obtenido un valor de 1455.\n",
    "algoritmo_genetico(m2g,10,max,800,200,0.7,0.07)"
   ]
  },
  {
   "cell_type": "code",
   "execution_count": 219,
   "metadata": {},
   "outputs": [
    {
     "name": "stdout",
     "output_type": "stream",
     "text": [
      "([0, 1, 1, 1, 0, 0, 1, 1, 1, 0, 0, 0, 0, 1, 1], 1456)\n"
     ]
    }
   ],
   "source": [
    "# Probamos otra posible forma de llegar al óptimo, repitiendo varias veces el algoritmo con parámetros bajos.\n",
    "# Es menos costosa, se puede ejecutar más veces, y en la mejor ejecución hemos obtenido un valor de 1456\n",
    "sols = [algoritmo_genetico(m2g,5,max,100,50,0.8,0.1) for i in range(20)]\n",
    "max_sol = max(sols,key=lambda x:x[1])\n",
    "print(max_sol)"
   ]
  },
  {
   "cell_type": "code",
   "execution_count": 254,
   "metadata": {},
   "outputs": [
    {
     "name": "stdout",
     "output_type": "stream",
     "text": [
      "([1, 0, 1, 0, 1, 0, 1, 1, 1, 0, 0, 0, 0, 1, 1], 1458)\n"
     ]
    }
   ],
   "source": [
    "# Probamos lo anterior, elevando los parámetros del algoritmo, y disminuyendo la cantidad de padres\n",
    "## Por fin legamos a la solución óptima\n",
    "sols = [algoritmo_genetico(m2g,6,max,250,100,0.2,0.05) for i in range(20)]\n",
    "max_sol = max(sols,key=lambda x:x[1])\n",
    "print(max_sol)"
   ]
  },
  {
   "cell_type": "markdown",
   "metadata": {},
   "source": [
    "### m3g\n",
    "\n",
    "Aumentamos todavía más la complejidad. Ahora tenemos 24 objetos. En este ejemplo es donde se ve claramente la ventaja del algoritmo genético para conseguir aproximaciones a la solución. El problema de la mochila es NP-Completo, por lo que no se conoce un algoritmo polinómico que lo resuelva.  \n",
    "Sin embargo, gracias a que podemos establecer parámetros bajos para el algoritmo genético, podemos alcanzar soluciones aproximadas a un óptimo(ya sea local o global), cuyo coste esté acotado convenientemente.\n",
    "\n",
    "Además, nos damos cuenta de un posible cuello de botella del algoritmo: como queríamos que todos los individuos representaran candidatos válidos, todos los individuos que están a partir del primero que no cabe se consideran fuera de la mochila. Esto significa que estamos ejecutando cruces, mutaciones y selecciones sobre individuos distintos, que sin embargo representan la misma solución con el mismo valor. Tal vez se podrían ejecutar estas acciones solo sobre los bits significativos de cada cromosoma, pero de momento no se nos ocurre cómo implementar esta mejora.\n",
    "\n",
    "#### Solución óptima= [1,1,0,1,1,1,0,0,0,1,1,0,1,0,0,1,0,0,0,0,0,1,1,1] con valoración 13549094"
   ]
  },
  {
   "cell_type": "code",
   "execution_count": 277,
   "metadata": {},
   "outputs": [
    {
     "data": {
      "text/plain": [
       "([1, 0, 0, 1, 0, 1, 0, 0, 0, 1, 1, 0, 1, 0, 1, 1, 1, 1, 0, 0, 0, 1, 1, 1],\n",
       " 13410412)"
      ]
     },
     "execution_count": 277,
     "metadata": {},
     "output_type": "execute_result"
    }
   ],
   "source": [
    "# Con un número muy pequeño de iteraciones, conseguimos soluciones de valor >= 13300000, lo que supone un error de\n",
    "# menos del 2%\n",
    "algoritmo_genetico(m3g,5,max,200,100,0.75,0.1)"
   ]
  },
  {
   "cell_type": "code",
   "execution_count": 278,
   "metadata": {},
   "outputs": [
    {
     "data": {
      "text/plain": [
       "([1, 1, 0, 1, 0, 0, 0, 0, 0, 1, 1, 1, 1, 0, 0, 1, 1, 0, 0, 1, 0, 1, 0, 0],\n",
       " 13462565)"
      ]
     },
     "execution_count": 278,
     "metadata": {},
     "output_type": "execute_result"
    }
   ],
   "source": [
    "algoritmo_genetico(m3g,5,max,400,100,0.75,0.1)"
   ]
  },
  {
   "cell_type": "code",
   "execution_count": 258,
   "metadata": {},
   "outputs": [
    {
     "data": {
      "text/plain": [
       "([0, 0, 0, 1, 1, 1, 0, 0, 1, 1, 1, 0, 1, 0, 0, 1, 1, 0, 0, 1, 0, 1, 1, 1],\n",
       " 13467282)"
      ]
     },
     "execution_count": 258,
     "metadata": {},
     "output_type": "execute_result"
    }
   ],
   "source": [
    "algoritmo_genetico(m3g,4,max,600,200,0.75,0.1)"
   ]
  },
  {
   "cell_type": "code",
   "execution_count": 259,
   "metadata": {},
   "outputs": [
    {
     "data": {
      "text/plain": [
       "([1, 1, 0, 1, 1, 1, 0, 0, 0, 1, 1, 0, 1, 0, 0, 1, 0, 0, 0, 0, 0, 1, 1, 1],\n",
       " 13549094)"
      ]
     },
     "execution_count": 259,
     "metadata": {},
     "output_type": "execute_result"
    }
   ],
   "source": [
    "# Primera vez que obtenemos la solución óptima de valor 13549094\n",
    "algoritmo_genetico(m3g,4,max,1000,200,0.75,0.1)"
   ]
  },
  {
   "cell_type": "code",
   "execution_count": 262,
   "metadata": {},
   "outputs": [
    {
     "data": {
      "text/plain": [
       "([0, 1, 0, 1, 0, 1, 1, 0, 0, 1, 1, 0, 1, 0, 1, 1, 1, 0, 0, 0, 0, 1, 1, 1],\n",
       " 13477838)"
      ]
     },
     "execution_count": 262,
     "metadata": {},
     "output_type": "execute_result"
    }
   ],
   "source": [
    "# A partir de aquí, aumentamos considerablemente el número de generaciones, y \n",
    "# el aumento de fitness no compensa al aumento de complejidad\n",
    "algoritmo_genetico(m3g,6,max,2000,100,0.75,0.1)"
   ]
  },
  {
   "cell_type": "code",
   "execution_count": 263,
   "metadata": {},
   "outputs": [
    {
     "data": {
      "text/plain": [
       "([1, 0, 0, 1, 1, 0, 0, 0, 1, 1, 1, 0, 1, 0, 0, 1, 0, 0, 0, 0, 0, 1, 1, 1],\n",
       " 13454352)"
      ]
     },
     "execution_count": 263,
     "metadata": {},
     "output_type": "execute_result"
    }
   ],
   "source": [
    "algoritmo_genetico(m3g,6,max,2000,100,0.75,0.1)"
   ]
  },
  {
   "cell_type": "code",
   "execution_count": 267,
   "metadata": {},
   "outputs": [
    {
     "data": {
      "text/plain": [
       "([0, 1, 0, 1, 0, 1, 1, 0, 1, 1, 1, 0, 0, 0, 1, 1, 1, 0, 0, 0, 0, 1, 0, 1],\n",
       " 13438438)"
      ]
     },
     "execution_count": 267,
     "metadata": {},
     "output_type": "execute_result"
    }
   ],
   "source": [
    "algoritmo_genetico(m3g,6,max,2000,100,0.75,0.1)"
   ]
  },
  {
   "cell_type": "code",
   "execution_count": 268,
   "metadata": {},
   "outputs": [
    {
     "data": {
      "text/plain": [
       "([0, 1, 0, 1, 0, 1, 0, 0, 0, 1, 1, 0, 1, 0, 1, 1, 1, 0, 0, 1, 0, 1, 1, 1],\n",
       " 13473903)"
      ]
     },
     "execution_count": 268,
     "metadata": {},
     "output_type": "execute_result"
    }
   ],
   "source": [
    "algoritmo_genetico(m3g,6,max,2000,100,0.75,0.1)"
   ]
  },
  {
   "cell_type": "code",
   "execution_count": 280,
   "metadata": {},
   "outputs": [
    {
     "data": {
      "text/plain": [
       "([1, 1, 0, 1, 0, 1, 1, 0, 1, 1, 1, 0, 1, 0, 0, 1, 0, 0, 0, 0, 0, 1, 0, 0],\n",
       " 13518963)"
      ]
     },
     "execution_count": 280,
     "metadata": {},
     "output_type": "execute_result"
    }
   ],
   "source": [
    "algoritmo_genetico(m3g,3,max,2000,200,0.75,0.1)"
   ]
  },
  {
   "cell_type": "code",
   "execution_count": 282,
   "metadata": {},
   "outputs": [
    {
     "data": {
      "text/plain": [
       "([1, 1, 0, 0, 1, 1, 1, 0, 1, 1, 1, 0, 1, 0, 0, 1, 1, 0, 0, 1, 0, 0, 0, 1],\n",
       " 13472081)"
      ]
     },
     "execution_count": 282,
     "metadata": {},
     "output_type": "execute_result"
    }
   ],
   "source": [
    "algoritmo_genetico(m3g,3,max,2000,200,0.75,0.1)"
   ]
  },
  {
   "cell_type": "code",
   "execution_count": 281,
   "metadata": {},
   "outputs": [
    {
     "data": {
      "text/plain": [
       "([1, 1, 0, 1, 0, 1, 1, 0, 1, 1, 1, 0, 1, 0, 0, 1, 0, 0, 0, 0, 0, 1, 0, 0],\n",
       " 13518963)"
      ]
     },
     "execution_count": 281,
     "metadata": {},
     "output_type": "execute_result"
    }
   ],
   "source": [
    "algoritmo_genetico(m3g,4,max,2000,200,0.75,0.1)"
   ]
  },
  {
   "cell_type": "markdown",
   "metadata": {},
   "source": [
    "### Ejercicio 8\n",
    "Resolver mediante una configuración de un algoritmo genético el problema del cuadrado mágico que consiste en colocar en un cuadrado n × n los números naturales de 1 a n^2, \n",
    "de tal manera que las filas, las columnas y las diagonales principales sumen los mismo. \n",
    "Ejemplo: una solucion para n= 3\n",
    "    \n",
    "    4 3 8\n",
    "    9 5 1\n",
    "    2 7 6\n",
    "    \n",
    "- Dimensionn del cuadrado: N\n",
    "- Suma común: SUMA=(N·(N^2 + 1))/2\n",
    "    \n",
    "    Comenta el resultado y el rendimiento del algoritmo para distintos parámetros.\n",
    "       "
   ]
  },
  {
   "cell_type": "markdown",
   "metadata": {},
   "source": [
    "#### Representación genotipo\n",
    "\n",
    "El genotipo vendrá dado por una lista de n^2 elementos, que será una permutación de los números de 1 hasta n^2\n"
   ]
  },
  {
   "cell_type": "code",
   "execution_count": 44,
   "metadata": {},
   "outputs": [],
   "source": [
    "import math\n",
    "import numpy as np\n",
    "import random"
   ]
  },
  {
   "cell_type": "markdown",
   "metadata": {},
   "source": [
    "\n",
    "#### Cost_function\n",
    "Dos posibles funciones de coste\n",
    "<ul>\n",
    "<li>Sabemos que la constante mágica SUMA=(N·(N^2 + 1))/2 coincide con la suma de los elementos de una fila, columna o diagonal de un cuadrado mágico, luego se trata de minimizar la diferencia en valor absoluto de cada columna, fila y diagonal con esa constante. De esta manera, trabajamos con costes en vez de con fitness.</li>\n",
    "\n",
    "\n",
    "<li> Decodificamos un cromosoma y sumamos las filas, columnas y diagonales del cuadrado mágico resultante. Calculamos el valor absoluto de la diferencia entre el máximo de estas sumas con la suma común proporcionada y, cuanto más pequeño sea este valor, mejor será nuestro cromosoma. </li>\n",
    "</ul>"
   ]
  },
  {
   "cell_type": "code",
   "execution_count": 45,
   "metadata": {},
   "outputs": [],
   "source": [
    "def cost_mag(cromosoma):\n",
    "    n = round(math.sqrt(len(cromosoma)))\n",
    "    suma = (n*(n**2 + 1))/2 \n",
    "    cost = 0\n",
    "    #filas\n",
    "    for i in range(n):\n",
    "        sumaFila = sum([cromosoma[i*n+j] for j in range(n)])\n",
    "        cost += abs(suma - sumaFila)\n",
    "    #cols\n",
    "    for i in range(n):\n",
    "        sumaCol = sum([cromosoma[i+j*n] for j in range(n)])\n",
    "        cost += abs(suma - sumaCol)\n",
    "    \n",
    "    #diags\n",
    "    sumaDiag1 = sum([cromosoma[i+i*n] for i in range(n)])\n",
    "    sumaDiag2 = sum([cromosoma[i+i*n] for i in range(n)])\n",
    "    cost += abs(suma - sumaDiag1) + abs(suma-sumaDiag2)\n",
    "    \n",
    "    return cost"
   ]
  },
  {
   "cell_type": "code",
   "execution_count": 46,
   "metadata": {},
   "outputs": [],
   "source": [
    "def cost_mag_max(cromosoma):\n",
    "    n = round(math.sqrt(len(cromosoma)))\n",
    "    sumacomun = (n*(n**2 + 1))/2 \n",
    "    sumas = []\n",
    "    cost = 0\n",
    "    #filas\n",
    "    for i in range(n):\n",
    "        sumaFila = sum([cromosoma[i*n+j] for j in range(n)])\n",
    "        sumas.append(sumaFila)\n",
    "    #cols\n",
    "    for i in range(n):\n",
    "        sumaCol = sum([cromosoma[i+j*n] for j in range(n)])\n",
    "        sumas.append(sumaCol)\n",
    "    \n",
    "    #diags\n",
    "    sumadiag1 = sum([cromosoma[i+i*n] for i in range(n)])\n",
    "    sumadiag2 = sum([cromosoma[i+i*n] for i in range(n)])\n",
    "    sumas.append(sumadiag1)\n",
    "    sumas.append(sumadiag2)\n",
    "\n",
    "    return abs(sumacomun-max(sumas))"
   ]
  },
  {
   "cell_type": "code",
   "execution_count": 47,
   "metadata": {},
   "outputs": [
    {
     "data": {
      "text/plain": [
       "24.0"
      ]
     },
     "execution_count": 47,
     "metadata": {},
     "output_type": "execute_result"
    }
   ],
   "source": [
    "cost_mag([1,2,3,4,5,6,7,8,9])"
   ]
  },
  {
   "cell_type": "code",
   "execution_count": 48,
   "metadata": {},
   "outputs": [
    {
     "data": {
      "text/plain": [
       "9.0"
      ]
     },
     "execution_count": 48,
     "metadata": {},
     "output_type": "execute_result"
    }
   ],
   "source": [
    "cost_mag_max([1,2,3,4,5,6,7,8,9])"
   ]
  },
  {
   "cell_type": "markdown",
   "metadata": {},
   "source": [
    "#### Posibles cruces\n",
    "<ul>\n",
    "    <li>Cruce de orden </li>\n",
    "    <li> Partially Mapped Crossover</li>\n",
    "    <li> También podemos usar el cruce de 1 corte para generar los hijos. Elegimos un punto al azar de los padres. Si ese punto los divide en 2 ciclos disjuntos de permutaciones, creamos los hijos como hijo1=ciclo1padre1+ciclo2padre2 y hijo2=ciclo1padre2+ciclo2padre1. Si no los divide en 2 ciclos disjuntos, devolvemos los originales. Este cruce tiene la desventaja de que se ejecuta en un número de casos muy bajo.</li>\n",
    "</ul>\n"
   ]
  },
  {
   "cell_type": "code",
   "execution_count": 49,
   "metadata": {},
   "outputs": [],
   "source": [
    "def cruzar_mag_orden(cromosoma1, cromosoma2):\n",
    "    l = len(cromosoma1)\n",
    "    left = random.randint(0, l - 1)\n",
    "    right = random.randint(0, l - 1)\n",
    "    if left > right:\n",
    "        left, right = right, left\n",
    "    left, right = 3,6\n",
    "    ## 0 no es gen, nos sirve para indicar los genes no asignados todavía\n",
    "    res = [0]*l \n",
    "    res[left:right + 1] = cromosoma1[left:right + 1]\n",
    "    i = (right + 1) % l # recorre res\n",
    "    j = i # recorre cromosoma2\n",
    "    while res[i] == 0:\n",
    "        if cromosoma2[j] not in res:\n",
    "            res[i] = cromosoma2[j]\n",
    "            i = (i + 1) % l\n",
    "        j = (j + 1) % l\n",
    "    \n",
    "    return res"
   ]
  },
  {
   "cell_type": "code",
   "execution_count": 50,
   "metadata": {},
   "outputs": [],
   "source": [
    "def cruzar_mag(crom1, crom2):\n",
    "    return [cruzar_mag_orden(crom1,crom2), cruzar_mag_orden(crom2,crom1)]"
   ]
  },
  {
   "cell_type": "code",
   "execution_count": 51,
   "metadata": {},
   "outputs": [],
   "source": [
    "def cruzar_mag_corte(cromosoma1, cromosoma2):\n",
    "    l1 = len(cromosoma1)\n",
    "    cut = random.randint(0,l1-1)\n",
    "    cruce1 = cromosoma1\n",
    "    cruce2 = cromosoma2\n",
    "\n",
    "    set1 = set(cromosoma1[cut:l1])\n",
    "    set2 = set(cromosoma2[cut:l1])\n",
    "    set3 = set1.intersection(set2)\n",
    "    \n",
    "    if len(set3) == len(set2):\n",
    "        cruce1 = cromosoma1[0:cut]+cromosoma2[cut:l1]\n",
    "        cruce2 = cromosoma2[0:cut]+cromosoma1[cut:l1]\n",
    "\n",
    "    return [cruce1,cruce2]"
   ]
  },
  {
   "cell_type": "code",
   "execution_count": 52,
   "metadata": {},
   "outputs": [
    {
     "data": {
      "text/plain": [
       "[[3, 8, 2, 4, 5, 6, 7, 1, 9], [3, 4, 7, 8, 2, 6, 5, 9, 1]]"
      ]
     },
     "execution_count": 52,
     "metadata": {},
     "output_type": "execute_result"
    }
   ],
   "source": [
    "cruzar_mag([1,2,3,4,5,6,7,8,9], [9,3,7,8,2,6,5,1,4])"
   ]
  },
  {
   "cell_type": "markdown",
   "metadata": {},
   "source": [
    "\n",
    "#### Posibles mutaciones\n",
    "Tomamos ideas de los operadores de mutación para permutaciones:\n",
    "<ul>\n",
    "    <li> Trasposiciones aleatorias de los elementos.</li>\n",
    "    <li> Inversion: Basándonos en el two-opt del Problema del viajante, aquí también podemos escoger un intervalo al azar de un cromosoma e invertirlo </li>\n",
    "    <li> Scramble: reordenar aleatoriamente un subconjunto del cromosoma </li>\n",
    "    <li> Comb: una combinación de las tres </li>\n",
    "</ul>"
   ]
  },
  {
   "cell_type": "code",
   "execution_count": 53,
   "metadata": {},
   "outputs": [],
   "source": [
    "def mutar_mag_t(cromosoma,prob):\n",
    "    \"\"\" Trasposiciones \"\"\"\n",
    "    crom = cromosoma[:]\n",
    "    l = len(cromosoma)\n",
    "    p = random.randint(0,l-1)\n",
    "    if prob > random.uniform(0,1):  \n",
    "        i = random.randint(0, len(crom) - 1)\n",
    "        j = random.randint(0, len(crom) - 1)\n",
    "        crom[i], crom[j] = crom[j],crom[i]\n",
    "    return crom"
   ]
  },
  {
   "cell_type": "code",
   "execution_count": 54,
   "metadata": {},
   "outputs": [],
   "source": [
    "def mutar_mag_inversion(cromosoma,prob):\n",
    "    l = len(cromosoma)\n",
    "    left = random.randint(0,l-1)\n",
    "    right = random.randint(0,l-1)\n",
    "    if left > right:\n",
    "        left, right = right, left\n",
    "    \n",
    "    if prob > random.uniform(0,1):\n",
    "        cromosoma[left: right+1] = cromosoma[left: right + 1][::-1]\n",
    "        \n",
    "    return cromosoma"
   ]
  },
  {
   "cell_type": "code",
   "execution_count": 55,
   "metadata": {},
   "outputs": [],
   "source": [
    "def mutar_mag_scramble(cromosoma,prob):\n",
    "    \"\"\" Basada en el two_opt de TSP \"\"\"\n",
    "    crom = cromosoma[:]\n",
    "    l = len(cromosoma)\n",
    "    p = random.randint(0,l-1)\n",
    "    if prob > random.uniform(0,1):  \n",
    "        left = random.randint(0, len(crom) - 1)\n",
    "        right = random.randint(0, len(crom) - 1)\n",
    "        if left > right:\n",
    "            left, right = right, left\n",
    "        cjto = crom[left: right + 1]\n",
    "        random.shuffle(cjto)\n",
    "        crom[left: right + 1] = cjto\n",
    "    return crom"
   ]
  },
  {
   "cell_type": "code",
   "execution_count": 56,
   "metadata": {},
   "outputs": [],
   "source": [
    "# Combinamos las tres mutaciones implementadas, eligiendo una de las tres de forma aleatoria\n",
    "def mutar_mag_comb(cromosoma, prob):\n",
    "    p = random.randint(1,3)\n",
    "    if p == 1:\n",
    "        return mutar_mag_t(cromosoma,prob)\n",
    "    elif p == 2:\n",
    "        return mutar_mag_inversion(cromosoma,prob)\n",
    "    else:\n",
    "        return mutar_mag_scramble(cromosoma,prob)"
   ]
  },
  {
   "cell_type": "code",
   "execution_count": 57,
   "metadata": {},
   "outputs": [],
   "source": [
    "## Devuelve la matriz por filas\n",
    "def decodifica_mag(genotipo):\n",
    "    n = round(math.sqrt(len(genotipo)))\n",
    "    return np.reshape(genotipo,(n,n)).tolist()"
   ]
  },
  {
   "cell_type": "code",
   "execution_count": 58,
   "metadata": {},
   "outputs": [
    {
     "data": {
      "text/plain": [
       "[[1, 2, 3], [4, 5, 6], [7, 8, 9]]"
      ]
     },
     "execution_count": 58,
     "metadata": {},
     "output_type": "execute_result"
    }
   ],
   "source": [
    "decodifica_mag([1,2,3,4,5,6,7,8,9])"
   ]
  },
  {
   "cell_type": "markdown",
   "metadata": {},
   "source": [
    "#### Generar población inicial\n",
    "\n",
    "Como es un problema de permutación, los individuos no pueden fabricarse generando una lista aleatoria de nxn elementos eligiendo aleatoriamente los números del 1 al n^2. Por ello, tomamos la lista [1..n^2] y generamos permutaciones aleatorias de la misma"
   ]
  },
  {
   "cell_type": "code",
   "execution_count": 59,
   "metadata": {},
   "outputs": [],
   "source": [
    "## Nuestros cromosomas van a ser permutaciones aleatorias de los números de 1 a n^2\n",
    "def poblacion_inicial(problema_genetico, size):\n",
    "    n = problema_genetico.longitud_individuos\n",
    "    return [random.sample(range(1,n+1),n) for i in range(size)]"
   ]
  },
  {
   "cell_type": "code",
   "execution_count": 18,
   "metadata": {},
   "outputs": [],
   "source": [
    "n = 3\n",
    "mag_cuad = ProblemaGenetico(None,decodifica_mag,mutar_mag_comb , cruzar_mag, cost_mag,n**2)"
   ]
  },
  {
   "cell_type": "code",
   "execution_count": 26,
   "metadata": {},
   "outputs": [
    {
     "data": {
      "text/plain": [
       "[[2, 9, 8, 7, 1, 6, 5, 4, 3],\n",
       " [5, 7, 9, 6, 4, 8, 1, 3, 2],\n",
       " [6, 9, 2, 4, 7, 8, 3, 1, 5],\n",
       " [1, 8, 7, 5, 2, 6, 9, 4, 3],\n",
       " [2, 5, 9, 6, 1, 3, 4, 8, 7],\n",
       " [7, 6, 1, 8, 9, 3, 2, 5, 4],\n",
       " [6, 9, 2, 3, 1, 4, 5, 7, 8],\n",
       " [1, 7, 9, 8, 2, 5, 3, 6, 4],\n",
       " [2, 7, 3, 6, 4, 9, 5, 8, 1],\n",
       " [3, 5, 2, 8, 6, 9, 7, 1, 4]]"
      ]
     },
     "execution_count": 26,
     "metadata": {},
     "output_type": "execute_result"
    }
   ],
   "source": [
    "poblacion_inicial(mag_cuad,10)"
   ]
  },
  {
   "cell_type": "code",
   "execution_count": 32,
   "metadata": {},
   "outputs": [
    {
     "data": {
      "text/plain": [
       "([[9, 6, 3], [5, 2, 8], [1, 7, 4]], 6.0)"
      ]
     },
     "execution_count": 32,
     "metadata": {},
     "output_type": "execute_result"
    }
   ],
   "source": [
    "algoritmo_genetico(mag_cuad,k=5,opt=min,ngen=400,size=30,prop_cruces=0.4,prob_mutar=0.3)"
   ]
  },
  {
   "cell_type": "code",
   "execution_count": 39,
   "metadata": {},
   "outputs": [],
   "source": [
    "## Probemos las mutaciones por separado. Primero inversion\n",
    "n = 3\n",
    "mag_cuad = ProblemaGenetico(None,decodifica_mag,mutar_mag_inversion , cruzar_mag, cost_mag,n**2)"
   ]
  },
  {
   "cell_type": "code",
   "execution_count": 47,
   "metadata": {},
   "outputs": [
    {
     "data": {
      "text/plain": [
       "([[9, 5, 1], [6, 2, 7], [3, 8, 4]], 6.0)"
      ]
     },
     "execution_count": 47,
     "metadata": {},
     "output_type": "execute_result"
    }
   ],
   "source": [
    "algoritmo_genetico(mag_cuad,k=5,opt=min,ngen=400,size=30,prop_cruces=0.7,prob_mutar=0.2)"
   ]
  },
  {
   "cell_type": "code",
   "execution_count": 45,
   "metadata": {},
   "outputs": [
    {
     "data": {
      "text/plain": [
       "([[5, 1, 9], [3, 6, 2], [7, 8, 4]], 8.0)"
      ]
     },
     "execution_count": 45,
     "metadata": {},
     "output_type": "execute_result"
    }
   ],
   "source": [
    "algoritmo_genetico(mag_cuad,k=5,opt=min,ngen=400,size=30,prop_cruces=0.7,prob_mutar=0.2)"
   ]
  },
  {
   "cell_type": "code",
   "execution_count": 19,
   "metadata": {},
   "outputs": [],
   "source": [
    "## Probemos scramble\n",
    "n = 3\n",
    "mag_cuad = ProblemaGenetico(None,decodifica_mag,mutar_mag_scramble , cruzar_mag, cost_mag,n**2)"
   ]
  },
  {
   "cell_type": "code",
   "execution_count": 49,
   "metadata": {},
   "outputs": [
    {
     "data": {
      "text/plain": [
       "([[7, 4, 3], [8, 2, 5], [1, 9, 6]], 4.0)"
      ]
     },
     "execution_count": 49,
     "metadata": {},
     "output_type": "execute_result"
    }
   ],
   "source": [
    "algoritmo_genetico(mag_cuad,k=5,opt=min,ngen=400,size=30,prop_cruces=0.7,prob_mutar=0.2)"
   ]
  },
  {
   "cell_type": "code",
   "execution_count": 24,
   "metadata": {},
   "outputs": [
    {
     "data": {
      "text/plain": [
       "([[6, 3, 9], [2, 8, 5], [7, 4, 1]], 6.0)"
      ]
     },
     "execution_count": 24,
     "metadata": {},
     "output_type": "execute_result"
    }
   ],
   "source": [
    "algoritmo_genetico(mag_cuad,k=5,opt=min,ngen=400,size=30,prop_cruces=0.7,prob_mutar=0.1)"
   ]
  },
  {
   "cell_type": "code",
   "execution_count": 50,
   "metadata": {},
   "outputs": [
    {
     "data": {
      "text/plain": [
       "([[3, 5, 7], [9, 4, 2], [1, 6, 8]], 4.0)"
      ]
     },
     "execution_count": 50,
     "metadata": {},
     "output_type": "execute_result"
    }
   ],
   "source": [
    "algoritmo_genetico(mag_cuad,k=5,opt=min,ngen=400,size=30,prop_cruces=0.7,prob_mutar=0.2)"
   ]
  },
  {
   "cell_type": "code",
   "execution_count": 25,
   "metadata": {},
   "outputs": [],
   "source": [
    "## Probemos trasposiciones\n",
    "n = 3\n",
    "mag_cuad = ProblemaGenetico(None,decodifica_mag,mutar_mag_t , cruzar_mag, cost_mag,n**2)"
   ]
  },
  {
   "cell_type": "code",
   "execution_count": 27,
   "metadata": {},
   "outputs": [
    {
     "data": {
      "text/plain": [
       "([[5, 6, 4], [1, 7, 8], [9, 2, 3]], 2.0)"
      ]
     },
     "execution_count": 27,
     "metadata": {},
     "output_type": "execute_result"
    }
   ],
   "source": [
    "algoritmo_genetico(mag_cuad,k=10,opt=min,ngen=400,size=30,prop_cruces=0.8,prob_mutar=0.2)"
   ]
  },
  {
   "cell_type": "code",
   "execution_count": 55,
   "metadata": {},
   "outputs": [
    {
     "data": {
      "text/plain": [
       "([[4, 2, 9], [8, 6, 1], [3, 7, 5]], 0.0)"
      ]
     },
     "execution_count": 55,
     "metadata": {},
     "output_type": "execute_result"
    }
   ],
   "source": [
    "algoritmo_genetico(mag_cuad,k=10,opt=min,ngen=400,size=30,prop_cruces=0.8,prob_mutar=0.2)\n",
    "#La primera ejecución ha devuelto la solución óptima"
   ]
  },
  {
   "cell_type": "code",
   "execution_count": 56,
   "metadata": {},
   "outputs": [
    {
     "data": {
      "text/plain": [
       "([[2, 8, 5], [3, 7, 4], [9, 1, 6]], 4.0)"
      ]
     },
     "execution_count": 56,
     "metadata": {},
     "output_type": "execute_result"
    }
   ],
   "source": [
    "algoritmo_genetico(mag_cuad,k=10,opt=min,ngen=400,size=30,prop_cruces=0.8,prob_mutar=0.2)\n",
    "# La primera ejecución ha devuelto ([[2, 8, 5], [3, 7, 4], [9, 1, 6]], 4.0)"
   ]
  },
  {
   "cell_type": "code",
   "execution_count": 57,
   "metadata": {},
   "outputs": [
    {
     "data": {
      "text/plain": [
       "([[4, 2, 9], [8, 6, 1], [3, 7, 5]], 0.0)"
      ]
     },
     "execution_count": 57,
     "metadata": {},
     "output_type": "execute_result"
    }
   ],
   "source": [
    "#Parece que funcionan bien las trasposiciones. Devuelve solución óptima ([[4, 2, 9], [8, 6, 1], [3, 7, 5]], 0.0)\n",
    "algoritmo_genetico(mag_cuad,k=10,opt=min,ngen=500,size=30,prop_cruces=0.8,prob_mutar=0.2)"
   ]
  },
  {
   "cell_type": "code",
   "execution_count": 58,
   "metadata": {},
   "outputs": [],
   "source": [
    "## Probemos la mutación comb\n",
    "n = 3\n",
    "mag_cuad = ProblemaGenetico(None,decodifica_mag,mutar_mag_comb , cruzar_mag, cost_mag,n**2)"
   ]
  },
  {
   "cell_type": "code",
   "execution_count": 59,
   "metadata": {},
   "outputs": [
    {
     "data": {
      "text/plain": [
       "([[2, 7, 6], [9, 5, 1], [4, 3, 8]], 0.0)"
      ]
     },
     "execution_count": 59,
     "metadata": {},
     "output_type": "execute_result"
    }
   ],
   "source": [
    "algoritmo_genetico(mag_cuad,k=10,opt=min,ngen=400,size=30,prop_cruces=0.8,prob_mutar=0.2)"
   ]
  },
  {
   "cell_type": "code",
   "execution_count": 61,
   "metadata": {},
   "outputs": [
    {
     "name": "stdout",
     "output_type": "stream",
     "text": [
      "([[5, 7, 3], [9, 2, 4], [1, 6, 8]], 0.0)\n"
     ]
    }
   ],
   "source": [
    "algoritmo_genetico(mag_cuad,k=10,opt=min,ngen=400,size=30,prop_cruces=0.8,prob_mutar=0.2)"
   ]
  },
  {
   "cell_type": "code",
   "execution_count": 62,
   "metadata": {},
   "outputs": [],
   "source": [
    "# Comparemos comb con la trasposición, a ver si sale rentable combinar las tres\n",
    "n = 4\n",
    "mag_cuad_t = ProblemaGenetico(None,decodifica_mag,mutar_mag_t , cruzar_mag, cost_mag,n**2)\n",
    "mag_cuad_comb = ProblemaGenetico(None,decodifica_mag,mutar_mag_comb , cruzar_mag, cost_mag,n**2)"
   ]
  },
  {
   "cell_type": "code",
   "execution_count": 67,
   "metadata": {},
   "outputs": [],
   "source": [
    "lt = [algoritmo_genetico(mag_cuad_t,k=10,opt=min,ngen=400,size=30,prop_cruces=0.8,prob_mutar=0.2) for i in range(40)]"
   ]
  },
  {
   "cell_type": "code",
   "execution_count": 68,
   "metadata": {},
   "outputs": [],
   "source": [
    "lcomb = [algoritmo_genetico(mag_cuad_comb,k=10,opt=min,ngen=400,size=30,prop_cruces=0.8,prob_mutar=0.2) for i in range(40)]"
   ]
  },
  {
   "cell_type": "code",
   "execution_count": 69,
   "metadata": {},
   "outputs": [
    {
     "name": "stdout",
     "output_type": "stream",
     "text": [
      "Solución media genético Trasposiciones:  3.3\n"
     ]
    }
   ],
   "source": [
    "avg_t = sum(cost for sol,cost in lt)/len(lt)\n",
    "print(\"Solución media genético Trasposiciones: \", avg_t)"
   ]
  },
  {
   "cell_type": "code",
   "execution_count": 71,
   "metadata": {},
   "outputs": [
    {
     "name": "stdout",
     "output_type": "stream",
     "text": [
      "Solución media genético Combinado:  4.3\n"
     ]
    }
   ],
   "source": [
    "avg_comb = sum(cost for sol,cost in lcomb)/len(lcomb)\n",
    "print(\"Solución media genético Combinado: \", avg_comb)"
   ]
  },
  {
   "cell_type": "markdown",
   "metadata": {},
   "source": [
    "##### Como vemos, de media, la solución con trasposiciones como función de mutación es mejor(tiene menor coste) que la solución con funciones de mutación combinadas. Veamos cual de ellas tarda más:"
   ]
  },
  {
   "cell_type": "code",
   "execution_count": 72,
   "metadata": {},
   "outputs": [
    {
     "name": "stdout",
     "output_type": "stream",
     "text": [
      "5.65 s ± 257 ms per loop (mean ± std. dev. of 7 runs, 1 loop each)\n"
     ]
    }
   ],
   "source": [
    "%%timeit \n",
    "algoritmo_genetico(mag_cuad_t,k=10,opt=min,ngen=400,size=30,prop_cruces=0.8,prob_mutar=0.2)"
   ]
  },
  {
   "cell_type": "code",
   "execution_count": 73,
   "metadata": {},
   "outputs": [
    {
     "name": "stdout",
     "output_type": "stream",
     "text": [
      "5.9 s ± 16.2 ms per loop (mean ± std. dev. of 7 runs, 1 loop each)\n"
     ]
    }
   ],
   "source": [
    "%%timeit\n",
    "algoritmo_genetico(mag_cuad_comb,k=10,opt=min,ngen=400,size=30,prop_cruces=0.8,prob_mutar=0.2)"
   ]
  },
  {
   "cell_type": "markdown",
   "metadata": {},
   "source": [
    "##### El algoritmo genético con transposiciones como función de mutación tarda de media(con estos parámetros concretos) 5.65 s, mientras que el genético con la función de mutación combinada tarda 5.9 s. Es decir, tanto en rendimiento como en calidad de las soluciones, las trasposiciones son mejores como función de mutación, y por tanto nos hemos equivocado al combinar las tres funciones de mutación que teníamos implementadas  \n",
    "\n",
    "#### Probemos ahora cruzar_mag_corte y cost_mag_max"
   ]
  },
  {
   "cell_type": "code",
   "execution_count": 64,
   "metadata": {},
   "outputs": [],
   "source": [
    "n = 3\n",
    "magiconxn = ProblemaGenetico(None,decodifica_mag, mutar_mag_t , cruzar_mag_corte, cost_mag_max,n**2)"
   ]
  },
  {
   "cell_type": "code",
   "execution_count": 65,
   "metadata": {},
   "outputs": [
    {
     "data": {
      "text/plain": [
       "([[1, 6, 8], [5, 7, 3], [9, 2, 4]], 0.0)"
      ]
     },
     "execution_count": 65,
     "metadata": {},
     "output_type": "execute_result"
    }
   ],
   "source": [
    "algoritmo_genetico(magiconxn,5,min,400,20,0.7,0.5)"
   ]
  },
  {
   "cell_type": "code",
   "execution_count": 66,
   "metadata": {},
   "outputs": [],
   "source": [
    "n = 4\n",
    "magiconxn = ProblemaGenetico(None,decodifica_mag, mutar_mag_t , cruzar_mag_corte, cost_mag_max,n**2)"
   ]
  },
  {
   "cell_type": "code",
   "execution_count": 68,
   "metadata": {},
   "outputs": [
    {
     "data": {
      "text/plain": [
       "([[2, 3, 13, 16], [10, 11, 5, 8], [7, 14, 12, 1], [15, 6, 4, 9]], 0.0)"
      ]
     },
     "execution_count": 68,
     "metadata": {},
     "output_type": "execute_result"
    }
   ],
   "source": [
    "algoritmo_genetico(magiconxn,5,min,400,30,0.7,0.5)"
   ]
  },
  {
   "cell_type": "code",
   "execution_count": 69,
   "metadata": {},
   "outputs": [],
   "source": [
    "n = 5\n",
    "magiconxn = ProblemaGenetico(None,decodifica_mag, mutar_mag_t , cruzar_mag_corte, cost_mag_max,n**2)"
   ]
  },
  {
   "cell_type": "code",
   "execution_count": 81,
   "metadata": {},
   "outputs": [
    {
     "data": {
      "text/plain": [
       "([[4, 13, 14, 24, 10],\n",
       "  [21, 12, 17, 15, 1],\n",
       "  [9, 20, 23, 3, 11],\n",
       "  [6, 18, 5, 8, 25],\n",
       "  [22, 2, 7, 16, 19]],\n",
       " 1.0)"
      ]
     },
     "execution_count": 81,
     "metadata": {},
     "output_type": "execute_result"
    }
   ],
   "source": [
    "algoritmo_genetico(magiconxn,10,min,1000,100,0.7,0.3)"
   ]
  },
  {
   "cell_type": "markdown",
   "metadata": {},
   "source": [
    "#### Parece que no va nada mal, al menos para casos bajos. Se debe fundamentalmente al fitness, pues el cruce por cortes casi no se aplica"
   ]
  },
  {
   "cell_type": "markdown",
   "metadata": {},
   "source": [
    "### Probemos casos con n mayor"
   ]
  },
  {
   "cell_type": "code",
   "execution_count": 74,
   "metadata": {},
   "outputs": [],
   "source": [
    "n = 5\n",
    "mag_cuad = ProblemaGenetico(None,decodifica_mag,mutar_mag_t , cruzar_mag, cost_mag,n**2)"
   ]
  },
  {
   "cell_type": "code",
   "execution_count": 76,
   "metadata": {},
   "outputs": [
    {
     "data": {
      "text/plain": [
       "([[11, 24, 1, 18, 10],\n",
       "  [15, 7, 16, 2, 25],\n",
       "  [13, 12, 21, 14, 5],\n",
       "  [6, 19, 23, 9, 8],\n",
       "  [20, 3, 4, 22, 17]],\n",
       " 2.0)"
      ]
     },
     "execution_count": 76,
     "metadata": {},
     "output_type": "execute_result"
    }
   ],
   "source": [
    "algoritmo_genetico(mag_cuad,k=10,opt=min,ngen=400,size=30,prop_cruces=0.8,prob_mutar=0.2)"
   ]
  },
  {
   "cell_type": "code",
   "execution_count": 81,
   "metadata": {},
   "outputs": [
    {
     "data": {
      "text/plain": [
       "([[13, 3, 15, 24, 10],\n",
       "  [1, 25, 11, 5, 22],\n",
       "  [20, 16, 4, 7, 18],\n",
       "  [23, 2, 14, 17, 9],\n",
       "  [8, 19, 21, 12, 6]],\n",
       " 2.0)"
      ]
     },
     "execution_count": 81,
     "metadata": {},
     "output_type": "execute_result"
    }
   ],
   "source": [
    "algoritmo_genetico(mag_cuad,k=10,opt=min,ngen=500,size=30,prop_cruces=0.8,prob_mutar=0.3)"
   ]
  },
  {
   "cell_type": "code",
   "execution_count": 82,
   "metadata": {},
   "outputs": [
    {
     "data": {
      "text/plain": [
       "([[18, 21, 24, 1, 3],\n",
       "  [5, 8, 16, 22, 14],\n",
       "  [6, 4, 11, 20, 25],\n",
       "  [17, 9, 12, 15, 10],\n",
       "  [19, 23, 2, 7, 13]],\n",
       " 6.0)"
      ]
     },
     "execution_count": 82,
     "metadata": {},
     "output_type": "execute_result"
    }
   ],
   "source": [
    "algoritmo_genetico(mag_cuad,k=10,opt=min,ngen=500,size=30,prop_cruces=0.8,prob_mutar=0.3)"
   ]
  },
  {
   "cell_type": "code",
   "execution_count": 86,
   "metadata": {},
   "outputs": [
    {
     "data": {
      "text/plain": [
       "([[18, 7, 15, 21, 4],\n",
       "  [22, 3, 6, 9, 25],\n",
       "  [1, 24, 23, 5, 12],\n",
       "  [14, 20, 2, 13, 16],\n",
       "  [10, 11, 19, 17, 8]],\n",
       " 0.0)"
      ]
     },
     "execution_count": 86,
     "metadata": {},
     "output_type": "execute_result"
    }
   ],
   "source": [
    "# En este problema concreto, los cruces deterioran la estructura de las soluciones, así que disminuimos la \n",
    "#proporcion de cruces al 50%\n",
    "algoritmo_genetico(mag_cuad,k=10,opt=min,ngen=1000,size=50,prop_cruces=0.5,prob_mutar=0.3)\n",
    "# solución óptima: \n",
    "\"\"\"([[18, 7, 15, 21, 4],\n",
    "     [22, 3, 6, 9, 25],\n",
    "     [1, 24, 23, 5, 12],\n",
    "     [14, 20, 2, 13, 16],\n",
    "     [10, 11, 19, 17, 8]],\n",
    "      0.0)\"\"\""
   ]
  },
  {
   "cell_type": "code",
   "execution_count": 85,
   "metadata": {},
   "outputs": [],
   "source": [
    "n = 8\n",
    "mag_cuad = ProblemaGenetico(None,decodifica_mag,mutar_mag_t , cruzar_mag, cost_mag,n**2)"
   ]
  },
  {
   "cell_type": "code",
   "execution_count": 90,
   "metadata": {},
   "outputs": [
    {
     "data": {
      "text/plain": [
       "([[26, 12, 38, 31, 55, 50, 3, 45],\n",
       "  [25, 29, 57, 20, 39, 13, 19, 58],\n",
       "  [27, 8, 59, 51, 33, 11, 30, 41],\n",
       "  [56, 34, 14, 16, 61, 64, 9, 6],\n",
       "  [1, 44, 18, 28, 23, 60, 46, 40],\n",
       "  [24, 54, 43, 15, 7, 22, 63, 32],\n",
       "  [48, 62, 10, 47, 37, 5, 49, 2],\n",
       "  [53, 17, 21, 52, 4, 35, 42, 36]],\n",
       " 2.0)"
      ]
     },
     "execution_count": 90,
     "metadata": {},
     "output_type": "execute_result"
    }
   ],
   "source": [
    "algoritmo_genetico(mag_cuad,k=10,opt=min,ngen=1000,size=100,prop_cruces=0.5,prob_mutar=0.3)"
   ]
  },
  {
   "cell_type": "code",
   "execution_count": 92,
   "metadata": {},
   "outputs": [
    {
     "data": {
      "text/plain": [
       "([[18, 43, 37, 22, 41, 52, 30, 17],\n",
       "  [48, 5, 34, 27, 42, 4, 46, 54],\n",
       "  [38, 8, 55, 36, 25, 26, 32, 40],\n",
       "  [10, 47, 14, 16, 56, 2, 62, 53],\n",
       "  [31, 49, 24, 59, 28, 35, 21, 13],\n",
       "  [11, 7, 23, 58, 63, 64, 19, 15],\n",
       "  [44, 51, 12, 9, 3, 57, 45, 39],\n",
       "  [60, 50, 61, 33, 1, 20, 6, 29]],\n",
       " 2.0)"
      ]
     },
     "execution_count": 92,
     "metadata": {},
     "output_type": "execute_result"
    }
   ],
   "source": [
    "algoritmo_genetico(mag_cuad,k=10,opt=min,ngen=2000,size=100,prop_cruces=0.5,prob_mutar=0.3)"
   ]
  },
  {
   "cell_type": "code",
   "execution_count": 95,
   "metadata": {},
   "outputs": [
    {
     "data": {
      "text/plain": [
       "([[53, 58, 62, 9, 22, 7, 29, 20],\n",
       "  [44, 23, 4, 60, 13, 42, 45, 28],\n",
       "  [8, 1, 38, 41, 49, 33, 64, 25],\n",
       "  [30, 54, 31, 34, 59, 26, 12, 15],\n",
       "  [5, 40, 55, 10, 35, 50, 47, 18],\n",
       "  [3, 46, 2, 37, 57, 27, 36, 52],\n",
       "  [61, 24, 17, 48, 6, 32, 11, 63],\n",
       "  [56, 14, 51, 21, 19, 43, 16, 39]],\n",
       " 6.0)"
      ]
     },
     "execution_count": 95,
     "metadata": {},
     "output_type": "execute_result"
    }
   ],
   "source": [
    "algoritmo_genetico(mag_cuad,k=10,opt=min,ngen=2000,size=100,prop_cruces=0.5,prob_mutar=0.3)"
   ]
  },
  {
   "cell_type": "code",
   "execution_count": 96,
   "metadata": {},
   "outputs": [
    {
     "data": {
      "text/plain": [
       "([[57, 45, 28, 13, 8, 12, 63, 35],\n",
       "  [61, 16, 60, 34, 15, 10, 18, 46],\n",
       "  [3, 62, 30, 43, 47, 53, 1, 21],\n",
       "  [9, 55, 5, 25, 56, 50, 41, 19],\n",
       "  [64, 17, 33, 37, 29, 6, 48, 26],\n",
       "  [32, 11, 7, 49, 58, 39, 24, 40],\n",
       "  [20, 2, 38, 27, 44, 36, 42, 51],\n",
       "  [14, 52, 59, 31, 4, 54, 23, 22]],\n",
       " 4.0)"
      ]
     },
     "execution_count": 96,
     "metadata": {},
     "output_type": "execute_result"
    }
   ],
   "source": [
    "algoritmo_genetico(mag_cuad,k=10,opt=min,ngen=1000,size=100,prop_cruces=0.5,prob_mutar=0.3)"
   ]
  },
  {
   "cell_type": "code",
   "execution_count": 86,
   "metadata": {},
   "outputs": [],
   "source": [
    "### Probemos con el coste cost_mag_max\n",
    "magiconxn = ProblemaGenetico(None,decodifica_mag, mutar_mag_t , cruzar_mag_corte, cost_mag_max,n**2)"
   ]
  },
  {
   "cell_type": "code",
   "execution_count": 87,
   "metadata": {},
   "outputs": [
    {
     "data": {
      "text/plain": [
       "([[5, 60, 25, 38, 36, 61, 4, 30],\n",
       "  [12, 50, 19, 11, 31, 63, 21, 55],\n",
       "  [17, 47, 42, 52, 40, 34, 22, 7],\n",
       "  [18, 6, 49, 24, 13, 51, 54, 45],\n",
       "  [37, 29, 41, 33, 35, 10, 59, 14],\n",
       "  [62, 20, 2, 39, 53, 9, 44, 26],\n",
       "  [64, 43, 23, 15, 32, 27, 1, 58],\n",
       "  [46, 3, 56, 48, 16, 8, 57, 28]],\n",
       " 3.0)"
      ]
     },
     "execution_count": 87,
     "metadata": {},
     "output_type": "execute_result"
    }
   ],
   "source": [
    "algoritmo_genetico(magiconxn,10,min,1000,100,0.5,0.3)"
   ]
  },
  {
   "cell_type": "code",
   "execution_count": 88,
   "metadata": {},
   "outputs": [
    {
     "data": {
      "text/plain": [
       "([[10, 40, 23, 61, 18, 33, 22, 55],\n",
       "  [38, 21, 43, 19, 20, 46, 60, 11],\n",
       "  [49, 56, 6, 3, 34, 52, 13, 48],\n",
       "  [25, 44, 47, 12, 28, 8, 41, 54],\n",
       "  [4, 45, 64, 26, 53, 15, 50, 2],\n",
       "  [57, 5, 14, 32, 36, 59, 30, 29],\n",
       "  [37, 17, 1, 58, 63, 35, 27, 24],\n",
       "  [42, 31, 62, 51, 9, 7, 16, 39]],\n",
       " 2.0)"
      ]
     },
     "execution_count": 88,
     "metadata": {},
     "output_type": "execute_result"
    }
   ],
   "source": [
    "algoritmo_genetico(magiconxn,10,min,1000,100,0.5,0.3)"
   ]
  },
  {
   "cell_type": "markdown",
   "metadata": {},
   "source": [
    "### Ejercicio 9\n",
    "Se quiere organizar una **jornada de la informática** en la Facultad. \n",
    "El Vicedecano necesita organizar el horario y la asignación de profesores para n actividades temáticas, a_1, . . . , a_n.  Dispone de m profesores p_1, . . . , p_m con distintos niveles de cualificación. \n",
    "No todos los profesores tienen los conocimientos para encargarse de todas las actividades. \n",
    "El mismo profesor pi puede encargarse de distintas actividades (que se le remunerarán convenientemente) pero no podemos asignar al mismo profesor dos actividades que se impartan simultáneamente. \n",
    "Cada actividad puede durar un tiempo diferente dependiendo del profesor que la organice. Si un profesor p_i puede realizar la actividad a_j, entonces denotaremos por t_ij el tiempo que pi tardará en realizar la actividad a_j. \n",
    "Existen dependencias entre los contenidos de las actividades lo que obliga a incluir algunas restricciones temporales, es decir, algunas actividades hay que realizarlas cuando otras ya hayan terminado. Esto es, tenemos un conjunto de restricciones que indican que ai se debe realizar antes de a_j. Por ejemplo, El taller de iniciación a Scratch se debe realizar antes que el laboratorio de desarrollo de videojuegos con Scratch.   \n",
    "Se pide dar una solución al problema de decidir, para cada actividad, qué profesor la realizará y en qué momento se debe ofertar la actividad para que, al ﬁnal de la jornada, se puedan realizar todas las actividades con cuidado de cumplir los prerrequisitos (restricciones temporales) y el conjunto de actividades se realice en el menor tiempo posible."
   ]
  },
  {
   "cell_type": "markdown",
   "metadata": {},
   "source": [
    "### Suposiciones\n",
    "Suposiciones que hemos hecho para representar el problema:\n",
    "<ol>\n",
    "<li> No puede haber una actividad con más (o menos) de un profesor asignado a ella </li>\n",
    "<li> Tenemos un número infinito de aulas para realizar las actividades (es decir, dos profesores distintos pueden dirigir dos actividades distintas simultáneamente siempre y cuando una de las actividades no dependa de la otra) </li>\n",
    "<li> Una actividad nunca puede depender ni de sí misma ni de una tarea que dependa de ella para su realización (para evitar bucles) </li>\n",
    "<li> El tiempo está representado en una escala temporal abstracta (T = 0, T = 1, y cada unidad puede ser de 10minutos, 30 minutos, 1 hora,etc ) esto permite subdividir la escala temporal a conveniencia</li>\n",
    "</ul>"
   ]
  },
  {
   "cell_type": "markdown",
   "metadata": {},
   "source": [
    "### Restricciones\n",
    "<ul>\n",
    "    <li>No todos los profesores tienen los\n",
    "conocimientos para encargarse de todas las actividades. Marcamos con -1 en la posición T_ij si un profesor i no puede realizar una actividad j</li>\n",
    "    <li>No podemos asignar al mismo profesor dos actividades\n",
    "que se impartan simultáneamente</li>\n",
    "    <li>Algunas actividades hay que realizarlas cuando otras ya\n",
    "hayan terminado</li>\n",
    "    <li> Hay que asignar todas las actividades</li>\n",
    "</ul>"
   ]
  },
  {
   "cell_type": "markdown",
   "metadata": {},
   "source": [
    "### Representación restricciones del problema\n",
    "\n",
    "Sea n el número de profesores y m el número de actividades. Proponemos una matriz T de tamaño mxn tal que T_ij indica el tiempo que el profesor i tarda en realizar la actividad j. Como este tiempo tiene que ser positivo, indicaremos con -1 que el profesor i no puede realizar la actividad j.\n",
    "\n",
    "La información de que unas tareas se tienen que realizar antes que otras la guardamos en una lista de listas R, tal que en la posición j hay una lista con las tareas que hay que realizar antes que la tarea j. Nota: no es recomendable introducir restricciones incompatibles (1 tiene que realizarse antes que 2 pero 2 tiene que realizarse antes que 1), pues los algoritmos devolverán una solución que evidentemente no cumple esas restricciones. Además, si 2 depende de 1, y 1 depende de 0, aunque (por transitividad) 2 también depende de 0, esta restricción no se contabilizará en el input que le damos al algoritmo( que en este caso será [[],[0],[1]]), pues en otro caso, por implementación del coste(que veremos más adelante), esta información se contaría doblemente.\n",
    "    "
   ]
  },
  {
   "cell_type": "markdown",
   "metadata": {},
   "source": [
    "### Representación de Estados/Cromosomas\n",
    "Se representarán con una lista de tamaño n (una posición por cada tarea), tal que en i se guarda una tupla con el profesor j escogido para la tarea i, y el tiempo en el que empieza esa tarea."
   ]
  },
  {
   "cell_type": "markdown",
   "metadata": {},
   "source": [
    "### Mutaciones\n",
    "Elegir una tarea aleatoria, y cambiar su profesor aleatoriamente(dentro del rango 0<=j < m), y su tiemo de inicio aleatoriamente(dentro del rango 0<=t<=T donde T es el tiempo de finalización de la tarea que más tarde termina)</li>\n"
   ]
  },
  {
   "cell_type": "markdown",
   "metadata": {},
   "source": [
    "### Cruces\n",
    "Para el cruce, como hay que preservar el orden de los genes(pues el mismo gen en dos posiciones distintas significaría soluciones muy diferentes), hemos optado por probar con cruces de 1 punto o de 2 puntos."
   ]
  },
  {
   "cell_type": "markdown",
   "metadata": {},
   "source": [
    "### Coste\n",
    "En este problema, como es de minimización, no usamos función de valor sino de coste. Como los algoritmos de hill_climbing y simulated_annealing son de maximización, la función de valor ha de devolver el opuesto del coste.\n",
    "\n",
    "Por un lado, este coste tiene que contener la información del tiempo total que tardamos en realizar las actividades. Como hay varios profesores, habrá tareas que pueden realizarse de forma paralela. Por tanto, nosotros consideramos que el tiempo total coincide con el tiempo de terminación de la tarea que más tarde termina. Por ejemplo, si se realizan las tareas 0 (de duración 2) y 1 (de duración 3) de forma paralela, el tiempo total será =3.\n",
    "\n",
    "Por otro lado, este coste también tiene que penalizar las restricciones que se incumplan. Nos interesa penalizarlas mucho, para que esta penalización sea más importante y tenga más peso que el tiempo total (pues priorizamos el encontrar soluciones válidas a encontrar soluciones de tiempo bajo pero incumpliendo requisitos).  \n",
    "Por tanto escogemos M = max(T_ij), el tiempo máximo que puede tardar una tarea, y cada vez que se incumpla una penalización añadiremos 2*M al coste total.  \n",
    "Por tanto, el coste total:\n",
    "Cost = max(tiempo finalización tareas) + 2*M * (número de restricciones incumplidas)\n",
    "\n",
    "Donde las restricciones que se pueden incuplir son: asignar a un profesor dos tareas que se solapen, realizar una tarea sin que hayan terminado sus dependencias (contamos cada una de las dependencias incumplidas), o asignar a un profesor una tarea marcada con -1."
   ]
  },
  {
   "cell_type": "code",
   "execution_count": 89,
   "metadata": {},
   "outputs": [],
   "source": [
    "import random\n",
    "class Problema(object):\n",
    "    def __init__(self, T, R):\n",
    "        self.T = T\n",
    "        self.n = len(R)\n",
    "        self.m = len(T)\n",
    "        self.R = R\n",
    "        self.M = max(max(v) for v in T) # Para penalizaciones\n",
    "                \n",
    "    def decodifica(self, genotipo):\n",
    "        #Como fenotipo elegimos el propio genotipo, al que le añadimos la duración de cada tarea.\n",
    "        #Podría haber otra visualización mejor\n",
    "        fen = genotipo[:]\n",
    "        for j, par in enumerate(fen):\n",
    "            i,t = par\n",
    "            fen[j] = (i, t, self.T[i][j])\n",
    "        return fen\n",
    "    \n",
    "    def _max_fin(self, cromosoma, prof=None):\n",
    "        #halla el máximo tiempo de finalización de tareas\n",
    "        max_t = 0\n",
    "        for j, par in enumerate(cromosoma):\n",
    "            i,t = par\n",
    "            if prof is None or i == prof:\n",
    "                # duraciones enteras. Como minimo duracion 1 (para el caso que sea -1)\n",
    "                max_t = max(max_t, t + max(1, self.T[i][j]))\n",
    "        return max_t   \n",
    "    \n",
    "    def muta(self, cromosoma,prob):\n",
    "        crom = cromosoma[:]\n",
    "        if prob > random.uniform(0,1): \n",
    "            l = len(cromosoma)\n",
    "            p = random.randint(0,l-1)\n",
    "            nuevo_prof = random.randint(0,self.m - 1)\n",
    "            nuevo_ini = random.randint(0,self._max_fin(cromosoma, nuevo_prof))\n",
    "            crom[p] = (nuevo_prof,nuevo_ini)\n",
    "            \n",
    "        return crom\n",
    "    \n",
    "    def _cruza(self,c1, c2):\n",
    "        aux = c1[:]\n",
    "        left = random.randint(0, len(aux) - 1)\n",
    "        right = random.randint(0, len(aux) - 1)\n",
    "        if left > right:\n",
    "            left, right = right, left\n",
    "        aux[left: right + 1] = c2[left: right + 1]\n",
    "        return aux\n",
    "    \n",
    "    def cruza(self, cromosoma1, cromosoma2):         \n",
    "        return [self._cruza(cromosoma1,cromosoma2), self._cruza(cromosoma2,cromosoma1)] \n",
    "    \n",
    "    def fitness(self, cromosoma):  \n",
    "        max_f = self._max_fin(cromosoma)\n",
    "        incump = 0\n",
    "        for j, par in enumerate(cromosoma):\n",
    "            i,t = par\n",
    "            #asignar a un profesor una tarea marcada con -1\n",
    "            if self.T[i][j] == -1:\n",
    "                incump += 2\n",
    "\n",
    "            for j2, par2 in enumerate(cromosoma):\n",
    "                i2,t2 = par2\n",
    "                if j != j2:\n",
    "                    tfin = t + max(1, self.T[i][j])\n",
    "                    tfin2 = t2 + max(1, self.T[i2][j2])\n",
    "                    #realizar una tarea sin que hayan terminado sus dependencias \n",
    "                    if tfin2 > t and j2 in self.R[j] or tfin > t2 and j in self.R[j2]:\n",
    "                        incump += 1\n",
    "                    #asignar a un profesor dos tareas que se solapen\n",
    "                    if i == i2:\n",
    "                        inis = [t, t2] #intersección intervalos\n",
    "                        fines = [tfin, tfin2]\n",
    "                        inis.sort(); fines.sort()\n",
    "                        if fines[0] > inis[1]:\n",
    "                            incump += 1      \n",
    "                        \n",
    "        return max_f + incump * self.M"
   ]
  },
  {
   "cell_type": "code",
   "execution_count": 4,
   "metadata": {},
   "outputs": [],
   "source": [
    "def poblacion_inicial(problema_genetico, size):\n",
    "    M = problema_genetico.M\n",
    "    l = []\n",
    "    for i in range(size):\n",
    "        crom = [(0,0)]*problema_genetico.n\n",
    "        for i in range(0,len(crom)):\n",
    "            prof = random.randint(0,problema_genetico.m - 1)\n",
    "            ini = 0 # empezamos con soluciones que empiezan en t=0, para que este tiempo solo aumente si es necesario\n",
    "            crom[i] = (prof,ini)\n",
    "        l.append(crom)\n",
    "    return l"
   ]
  },
  {
   "cell_type": "code",
   "execution_count": 5,
   "metadata": {},
   "outputs": [],
   "source": [
    "def cruza_padres(problema_genetico,padres):\n",
    "    l = []\n",
    "    for i in range(len(padres)//2):\n",
    "        l = l + problema_genetico.cruza(padres[2*i],padres[2*i+1])\n",
    "    return l\n",
    "\n",
    "def muta_individuos(problema_genetico, poblacion, prob):\n",
    "    return [problema_genetico.muta(x, prob) for x in poblacion]\n",
    "\n",
    "def seleccion_por_torneo(problema_genetico, poblacion, n, k, opt):\n",
    "    \"\"\"Selección por torneo de n individuos de una población. Siendo k el nº de participantes\n",
    "        y opt la función max o min.\"\"\"\n",
    "    seleccionados = []\n",
    "    for i in range(n):\n",
    "        participantes = random.sample(poblacion,k)\n",
    "        seleccionado = opt(participantes, key=problema_genetico.fitness)\n",
    "        opt(poblacion, key=problema_genetico.fitness)\n",
    "        seleccionados.append(seleccionado)\n",
    "        # poblacion.remove(seleccionado)\n",
    "    return seleccionados \n",
    "\n",
    "def algoritmo_genetico(problema_genetico,k,opt,ngen,size,prop_cruces,prob_mutar):\n",
    "    poblacion= poblacion_inicial(problema_genetico,size)\n",
    "    n_padres=round(size*prop_cruces)\n",
    "    n_padres= int (n_padres if n_padres%2==0 else n_padres-1)\n",
    "    n_directos = size-n_padres\n",
    "    for _ in range(ngen):\n",
    "        poblacion= nueva_generacion(problema_genetico,k,opt,poblacion,n_padres, n_directos,prob_mutar)\n",
    "\n",
    "    mejor_cr= opt(poblacion, key=problema_genetico.fitness)\n",
    "    mejor=problema_genetico.decodifica(mejor_cr)\n",
    "    return (mejor,problema_genetico.fitness(mejor_cr)) \n",
    "\n",
    "def nueva_generacion(problema_genetico, k,opt, poblacion, n_padres, n_directos, prob_mutar):\n",
    "    padres2 = seleccion_por_torneo(problema_genetico, poblacion, n_directos, k,opt) \n",
    "    padres1 = seleccion_por_torneo(problema_genetico, poblacion, n_padres , k, opt)\n",
    "    cruces =  cruza_padres(problema_genetico,padres1)\n",
    "    generacion = padres2+cruces\n",
    "    resultado_mutaciones = muta_individuos(problema_genetico, generacion, prob_mutar)\n",
    "    return resultado_mutaciones"
   ]
  },
  {
   "cell_type": "code",
   "execution_count": 197,
   "metadata": {},
   "outputs": [],
   "source": [
    "# m = 5 profesores\n",
    "# n = 3 tareas\n",
    "T = [[-1,2,3],[7,2,1],[-1,-1,-1],[10,-1,-1],[3,3,4]]\n",
    "R = [[],[0,2],[]] # Restricciones: la 0 antes que la 1, y la 1 antes que la 2"
   ]
  },
  {
   "cell_type": "code",
   "execution_count": 198,
   "metadata": {},
   "outputs": [],
   "source": [
    "prob = Problema(T,R)"
   ]
  },
  {
   "cell_type": "code",
   "execution_count": 202,
   "metadata": {},
   "outputs": [
    {
     "data": {
      "text/plain": [
       "([(4, 0, 3), (0, 3, 2), (0, 0, 3)], 5)"
      ]
     },
     "execution_count": 202,
     "metadata": {},
     "output_type": "execute_result"
    }
   ],
   "source": [
    "algoritmo_genetico(prob,k=10,opt=min,ngen=50,size=15,prop_cruces=0.7,prob_mutar=0.2)\n",
    "#En el índice j, hay una 3-upla: (profesor, t_inicio, duración_tarea)"
   ]
  },
  {
   "cell_type": "code",
   "execution_count": 200,
   "metadata": {},
   "outputs": [
    {
     "data": {
      "text/plain": [
       "([(4, 0, 3), (0, 3, 2), (0, 0, 3)], 5)"
      ]
     },
     "execution_count": 200,
     "metadata": {},
     "output_type": "execute_result"
    }
   ],
   "source": [
    "algoritmo_genetico(prob,k=10,opt=min,ngen=100,size=25,prop_cruces=0.7,prob_mutar=0.2)"
   ]
  },
  {
   "cell_type": "code",
   "execution_count": 201,
   "metadata": {},
   "outputs": [
    {
     "data": {
      "text/plain": [
       "([(4, 0, 3), (0, 3, 2), (0, 0, 3)], 5)"
      ]
     },
     "execution_count": 201,
     "metadata": {},
     "output_type": "execute_result"
    }
   ],
   "source": [
    "algoritmo_genetico(prob,k=10,opt=min,ngen=100,size=50,prop_cruces=0.7,prob_mutar=0.15)"
   ]
  },
  {
   "cell_type": "code",
   "execution_count": 203,
   "metadata": {},
   "outputs": [],
   "source": [
    "#Prueba sin solucion\n",
    "T = [[-1,2,3],[7,2,1],[-1,-1,-1],[10,-1,-1],[3,3,4]]\n",
    "R = [[1],[0],[]] # Restricciones: la 0 antes que la 1, y la 1 antes que la 0\n",
    "prob = Problema(T,R)"
   ]
  },
  {
   "cell_type": "code",
   "execution_count": 204,
   "metadata": {},
   "outputs": [
    {
     "data": {
      "text/plain": [
       "([(4, 0, 3), (1, 0, 2), (0, 0, 3)], 23)"
      ]
     },
     "execution_count": 204,
     "metadata": {},
     "output_type": "execute_result"
    }
   ],
   "source": [
    "algoritmo_genetico(prob,k=10,opt=min,ngen=100,size=15,prop_cruces=0.7,prob_mutar=0.2)\n",
    "#Como vemos salen soluciones con alta penalización"
   ]
  },
  {
   "cell_type": "markdown",
   "metadata": {},
   "source": [
    "### Casos de prueba del foro: Prueba 1"
   ]
  },
  {
   "cell_type": "code",
   "execution_count": 65,
   "metadata": {},
   "outputs": [],
   "source": [
    "# Nota: nosotros el tiempo lo representamos en una escala temporal abstracta (T = 0, T = 1, etc)\n",
    "# esto permite subdividir la escala temporal a conveniencia. En estos primeros ejercicios, \n",
    "# solo hay clases con duración múltiplo de 60 min (lo cual es nuestra interpretación del problema, es decir,\n",
    "# no tener una actividad de 40 minutos y otra de 50). Por tanto, en este problema trabajamos con múltiplos de\n",
    "# 60 minutos\n",
    " \n",
    "T = [[1,1,-1,-1,-1,-1,-1,-1,-1,-1],[-1,-1,1,1,-1,-1,-1,-1,-1,-1],[-1,-1,-1,-1,1,1,-1,-1,-1,-1],\n",
    "     [-1,-1,-1,-1,-1,-1,1,1,-1,-1],[-1,-1,-1,-1,-1,-1,-1,-1,1,1]]\n",
    "R = [[],[],[],[],[],[],[],[],[],[]] \n",
    "# Hay soluciones de 120 minutos = fitness 2\n",
    "prob = Problema(T,R)"
   ]
  },
  {
   "cell_type": "code",
   "execution_count": 66,
   "metadata": {
    "scrolled": true
   },
   "outputs": [
    {
     "data": {
      "text/plain": [
       "([(0, 2, 1),\n",
       "  (0, 0, 1),\n",
       "  (1, 1, 1),\n",
       "  (1, 0, 1),\n",
       "  (2, 0, 1),\n",
       "  (2, 1, 1),\n",
       "  (3, 0, 1),\n",
       "  (3, 1, 1),\n",
       "  (4, 0, 1),\n",
       "  (4, 2, 1)],\n",
       " 3)"
      ]
     },
     "execution_count": 66,
     "metadata": {},
     "output_type": "execute_result"
    }
   ],
   "source": [
    "algoritmo_genetico(prob,k=7,opt=min,ngen=150,size=20,prop_cruces=0.4,prob_mutar=0.3) "
   ]
  },
  {
   "cell_type": "code",
   "execution_count": 43,
   "metadata": {
    "scrolled": true
   },
   "outputs": [
    {
     "data": {
      "text/plain": [
       "([(0, 0, 1),\n",
       "  (0, 1, 1),\n",
       "  (1, 1, 1),\n",
       "  (1, 0, 1),\n",
       "  (2, 0, 1),\n",
       "  (2, 1, 1),\n",
       "  (3, 1, 1),\n",
       "  (3, 0, 1),\n",
       "  (4, 1, 1),\n",
       "  (4, 0, 1)],\n",
       " 2)"
      ]
     },
     "execution_count": 43,
     "metadata": {},
     "output_type": "execute_result"
    }
   ],
   "source": [
    "algoritmo_genetico(prob,k=7,opt=min,ngen=150,size=20,prop_cruces=0.4,prob_mutar=0.3) \n",
    "# Devuelve la solución óptima con fitness 2 (120 min)\n",
    "\"\"\"([(0, 0, 1),\n",
    "  (0, 1, 1),\n",
    "  (1, 1, 1),\n",
    "  (1, 0, 1),\n",
    "  (2, 0, 1),\n",
    "  (2, 1, 1),\n",
    "  (3, 1, 1),\n",
    "  (3, 0, 1),\n",
    "  (4, 1, 1),\n",
    "  (4, 0, 1)],\n",
    " 2)\"\"\""
   ]
  },
  {
   "cell_type": "markdown",
   "metadata": {},
   "source": [
    "### Casos de prueba del foro: Prueba 2"
   ]
  },
  {
   "cell_type": "code",
   "execution_count": 67,
   "metadata": {},
   "outputs": [],
   "source": [
    "T = [[1,1,1,-1,-1,-1,-1,-1,-1,-1],[1,1,1,1,-1,-1,-1,-1,-1,-1],[1,1,1,1,1,1,-1,-1,-1,-1],\n",
    "     [1,1,1,1,-1,1,1,-1,-1,-1],[1,1,1,1,1,1,1,1,1,1]]\n",
    "R = [[],[],[],[],[],[],[],[],[],[]] \n",
    "# Hay soluciones de 180 minutos = fitness 3\n",
    "prob = Problema(T,R)"
   ]
  },
  {
   "cell_type": "code",
   "execution_count": 71,
   "metadata": {},
   "outputs": [
    {
     "data": {
      "text/plain": [
       "([(1, 1, 1),\n",
       "  (1, 2, 1),\n",
       "  (0, 1, 1),\n",
       "  (1, 0, 1),\n",
       "  (2, 1, 1),\n",
       "  (2, 2, 1),\n",
       "  (3, 0, 1),\n",
       "  (4, 0, 1),\n",
       "  (4, 1, 1),\n",
       "  (4, 2, 1)],\n",
       " 3)"
      ]
     },
     "execution_count": 71,
     "metadata": {},
     "output_type": "execute_result"
    }
   ],
   "source": [
    "algoritmo_genetico(prob,k=10,opt=min,ngen=200,size=20,prop_cruces=0.6,prob_mutar=0.3) "
   ]
  },
  {
   "cell_type": "markdown",
   "metadata": {},
   "source": [
    "### Casos de prueba del foro: Prueba 3"
   ]
  },
  {
   "cell_type": "code",
   "execution_count": 79,
   "metadata": {},
   "outputs": [],
   "source": [
    "# Igual pero el 4 sabe dar el taller 8\n",
    "T = [[1,1,1,-1,-1,-1,-1,-1,-1,-1],[1,1,1,1,-1,-1,-1,-1,-1,-1],[1,1,1,1,1,1,-1,-1,-1,-1],\n",
    "     [1,1,1,1,-1,1,1,1,-1,-1],[1,1,1,1,1,1,1,1,1,1]]\n",
    "R = [[],[],[],[],[],[],[],[],[],[]] \n",
    "# Hay soluciones de 120 minutos = fitness 2\n",
    "prob = Problema(T,R)"
   ]
  },
  {
   "cell_type": "code",
   "execution_count": 74,
   "metadata": {},
   "outputs": [
    {
     "data": {
      "text/plain": [
       "([(1, 0, 1),\n",
       "  (3, 0, 1),\n",
       "  (1, 1, 1),\n",
       "  (1, 2, 1),\n",
       "  (2, 0, 1),\n",
       "  (2, 2, 1),\n",
       "  (4, 1, 1),\n",
       "  (3, 2, 1),\n",
       "  (4, 2, 1),\n",
       "  (4, 0, 1)],\n",
       " 3)"
      ]
     },
     "execution_count": 74,
     "metadata": {},
     "output_type": "execute_result"
    }
   ],
   "source": [
    "algoritmo_genetico(prob,k=10,opt=min,ngen=200,size=20,prop_cruces=0.6,prob_mutar=0.3) "
   ]
  },
  {
   "cell_type": "code",
   "execution_count": 77,
   "metadata": {},
   "outputs": [
    {
     "data": {
      "text/plain": [
       "([(1, 2, 1),\n",
       "  (1, 0, 1),\n",
       "  (4, 2, 1),\n",
       "  (3, 2, 1),\n",
       "  (2, 2, 1),\n",
       "  (2, 1, 1),\n",
       "  (3, 1, 1),\n",
       "  (3, 0, 1),\n",
       "  (4, 1, 1),\n",
       "  (4, 0, 1)],\n",
       " 3)"
      ]
     },
     "execution_count": 77,
     "metadata": {},
     "output_type": "execute_result"
    }
   ],
   "source": [
    "algoritmo_genetico(prob,k=10,opt=min,ngen=300,size=30,prop_cruces=0.6,prob_mutar=0.3) "
   ]
  },
  {
   "cell_type": "code",
   "execution_count": 82,
   "metadata": {},
   "outputs": [
    {
     "data": {
      "text/plain": [
       "([(0, 0, 1),\n",
       "  (2, 0, 1),\n",
       "  (1, 1, 1),\n",
       "  (2, 2, 1),\n",
       "  (4, 2, 1),\n",
       "  (3, 2, 1),\n",
       "  (4, 0, 1),\n",
       "  (3, 3, 1),\n",
       "  (4, 1, 1),\n",
       "  (4, 3, 1)],\n",
       " 4)"
      ]
     },
     "execution_count": 82,
     "metadata": {},
     "output_type": "execute_result"
    }
   ],
   "source": [
    "\n",
    "algoritmo_genetico(prob,k=10,opt=min,ngen=200,size=40,prop_cruces=0.6,prob_mutar=0.2) "
   ]
  },
  {
   "cell_type": "code",
   "execution_count": 88,
   "metadata": {},
   "outputs": [
    {
     "data": {
      "text/plain": [
       "([(0, 1, 1),\n",
       "  (0, 0, 1),\n",
       "  (1, 1, 1),\n",
       "  (1, 0, 1),\n",
       "  (2, 1, 1),\n",
       "  (2, 0, 1),\n",
       "  (3, 1, 1),\n",
       "  (3, 0, 1),\n",
       "  (4, 1, 1),\n",
       "  (4, 0, 1)],\n",
       " 2)"
      ]
     },
     "execution_count": 88,
     "metadata": {},
     "output_type": "execute_result"
    }
   ],
   "source": [
    "# Parece que este está costando más. Cambiamos algunos parámetros a ver si..\n",
    "algoritmo_genetico(prob,k=7,opt=min,ngen=300,size=20,prop_cruces=0.6,prob_mutar=0.15) \n",
    "# Éxito! Solución óptima: \n",
    "\"\"\"([(0, 1, 1),\n",
    "   (0, 0, 1),\n",
    "  (1, 1, 1),\n",
    "  (1, 0, 1),\n",
    "  (2, 1, 1),\n",
    "  (2, 0, 1),\n",
    "  (3, 1, 1),\n",
    "  (3, 0, 1),\n",
    "  (4, 1, 1),\n",
    "  (4, 0, 1)], 2)\"\"\""
   ]
  },
  {
   "cell_type": "markdown",
   "metadata": {},
   "source": [
    "### Casos de prueba del foro: Prueba 4"
   ]
  },
  {
   "cell_type": "code",
   "execution_count": 238,
   "metadata": {},
   "outputs": [],
   "source": [
    "# Cambiamos la escala temporal para poder introducir los tiempos. Trabajamos con unidades de 10 minutos \n",
    "# (Recordemos que el algoritmo inicialmente está diseñado para clases de 1h, 2h ,etc)\n",
    "\n",
    "T = [[6,6,6,-1,-1,-1,-1,-1,-1,-1],[6,9,9,10,-1,-1,-1,-1,-1,-1],[5,5,5,5,5,5,-1,-1,-1,-1],\n",
    "     [3,3,4,4,-1,5,6,-1,-1,-1],[4,4,4,4,4,4,4,4,4,4]]\n",
    "R = [[],[],[],[],[],[],[],[],[],[]] \n",
    "# Hay soluciones de 120 minutos = fitness 12\n",
    "prob = Problema(T,R)"
   ]
  },
  {
   "cell_type": "code",
   "execution_count": 206,
   "metadata": {},
   "outputs": [
    {
     "data": {
      "text/plain": [
       "([(1, 7, 6),\n",
       "  (0, 6, 6),\n",
       "  (3, 3, 4),\n",
       "  (4, 8, 4),\n",
       "  (2, 7, 5),\n",
       "  (2, 2, 5),\n",
       "  (4, 4, 4),\n",
       "  (3, 2, -1),\n",
       "  (4, 0, 4),\n",
       "  (4, 12, 4)],\n",
       " 36)"
      ]
     },
     "execution_count": 206,
     "metadata": {},
     "output_type": "execute_result"
    }
   ],
   "source": [
    "algoritmo_genetico(prob,k=7,opt=min,ngen=300,size=30,prop_cruces=0.6,prob_mutar=0.15) "
   ]
  },
  {
   "cell_type": "code",
   "execution_count": 207,
   "metadata": {},
   "outputs": [
    {
     "data": {
      "text/plain": [
       "([(0, 2, 6),\n",
       "  (1, 2, 9),\n",
       "  (3, 1, 4),\n",
       "  (2, 11, 5),\n",
       "  (2, 0, 5),\n",
       "  (2, 6, 5),\n",
       "  (3, 5, 6),\n",
       "  (4, 0, 4),\n",
       "  (4, 4, 4),\n",
       "  (4, 9, 4)],\n",
       " 16)"
      ]
     },
     "execution_count": 207,
     "metadata": {},
     "output_type": "execute_result"
    }
   ],
   "source": [
    "algoritmo_genetico(prob,k=7,opt=min,ngen=300,size=30,prop_cruces=0.5,prob_mutar=0.15) "
   ]
  },
  {
   "cell_type": "code",
   "execution_count": 209,
   "metadata": {},
   "outputs": [
    {
     "data": {
      "text/plain": [
       "([(0, 3, 6),\n",
       "  (1, 4, 9),\n",
       "  (2, 5, 5),\n",
       "  (3, 11, 4),\n",
       "  (2, 0, 5),\n",
       "  (3, 6, 5),\n",
       "  (3, 0, 6),\n",
       "  (4, 8, 4),\n",
       "  (4, 0, 4),\n",
       "  (4, 4, 4)],\n",
       " 15)"
      ]
     },
     "execution_count": 209,
     "metadata": {},
     "output_type": "execute_result"
    }
   ],
   "source": [
    "algoritmo_genetico(prob,k=9,opt=min,ngen=400,size=30,prop_cruces=0.4,prob_mutar=0.15) "
   ]
  },
  {
   "cell_type": "code",
   "execution_count": 161,
   "metadata": {},
   "outputs": [
    {
     "data": {
      "text/plain": [
       "([(1, 7, 6),\n",
       "  (3, 6, 3),\n",
       "  (0, 0, 6),\n",
       "  (3, 10, 4),\n",
       "  (2, 0, 5),\n",
       "  (2, 6, 5),\n",
       "  (3, 0, 6),\n",
       "  (4, 6, 4),\n",
       "  (4, 10, 4),\n",
       "  (4, 1, 4)],\n",
       " 14)"
      ]
     },
     "execution_count": 161,
     "metadata": {},
     "output_type": "execute_result"
    }
   ],
   "source": [
    "algoritmo_genetico(prob,k=11,opt=min,ngen=600,size=35,prop_cruces=0.5,prob_mutar=0.15) "
   ]
  },
  {
   "cell_type": "code",
   "execution_count": 151,
   "metadata": {},
   "outputs": [
    {
     "data": {
      "text/plain": [
       "([(3, 3, 3),\n",
       "  (3, 0, 3),\n",
       "  (0, 2, 6),\n",
       "  (1, 3, 10),\n",
       "  (2, 5, 5),\n",
       "  (2, 0, 5),\n",
       "  (3, 6, 6),\n",
       "  (4, 9, 4),\n",
       "  (4, 4, 4),\n",
       "  (4, 0, 4)],\n",
       " 13)"
      ]
     },
     "execution_count": 151,
     "metadata": {},
     "output_type": "execute_result"
    }
   ],
   "source": [
    "algoritmo_genetico(prob,k=9,opt=min,ngen=400,size=30,prop_cruces=0.5,prob_mutar=0.15)\n",
    "# Encuentra la solución no óptima de 130 min:\n",
    "\"\"\" ([(3, 3, 3),\n",
    "  (3, 0, 3),\n",
    "  (0, 2, 6),\n",
    "  (1, 3, 10),\n",
    "  (2, 5, 5),\n",
    "  (2, 0, 5),\n",
    "  (3, 6, 6),\n",
    "  (4, 9, 4),\n",
    "  (4, 4, 4),\n",
    "  (4, 0, 4)],\n",
    " 13)\"\"\""
   ]
  },
  {
   "cell_type": "code",
   "execution_count": 239,
   "metadata": {},
   "outputs": [
    {
     "data": {
      "text/plain": [
       "([(0, 0, 6),\n",
       "  (1, 1, 9),\n",
       "  (0, 6, 6),\n",
       "  (2, 5, 5),\n",
       "  (2, 0, 5),\n",
       "  (3, 0, 5),\n",
       "  (3, 5, 6),\n",
       "  (4, 0, 4),\n",
       "  (4, 4, 4),\n",
       "  (4, 8, 4)],\n",
       " 12)"
      ]
     },
     "execution_count": 239,
     "metadata": {},
     "output_type": "execute_result"
    }
   ],
   "source": [
    "algoritmo_genetico(prob,k=10,opt=min,ngen=300,size=100,prop_cruces=0.6,prob_mutar=0.15) \n",
    "# Por fin llegamos a la óptima(gracias a que hemos aumentado size a 100 individuos) de 120 min:\n",
    "\"\"\"([(0, 0, 6),\n",
    "  (1, 1, 9),\n",
    "  (0, 6, 6),\n",
    "  (2, 5, 5),\n",
    "  (2, 0, 5),\n",
    "  (3, 0, 5),\n",
    "  (3, 5, 6),\n",
    "  (4, 0, 4),\n",
    "  (4, 4, 4),\n",
    "  (4, 8, 4)],\n",
    " 12)\"\"\""
   ]
  },
  {
   "cell_type": "code",
   "execution_count": 97,
   "metadata": {},
   "outputs": [],
   "source": [
    "## Nota: también se puede trabajar con una escala temporal minuto a minuto, pero el problema está diseñado\n",
    "## para trabajar con el máximo común divisor de los tiempos. Probamos minuto a minuto:\n",
    "actividades4 = [[],[],[],[],[],[],[],[],[],[]]\n",
    "tiempos4 = [[60,60,60,-1,-1,-1,-1,-1,-1,-1],[60,90,90,100,-1,-1,-1,-1,-1,-1],[50,50,50,50,50,50,-1,-1,-1,-1],[30,30,40,40,-1,50,60,-1,-1,-1],[40,40,40,40,40,40,40,40,40,40]]\n",
    "\n",
    "prueba4 = Problema(tiempos4,actividades4)"
   ]
  },
  {
   "cell_type": "code",
   "execution_count": 106,
   "metadata": {},
   "outputs": [
    {
     "data": {
      "text/plain": [
       "([(0, 0, 60),\n",
       "  (0, 61, 60),\n",
       "  (1, 27, 90),\n",
       "  (2, 69, 50),\n",
       "  (2, 18, 50),\n",
       "  (3, 60, 50),\n",
       "  (3, 0, 60),\n",
       "  (4, 86, 40),\n",
       "  (4, 0, 40),\n",
       "  (4, 43, 40)],\n",
       " 126)"
      ]
     },
     "execution_count": 106,
     "metadata": {},
     "output_type": "execute_result"
    }
   ],
   "source": [
    "algoritmo_genetico(prueba4,k=10,opt=min,ngen=400,size=30,prop_cruces=0.6,prob_mutar=0.2)\n",
    "# Es una prueba:no llegamos al óptimo"
   ]
  },
  {
   "cell_type": "markdown",
   "metadata": {},
   "source": [
    "### Casos de prueba del foro: Prueba 5"
   ]
  },
  {
   "cell_type": "code",
   "execution_count": 219,
   "metadata": {},
   "outputs": [],
   "source": [
    "# Cambiamos la escala temporal para poder introducir los tiempos. Trabajamos con unidades de 60 minutos \n",
    "# (Recordemos que el algoritmo inicialmente está diseñado para clases de 1h, 2h ,etc)\n",
    "\n",
    "T = [[1,1,-1,-1,-1,-1,-1,-1,-1,-1],[-1,-1,1,1,-1,-1,-1,-1,-1,-1],[-1,-1,-1,-1,1,1,-1,-1,-1,-1],\n",
    "     [-1,-1,-1,-1,-1,-1,1,1,-1,-1],[-1,-1,-1,-1,-1,-1,-1,-1,1,1]]\n",
    "R = [[1],[],[3],[],[5],[],[7],[],[9],[]] \n",
    "# Hay soluciones de 120 minutos = fitness 2\n",
    "prob = Problema(T,R)"
   ]
  },
  {
   "cell_type": "code",
   "execution_count": 218,
   "metadata": {},
   "outputs": [
    {
     "data": {
      "text/plain": [
       "([(0, 2, 1),\n",
       "  (0, 1, 1),\n",
       "  (1, 2, 1),\n",
       "  (1, 0, 1),\n",
       "  (2, 1, 1),\n",
       "  (2, 0, 1),\n",
       "  (3, 2, 1),\n",
       "  (3, 0, 1),\n",
       "  (4, 1, 1),\n",
       "  (4, 0, 1)],\n",
       " 3)"
      ]
     },
     "execution_count": 218,
     "metadata": {},
     "output_type": "execute_result"
    }
   ],
   "source": [
    "algoritmo_genetico(prob,k=15,opt=min,ngen=500,size=50,prop_cruces=0.5,prob_mutar=0.2) "
   ]
  },
  {
   "cell_type": "code",
   "execution_count": 220,
   "metadata": {},
   "outputs": [
    {
     "data": {
      "text/plain": [
       "([(0, 1, 1),\n",
       "  (0, 0, 1),\n",
       "  (1, 1, 1),\n",
       "  (1, 0, 1),\n",
       "  (2, 1, 1),\n",
       "  (2, 0, 1),\n",
       "  (3, 1, 1),\n",
       "  (3, 0, 1),\n",
       "  (4, 1, 1),\n",
       "  (4, 0, 1)],\n",
       " 2)"
      ]
     },
     "execution_count": 220,
     "metadata": {},
     "output_type": "execute_result"
    }
   ],
   "source": [
    "algoritmo_genetico(prob,k=7,opt=min,ngen=300,size=30,prop_cruces=0.6,prob_mutar=0.15) \n",
    "# Solución óptima de 120 min:\n",
    "\"\"\"([(0, 1, 1),\n",
    "  (0, 0, 1),\n",
    "  (1, 1, 1),\n",
    "  (1, 0, 1),\n",
    "  (2, 1, 1),\n",
    "  (2, 0, 1),\n",
    "  (3, 1, 1),\n",
    "  (3, 0, 1),\n",
    "  (4, 1, 1),\n",
    "  (4, 0, 1)],\n",
    " 2)\"\"\""
   ]
  },
  {
   "cell_type": "markdown",
   "metadata": {},
   "source": [
    "### Casos de prueba del foro: Prueba 6"
   ]
  },
  {
   "cell_type": "code",
   "execution_count": 221,
   "metadata": {},
   "outputs": [],
   "source": [
    "# Cambiamos la escala temporal para poder introducir los tiempos. Trabajamos con unidades de 60 minutos \n",
    "# (Recordemos que el algoritmo inicialmente está diseñado para clases de 1h, 2h ,etc)\n",
    "\n",
    "T = [[1,1,-1,-1,-1,-1,-1,-1,-1,-1],[-1,-1,1,1,-1,-1,-1,-1,-1,-1],[-1,-1,-1,-1,1,1,-1,-1,-1,-1],\n",
    "     [-1,-1,-1,-1,-1,-1,1,1,-1,-1],[-1,-1,-1,-1,-1,-1,-1,-1,1,1]]\n",
    "R = [[1],[],[1],[2],[],[],[4],[],[],[]] \n",
    "# Hay soluciones de 180 minutos = fitness 3\n",
    "prob = Problema(T,R)"
   ]
  },
  {
   "cell_type": "code",
   "execution_count": 223,
   "metadata": {},
   "outputs": [
    {
     "data": {
      "text/plain": [
       "([(0, 2, 1),\n",
       "  (0, 0, 1),\n",
       "  (1, 1, 1),\n",
       "  (1, 2, 1),\n",
       "  (2, 0, 1),\n",
       "  (2, 2, 1),\n",
       "  (3, 1, 1),\n",
       "  (3, 0, 1),\n",
       "  (4, 1, 1),\n",
       "  (4, 0, 1)],\n",
       " 3)"
      ]
     },
     "execution_count": 223,
     "metadata": {},
     "output_type": "execute_result"
    }
   ],
   "source": [
    "algoritmo_genetico(prob,k=7,opt=min,ngen=300,size=30,prop_cruces=0.6,prob_mutar=0.15) \n",
    "#solución óptima de 3*60 = 180 min:\n",
    "\"\"\"([(0, 2, 1),\n",
    "  (0, 0, 1),\n",
    "  (1, 1, 1),\n",
    "  (1, 2, 1),\n",
    "  (2, 0, 1),\n",
    "  (2, 2, 1),\n",
    "  (3, 1, 1),\n",
    "  (3, 0, 1),\n",
    "  (4, 1, 1),\n",
    "  (4, 0, 1)],\n",
    " 3)\"\"\""
   ]
  },
  {
   "cell_type": "markdown",
   "metadata": {},
   "source": [
    "### Casos de prueba del foro: Prueba 7"
   ]
  },
  {
   "cell_type": "code",
   "execution_count": 224,
   "metadata": {},
   "outputs": [],
   "source": [
    "# Cambiamos la escala temporal para poder introducir los tiempos. Trabajamos con unidades de 10 minutos \n",
    "# (Recordemos que el algoritmo inicialmente está diseñado para clases de 1h, 2h ,etc)\n",
    "\n",
    "T = [[6,6,6,-1,-1,-1,-1,-1,-1,-1],[6,9,9,10,-1,-1,-1,-1,-1,-1],[5,5,5,5,5,5,-1,-1,-1,-1],\n",
    "     [3,3,4,4,-1,5,6,-1,-1,-1],[4,4,4,4,4,4,4,4,4,4]]\n",
    "R = [[],[],[],[],[],[6],[],[0],[],[]] \n",
    "# Hay soluciones de 150 minutos = fitness 15\n",
    "prob = Problema(T,R)"
   ]
  },
  {
   "cell_type": "code",
   "execution_count": 234,
   "metadata": {},
   "outputs": [
    {
     "data": {
      "text/plain": [
       "([(1, 2, 6),\n",
       "  (0, 5, 6),\n",
       "  (4, 0, 4),\n",
       "  (3, 0, 4),\n",
       "  (2, 2, 5),\n",
       "  (3, 4, 5),\n",
       "  (1, 1, -1),\n",
       "  (4, 8, 4),\n",
       "  (4, 4, 4),\n",
       "  (2, 7, -1)],\n",
       " 52)"
      ]
     },
     "execution_count": 234,
     "metadata": {},
     "output_type": "execute_result"
    }
   ],
   "source": [
    "algoritmo_genetico(prob,k=7,opt=min,ngen=400,size=20,prop_cruces=0.6,prob_mutar=0.17) \n",
    "# Debido a la complejidad, a veces obtenemos resultados que distan mucho de cumplir todas las restricciones:"
   ]
  },
  {
   "cell_type": "code",
   "execution_count": 235,
   "metadata": {},
   "outputs": [
    {
     "data": {
      "text/plain": [
       "([(3, 0, 3),\n",
       "  (1, 1, 9),\n",
       "  (0, 1, 6),\n",
       "  (3, 9, 4),\n",
       "  (2, 2, 5),\n",
       "  (2, 9, 5),\n",
       "  (3, 3, 6),\n",
       "  (2, 8, -1),\n",
       "  (4, 1, 4),\n",
       "  (4, 8, 4)],\n",
       " 34)"
      ]
     },
     "execution_count": 235,
     "metadata": {},
     "output_type": "execute_result"
    }
   ],
   "source": [
    "algoritmo_genetico(prob,k=7,opt=min,ngen=350,size=20,prop_cruces=0.4,prob_mutar=0.17) "
   ]
  },
  {
   "cell_type": "code",
   "execution_count": 225,
   "metadata": {},
   "outputs": [
    {
     "data": {
      "text/plain": [
       "([(3, 6, 3),\n",
       "  (0, 0, 6),\n",
       "  (1, 8, 9),\n",
       "  (3, 9, 4),\n",
       "  (2, 4, 5),\n",
       "  (4, 7, 4),\n",
       "  (3, 0, 6),\n",
       "  (4, 15, 4),\n",
       "  (4, 11, 4),\n",
       "  (4, 0, 4)],\n",
       " 19)"
      ]
     },
     "execution_count": 225,
     "metadata": {},
     "output_type": "execute_result"
    }
   ],
   "source": [
    "algoritmo_genetico(prob,k=7,opt=min,ngen=300,size=30,prop_cruces=0.6,prob_mutar=0.15) "
   ]
  },
  {
   "cell_type": "code",
   "execution_count": 236,
   "metadata": {},
   "outputs": [
    {
     "data": {
      "text/plain": [
       "([(0, 2, 6),\n",
       "  (1, 1, 9),\n",
       "  (0, 8, 6),\n",
       "  (3, 0, 4),\n",
       "  (2, 5, 5),\n",
       "  (3, 10, 5),\n",
       "  (3, 4, 6),\n",
       "  (4, 10, 4),\n",
       "  (4, 4, 4),\n",
       "  (4, 0, 4)],\n",
       " 15)"
      ]
     },
     "execution_count": 236,
     "metadata": {},
     "output_type": "execute_result"
    }
   ],
   "source": [
    "algoritmo_genetico(prob,k=10,opt=min,ngen=300,size=100,prop_cruces=0.6,prob_mutar=0.15) \n",
    "# Por fin obtenemos la solución óptima de 150 min:\n",
    "\"\"\"([(0, 2, 6),\n",
    "  (1, 1, 9),\n",
    "  (0, 8, 6),\n",
    "  (3, 0, 4),\n",
    "  (2, 5, 5),\n",
    "  (3, 10, 5),\n",
    "  (3, 4, 6),\n",
    "  (4, 10, 4),\n",
    "  (4, 4, 4),\n",
    "  (4, 0, 4)],\n",
    " 15)\"\"\""
   ]
  },
  {
   "cell_type": "markdown",
   "metadata": {},
   "source": [
    "## Otra representación posible del problema (prueba fallida)\n",
    "\n",
    "Basándonos en la mismas suposiciones y restricciones mencionadas arriba, podemos crear otra posible representación para este problema con un algoritmo genético. Como veremos más adelante, esta forma de resolver el problema **no funciona**, y más adelante ponemos un caso de prueba en el que falla. Sin embargo, esta resolución consiguió pasar todos los casos de prueba propuestos en el foro, y dejamos constancia de ella, pues no nos dimos cuenta del error cometido hasta después de haber probado todos los casos propuestos.\n",
    "\n"
   ]
  },
  {
   "cell_type": "markdown",
   "metadata": {},
   "source": [
    "### Representación con cromosomas\n",
    "Sea n el número de tareas y m el de profesores. Un cromosoma será una lista de tamaño n cuyos componentes serán números entre 0 y m-1. Es decir, cromosoma(i) = j se traduce como \"el profesor j dirigirá la actividad i\""
   ]
  },
  {
   "cell_type": "markdown",
   "metadata": {},
   "source": [
    "### Población inicial\n",
    "La representación anterior presenta una pregunta. ¿Puede un profesor dirigir una actividad que no puede dirigir? Esto lo resolvemos desde la propia población inicial, asignando a cada actividad un profesor que pueda dirigirla."
   ]
  },
  {
   "cell_type": "markdown",
   "metadata": {},
   "source": [
    "### Cruce\n",
    "La función de cruce es un simple cruce de un punto parecido al cruce propuesto en la representación anterior. Cada hijo estará formado por la primera mitad de uno de los padres y la otra mitad del otro. Comprobamos que en ningún momento nos salimos de las restricciones (la única que nos afecta es que se asigne a una actividad a un profesor que no la puede dirigir y eso nos hemos asegurado de que no ocurra desde la población inicial)"
   ]
  },
  {
   "cell_type": "markdown",
   "metadata": {},
   "source": [
    "### Mutaciones\n",
    "Para mutar un cromosoma, escogeremos una actividad al azar y le asignaremos un profesor aleatorio que pueda dirigirla"
   ]
  },
  {
   "cell_type": "markdown",
   "metadata": {},
   "source": [
    "## Coste\n",
    "La función de fitness calculará el tiempo empleado en acabar todas las actividades. Como no tenemos un orden predeterminado para hacer cada actividad, lo que hará esta función es ir asignando horas de inicio y final a cada actividad segnún vaya siendo posible (es decir, a una actividad se le asignará una hora de principio y final si y solo si han terminado todas las actividades de las que depende). Por un lado, aprovechamos estas horas de inicio de cada la actividad para la representación de la solución más tarde (es solo una medida para evitar duplicar código y hacer dos funciones iguales una para el coste y otra para las horas de comienzo). Por otro lado, las horas de final de cada actividad se usan para calcular es coste asociado a cada cromosoma ya que el tiempo que cada profesor está dirigiendo actividades es igual al máximo de los finales de las actividades que le han sido asignadas y el coste (y el valor que queremos minimizar) es el máximo estos tiempos."
   ]
  },
  {
   "cell_type": "code",
   "execution_count": 1,
   "metadata": {},
   "outputs": [],
   "source": [
    "##Esta clase se encarga de representar el problema y resolverlo mediante un algoritmo genético. Está todo en una clase para poder un acceso más cómodo a los diferentes atributos\n",
    "\n",
    "class sem_info():\n",
    "\n",
    "    def __init__(self, activs, times):\n",
    "        self.activs = activs ## Lista de actividades. Cada actividad tiene asociada una lista con sus dependencias como en la representación anterior\n",
    "        self.times = times ## Matriz con el tiempo que un profesor i tarda en dirigir la actividad j. times[i][j] = -1 si j no puede dirigir la actividad i\n",
    "        self.activsporprof = [] ## Lista de actividades en la que cada actividad tiene asociada los profesores que pueden dirigirla. Usado en la población inicial y mutaciones\n",
    "        l1 = len(self.activs)\n",
    "        l2 = len(self.times)\n",
    "        for i in range(l1):\n",
    "            activi = []\n",
    "            for j in range(l2):\n",
    "                if self.times[j][i] > -1:\n",
    "                    activi.append(j)\n",
    "            self.activsporprof.append(activi)\n",
    "\n",
    "\n",
    "    def poblacion_inicial_seminfo(self,problema_genetico, size):\n",
    "        n = problema_genetico.longitud_individuos\n",
    "        return [[random.choice(self.activsporprof[i]) for i in range(n) if len(self.activsporprof[i]) > 0] for _ in range(size)]\n",
    "\n",
    "    def seminfo_decodificar(self, cromosoma):\n",
    "        return cromosoma\n",
    "\n",
    "    def seminfo_cruzar(self, cromosoma1, cromosoma2):\n",
    "        l1 = len(cromosoma1)\n",
    "        cruce1 = cromosoma1\n",
    "        cruce2 = cromosoma2\n",
    "\n",
    "        i = l1//2\n",
    "        prin1 = cromosoma1[0:i]\n",
    "        fin1 = cromosoma1[i:l1]\n",
    "\n",
    "        prin2 = cromosoma2[0:i]\n",
    "        fin2 = cromosoma2[i:l1]\n",
    "        \n",
    "        cruce1 = prin1+fin2\n",
    "        cruce2 = prin2+fin1\n",
    "\n",
    "        return [cruce1,cruce2]\n",
    "\n",
    "    def seminfo_mutar(self,cromosoma,prob):\n",
    "        l = len(cromosoma)\n",
    "        n = random.randint(0,l-1)\n",
    "        l1 = len(self.activsporprof[n])\n",
    "        pj = random.randint(0,l1-1)\n",
    "        \n",
    "        if prob > random.uniform(0,1):\n",
    "            cromosoma[n] = self.activsporprof[n][pj]\n",
    "\n",
    "        return cromosoma\n",
    "\n",
    "    ## Como ya dijimos en la explicación del coste, aquí se calcula el tiempo empleado en realizar \n",
    "    ## todas las actividades. También se asigna el comienzo de cada actividad\n",
    "\n",
    "    def seminfo_fitness(self,cromosoma):\n",
    "        l = len(cromosoma)\n",
    "        times = [0]*len(self.times)\n",
    "        comienzos = [0]*l\n",
    "        fin_tarea = [-1]*l\n",
    "        \n",
    "        for i in range(l):\n",
    "            for j in range(l):\n",
    "                l1 = len(self.activs[j])\n",
    "                pj = cromosoma[j]\n",
    "                \n",
    "                if l1 == 0 and fin_tarea[j] == -1: ## La actividad j no depende de otra/s\n",
    "                    comienzos[j] = times[pj]\n",
    "                    times[pj] = times[pj] + self.times[pj][j]\n",
    "                    fin_tarea[j] = times[pj]\n",
    "                elif l1 > 0 and fin_tarea[j] == -1: ## Hay dependencias\n",
    "                    depends = [fin_tarea[self.activs[j][k]] for k in range(l1)] \n",
    "                    m = min(depends)\n",
    "                    if m > -1: ## Alguna tarea de la que dependa j no ha terminado aún (sabemos que m == -1 en caso contrario porque todas las actividades que ya han terminado tienen guardado el momento en el que terminan en fin_tarea)\n",
    "                        n = max(depends)\n",
    "                        if n <= times[pj]: ## Todas las actividades de las que depende j han terminado antes de que el profesor asociado a j terminara su actividad anterior\n",
    "                            comienzos[j] = times[pj]\n",
    "                            times[pj] = times[pj] + self.times[pj][j]\n",
    "                        else:\n",
    "                            comienzos[j] = n\n",
    "                            times[pj] = n + self.times[pj][j]\n",
    "                        fin_tarea[j] = times[pj]\n",
    "\n",
    "        return (max(times),comienzos)\n",
    "        \n",
    "        \n",
    "    def resuelve_seminfo_geneticos(self,k,opt,ngen,size,prop_cruces,prob_mutar):\n",
    "        n = len(self.activs)\n",
    "        l = len(self.times)\n",
    "        problema_genetico = ProblemaGenetico([i for i in range(l)], self.seminfo_decodificar, self.seminfo_mutar, self.seminfo_cruzar, self.seminfo_fitness, n)\n",
    "        poblacion= self.poblacion_inicial_seminfo(problema_genetico,size)\n",
    "        ## Vemos si todos los profesores pueden dirigir al menos una actividad\n",
    "        if len(poblacion[0]) < n:\n",
    "            return \"Imposible. Hay alguna actividad que no puede dirigir nadie\"\n",
    "        n_padres=round(size*prop_cruces)\n",
    "        n_padres= int (n_padres if n_padres%2==0 else n_padres-1)\n",
    "        n_directos = size-n_padres\n",
    "        for i in range(ngen):\n",
    "            poblacion= nueva_generacion(problema_genetico,k,opt,poblacion,n_padres, n_directos,prob_mutar)\n",
    "\n",
    "        mejor_cr= opt(poblacion, key=problema_genetico.fitness)\n",
    "        mejor=problema_genetico.decodifica(mejor_cr)\n",
    "        fitness = problema_genetico.fitness(mejor_cr)\n",
    "        return (mejor,fitness[1],fitness[0])"
   ]
  },
  {
   "cell_type": "code",
   "execution_count": 10,
   "metadata": {},
   "outputs": [],
   "source": [
    "## Aunque lo hemos descubierto al final, primero veremos el caso que no funciona:\n",
    "actividades1 = [[],[2],[]]\n",
    "tiempos1 = [[1,1,1],[-1,1,-1]]\n",
    "# Caso fácil para ver el error: tres tareas, la tarea 1 depende de la 2, \n",
    "#                               dos profesores: el 0 puede realizar las tres tareas, y el 2 solo la tarea 1\n",
    "# La solución óptima sería: el profesor 0 hace la tarea 2, y después, de forma paralela, el 0 hace la 0, y el\n",
    "# profesor 1 hace la tarea 1. Esta solución tendría coste 2.\n",
    "\n",
    "prueba1 = sem_info(actividades1,tiempos1)"
   ]
  },
  {
   "cell_type": "code",
   "execution_count": 11,
   "metadata": {},
   "outputs": [
    {
     "data": {
      "text/plain": [
       "([0, 1, 0], [0, 2, 1], 3)"
      ]
     },
     "execution_count": 11,
     "metadata": {},
     "output_type": "execute_result"
    }
   ],
   "source": [
    "prueba1.resuelve_seminfo_geneticos(5,min,500,50,0.7,0.1)\n",
    "# Devuelve ([0, 1, 0], [0, 2, 1], 3), independientemente de las veces que lo ejecutes. Esto es debido a que\n",
    "# la representación de los cromosomas elegida es incompleta para resolver el problema, pues solo nos guardamos\n",
    "# el profesor asignado a cada tarea, y no el tiempo de inicio. Esto produce que la función de fitness tenga que \n",
    "# elegir estos tiempos de inicio, y al hacer esta elección es cuando impedimos generar la solución óptima."
   ]
  },
  {
   "cell_type": "markdown",
   "metadata": {},
   "source": [
    "### Casos de prueba del foro: Prueba 1"
   ]
  },
  {
   "cell_type": "code",
   "execution_count": 21,
   "metadata": {},
   "outputs": [],
   "source": [
    "actividades1 = [[],[],[],[],[],[],[],[],[],[]]\n",
    "tiempos1 = [[60,60,-1,-1,-1,-1,-1,-1,-1,-1],[-1,-1,60,60,-1,-1,-1,-1,-1,-1],[-1,-1,-1,-1,60,60,-1,-1,-1,-1],[-1,-1,-1,-1,-1,-1,60,60,-1,-1],[-1,-1,-1,-1,-1,-1,-1,-1,60,60]]\n",
    "\n",
    "prueba1 = sem_info(actividades1,tiempos1)"
   ]
  },
  {
   "cell_type": "code",
   "execution_count": 14,
   "metadata": {},
   "outputs": [
    {
     "data": {
      "text/plain": [
       "[[0], [0], [1], [1], [2], [2], [3], [3], [4], [4]]"
      ]
     },
     "execution_count": 14,
     "metadata": {},
     "output_type": "execute_result"
    }
   ],
   "source": [
    "## Mostramos las actividades con los profesor que las pueden dirigir\n",
    "prueba1.activsporprof"
   ]
  },
  {
   "cell_type": "code",
   "execution_count": 22,
   "metadata": {},
   "outputs": [
    {
     "data": {
      "text/plain": [
       "[[0, 0, 1, 1, 2, 2, 3, 3, 4, 4],\n",
       " [0, 0, 1, 1, 2, 2, 3, 3, 4, 4],\n",
       " [0, 0, 1, 1, 2, 2, 3, 3, 4, 4],\n",
       " [0, 0, 1, 1, 2, 2, 3, 3, 4, 4],\n",
       " [0, 0, 1, 1, 2, 2, 3, 3, 4, 4]]"
      ]
     },
     "execution_count": 22,
     "metadata": {},
     "output_type": "execute_result"
    }
   ],
   "source": [
    "## Ejemplo de una población inicial. Nota: Para este caso particular salen todos los cromosomas iguales porque cada profesor solo puede dirigir una actividad\n",
    "prueba1.poblacion_inicial_seminfo(ProblemaGenetico([i for i in range(len(prueba1.times))], prueba1.seminfo_decodificar, prueba1.seminfo_mutar, prueba1.seminfo_cruzar, prueba1.seminfo_fitness,len(prueba1.activs)),5)"
   ]
  },
  {
   "cell_type": "code",
   "execution_count": 15,
   "metadata": {},
   "outputs": [
    {
     "data": {
      "text/plain": [
       "([0, 0, 1, 1, 2, 2, 3, 3, 4, 4], [0, 60, 0, 60, 0, 60, 0, 60, 0, 60], 120)"
      ]
     },
     "execution_count": 15,
     "metadata": {},
     "output_type": "execute_result"
    }
   ],
   "source": [
    "## Caso 1: Soluciones en 120 minutos\n",
    "sol1 = prueba1.resuelve_seminfo_geneticos(5,min,400,20,0.7,0.1)\n",
    "sol1"
   ]
  },
  {
   "cell_type": "markdown",
   "metadata": {},
   "source": [
    "### Casos de prueba del foro: Prueba 2"
   ]
  },
  {
   "cell_type": "code",
   "execution_count": 41,
   "metadata": {},
   "outputs": [],
   "source": [
    "## Caso 2: Soluciones en 120 minutos\n",
    "actividades2 = [[],[],[],[],[],[],[],[],[],[]]\n",
    "tiempos2 = [[60,60,60,-1,-1,-1,-1,-1,-1,-1],[60,60,60,60,-1,-1,-1,-1,-1,-1],[60,60,60,60,60,60,-1,-1,-1,-1],[60,60,60,60,-1,60,60,-1,-1,-1],[60,60,60,60,60,60,60,60,60,60]]\n",
    "\n",
    "prueba2 = sem_info(actividades2,tiempos2)"
   ]
  },
  {
   "cell_type": "code",
   "execution_count": 42,
   "metadata": {},
   "outputs": [
    {
     "data": {
      "text/plain": [
       "([1, 3, 0, 2, 2, 3, 3, 4, 4, 4], [0, 0, 0, 0, 60, 60, 120, 0, 60, 120], 180)"
      ]
     },
     "execution_count": 42,
     "metadata": {},
     "output_type": "execute_result"
    }
   ],
   "source": [
    "sol2 = prueba2.resuelve_seminfo_geneticos(5,min,400,20,0.7,0.1)\n",
    "sol2"
   ]
  },
  {
   "cell_type": "markdown",
   "metadata": {},
   "source": [
    "### Casos de preuba del foro: Preuba 3"
   ]
  },
  {
   "cell_type": "code",
   "execution_count": 51,
   "metadata": {},
   "outputs": [],
   "source": [
    "## Caso 3: Soluciones en 120 minutos\n",
    "actividades3 = [[],[],[],[],[],[],[],[],[],[]]\n",
    "tiempos3 = [[60,60,60,-1,-1,-1,-1,-1,-1,-1],[60,60,60,60,-1,-1,-1,-1,-1,-1],[60,60,60,60,60,60,-1,-1,-1,-1],[60,60,60,60,-1,60,60,60,-1,-1],[60,60,60,60,60,60,60,60,60,60]]\n",
    "\n",
    "prueba3 = sem_info(actividades3,tiempos3)"
   ]
  },
  {
   "cell_type": "code",
   "execution_count": 52,
   "metadata": {},
   "outputs": [
    {
     "data": {
      "text/plain": [
       "[[0, 1, 2, 3, 4],\n",
       " [0, 1, 2, 3, 4],\n",
       " [0, 1, 2, 3, 4],\n",
       " [1, 2, 3, 4],\n",
       " [2, 4],\n",
       " [2, 3, 4],\n",
       " [3, 4],\n",
       " [3, 4],\n",
       " [4],\n",
       " [4]]"
      ]
     },
     "execution_count": 52,
     "metadata": {},
     "output_type": "execute_result"
    }
   ],
   "source": [
    "## Un ejempo mejor de la clasificación de actividades por los profesores que pueden dirigirlas\n",
    "prueba3.activsporprof"
   ]
  },
  {
   "cell_type": "code",
   "execution_count": 55,
   "metadata": {},
   "outputs": [
    {
     "data": {
      "text/plain": [
       "([0, 0, 1, 1, 2, 2, 3, 3, 4, 4], [0, 60, 0, 60, 0, 60, 0, 60, 0, 60], 120)"
      ]
     },
     "execution_count": 55,
     "metadata": {},
     "output_type": "execute_result"
    }
   ],
   "source": [
    "sol3 = prueba3.resuelve_seminfo_geneticos(5,min,400,20,0.7,0.1)\n",
    "sol3"
   ]
  },
  {
   "cell_type": "markdown",
   "metadata": {},
   "source": [
    "### Casos de preuba del foro: Prueba 4"
   ]
  },
  {
   "cell_type": "code",
   "execution_count": 31,
   "metadata": {},
   "outputs": [],
   "source": [
    "## Caso 4: Soluciones en 120 minutos\n",
    "actividades4 = [[],[],[],[],[],[],[],[],[],[]]\n",
    "tiempos4 = [[60,60,60,-1,-1,-1,-1,-1,-1,-1],[60,90,90,100,-1,-1,-1,-1,-1,-1],[50,50,50,50,50,50,-1,-1,-1,-1],[30,30,40,40,-1,50,60,-1,-1,-1],[40,40,40,40,40,40,40,40,40,40]]\n",
    "\n",
    "prueba4 = sem_info(actividades4,tiempos4)"
   ]
  },
  {
   "cell_type": "code",
   "execution_count": 32,
   "metadata": {},
   "outputs": [
    {
     "data": {
      "text/plain": [
       "([1, 0, 0, 3, 2, 2, 3, 4, 4, 4], [0, 0, 60, 0, 0, 50, 40, 0, 40, 80], 120)"
      ]
     },
     "execution_count": 32,
     "metadata": {},
     "output_type": "execute_result"
    }
   ],
   "source": [
    "sol4 = prueba4.resuelve_seminfo_geneticos(5,min,400,20,0.7,0.1)\n",
    "sol4"
   ]
  },
  {
   "cell_type": "markdown",
   "metadata": {},
   "source": [
    "### Casos de prueba del foro: Prueba 5"
   ]
  },
  {
   "cell_type": "code",
   "execution_count": 33,
   "metadata": {},
   "outputs": [],
   "source": [
    "## Caso 5: Soluciones en 120 minutos\n",
    "actividades5 = [[1],[],[3],[],[5],[],[7],[],[9],[]]\n",
    "tiempos5 = [[60,60,-1,-1,-1,-1,-1,-1,-1,-1],[-1,-1,60,60,-1,-1,-1,-1,-1,-1],[-1,-1,-1,-1,60,60,-1,-1,-1,-1],[-1,-1,-1,-1,-1,-1,60,60,-1,-1],[-1,-1,-1,-1,-1,-1,-1,-1,60,60]]\n",
    "\n",
    "prueba5 = sem_info(actividades5,tiempos5)"
   ]
  },
  {
   "cell_type": "code",
   "execution_count": 34,
   "metadata": {},
   "outputs": [
    {
     "data": {
      "text/plain": [
       "([0, 0, 1, 1, 2, 2, 3, 3, 4, 4], [60, 0, 60, 0, 60, 0, 60, 0, 60, 0], 120)"
      ]
     },
     "execution_count": 34,
     "metadata": {},
     "output_type": "execute_result"
    }
   ],
   "source": [
    "sol5 = prueba5.resuelve_seminfo_geneticos(5,min,400,20,0.7,0.1)\n",
    "sol5"
   ]
  },
  {
   "cell_type": "markdown",
   "metadata": {},
   "source": [
    "### Casos de preuba del foro: Prueba 6"
   ]
  },
  {
   "cell_type": "code",
   "execution_count": 35,
   "metadata": {},
   "outputs": [],
   "source": [
    "## Caso 6: Soluciones en 180 minutos\n",
    "actividades6 = [[1],[],[1],[2],[6],[],[],[],[],[]]\n",
    "tiempos6 = [[60,60,-1,-1,-1,-1,-1,-1,-1,-1],[-1,-1,60,60,-1,-1,-1,-1,-1,-1],[-1,-1,-1,-1,60,60,-1,-1,-1,-1],[-1,-1,-1,-1,-1,-1,60,60,-1,-1],[-1,-1,-1,-1,-1,-1,-1,-1,60,60]]\n",
    "\n",
    "prueba6 = sem_info(actividades6,tiempos6)"
   ]
  },
  {
   "cell_type": "code",
   "execution_count": 36,
   "metadata": {},
   "outputs": [
    {
     "data": {
      "text/plain": [
       "([0, 0, 1, 1, 2, 2, 3, 3, 4, 4], [60, 0, 60, 120, 60, 0, 0, 60, 0, 60], 180)"
      ]
     },
     "execution_count": 36,
     "metadata": {},
     "output_type": "execute_result"
    }
   ],
   "source": [
    "sol6 = prueba6.resuelve_seminfo_geneticos(5,min,400,20,0.7,0.1)\n",
    "sol6"
   ]
  },
  {
   "cell_type": "markdown",
   "metadata": {},
   "source": [
    "### Casos de prueba del foro: Preuba 7"
   ]
  },
  {
   "cell_type": "code",
   "execution_count": 37,
   "metadata": {},
   "outputs": [],
   "source": [
    "## Caso 7: Soluciones en 150 minutos\n",
    "actividades7 = [[],[],[],[],[],[6],[],[0],[],[]]\n",
    "tiempos7 = [[60,60,60,-1,-1,-1,-1,-1,-1,-1],[60,90,90,100,-1,-1,-1,-1,-1,-1],[50,50,50,50,50,50,-1,-1,-1,-1],[30,30,40,40,-1,50,60,-1,-1,-1],[40,40,40,40,40,40,40,40,40,40]]\n",
    "\n",
    "prueba7 = sem_info(actividades7,tiempos7)"
   ]
  },
  {
   "cell_type": "code",
   "execution_count": 38,
   "metadata": {},
   "outputs": [
    {
     "data": {
      "text/plain": [
       "([3, 2, 0, 1, 2, 3, 3, 4, 4, 4], [0, 0, 0, 0, 50, 90, 30, 30, 70, 110], 150)"
      ]
     },
     "execution_count": 38,
     "metadata": {},
     "output_type": "execute_result"
    }
   ],
   "source": [
    "sol7 = prueba7.resuelve_seminfo_geneticos(5,min,800,20,0.7,0.1)\n",
    "sol7"
   ]
  },
  {
   "cell_type": "markdown",
   "metadata": {},
   "source": [
    "### Caso de prueba propio: Prueba 8"
   ]
  },
  {
   "cell_type": "code",
   "execution_count": 56,
   "metadata": {},
   "outputs": [],
   "source": [
    "## Ejemplo nuestro (con actividades que dependen de más de una sola actividad y con dependencia anidada). Soluciones en 75 minutos\n",
    "actividades8 = [[1,3],[3],[0,1],[]]\n",
    "tiempos8 = [[10,25,50,-1],[-1,60,-1,35],[30,70,25,15]]\n",
    "\n",
    "prueba8 = sem_info(actividades8,tiempos8)"
   ]
  },
  {
   "cell_type": "code",
   "execution_count": 57,
   "metadata": {},
   "outputs": [
    {
     "data": {
      "text/plain": [
       "([0, 0, 2, 2], [40, 15, 50, 0], 75)"
      ]
     },
     "execution_count": 57,
     "metadata": {},
     "output_type": "execute_result"
    }
   ],
   "source": [
    "sol8 = prueba8.resuelve_seminfo_geneticos(5,min,400,20,0.7,0.1)\n",
    "sol8"
   ]
  },
  {
   "cell_type": "markdown",
   "metadata": {},
   "source": [
    "### Comentarios\n",
    "Nota: El formato de las soluciones es: ([profesor asignado por tarea], [hora de comienzo de cada tarea],tiempo total)\n",
    "\n",
    "En todas las instancias propuestas, se ha encontrado solución óptima prácticamente en el 100% de los casos en un tiempo razonable (< 4s) y en 400 generaciones. La única excepción ha sido el caso 7 (sol7) en el que se ha precisado doblar el número de generaciones (con 400 se obtenía solución óptima en 1/3 de las ejecuciones aproximadamente)."
   ]
  }
 ],
 "metadata": {
  "kernelspec": {
   "display_name": "Python 3",
   "language": "python",
   "name": "python3"
  },
  "language_info": {
   "codemirror_mode": {
    "name": "ipython",
    "version": 3
   },
   "file_extension": ".py",
   "mimetype": "text/x-python",
   "name": "python",
   "nbconvert_exporter": "python",
   "pygments_lexer": "ipython3",
   "version": "3.7.6"
  }
 },
 "nbformat": 4,
 "nbformat_minor": 4
}
