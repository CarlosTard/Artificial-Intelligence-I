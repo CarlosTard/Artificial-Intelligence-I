{
 "cells": [
  {
   "cell_type": "markdown",
   "metadata": {},
   "source": [
    "# Carlos Tardón Rubio y Carlos Morán Alfonso"
   ]
  },
  {
   "cell_type": "markdown",
   "metadata": {},
   "source": [
    "# Práctica 1.A Toma de contacto con AIMA"
   ]
  },
  {
   "cell_type": "markdown",
   "metadata": {},
   "source": [
    "La práctica está organizada en 3 partes. En la primera se muestra a través de ejemplos cómo se **representan** algunos problemas clásicos como el de las jarras o el problema del ocho puzzle. En la segunda parte se muestra el uso de los algoritmos de búsqueda. En la tercera parte aprenderemos a medir las propiedades de los algoritmos.\n",
    "En el notebook encontraras claramente identificados los lugares en los que debes incluir código o comentarios.  \n",
    "\n",
    "Cuando termines los ejercicios entrega este archivo en el campus. "
   ]
  },
  {
   "cell_type": "markdown",
   "metadata": {},
   "source": [
    "## Parte I: Representación de problemas de espacios de estados.\n",
    "\n",
    "### El primer paso es importar el código que necesitamos de search.py de AIMA y usar la clase Problem. En esta parte en vez de importarla la hemos copiado aquí para la explicación."
   ]
  },
  {
   "cell_type": "markdown",
   "metadata": {},
   "source": [
    "Como hemos visto en clase la representación de un problema de espacio de estados consiste en:\n",
    "* Representar estados y acciones mediante una estructura de datos.\n",
    "* Definir: estado_inicial, es_estado_final(_), acciones(_), aplica(_,_) y\n",
    "  coste_de_aplicar_accion, si el problema tiene coste.\n",
    "\n",
    " La siguiente clase Problem representa este esquema general de cualquier\n",
    " problema de espacio de estados. Un problema concreto será una subclase de\n",
    " Problema, y requerirá implementar acciones, aplica y eventualmente __init__, actions,\n",
    " goal_test. La función coste_de_aplicar_accion la hemos incluido nosotros."
   ]
  },
  {
   "cell_type": "code",
   "execution_count": 1,
   "metadata": {},
   "outputs": [],
   "source": [
    "   class Problem(object):\n",
    "\n",
    "    \"\"\"The abstract class for a formal problem. You should subclass\n",
    "    this and implement the methods actions and result, and possibly\n",
    "    __init__, goal_test, and path_cost. Then you will create instances\n",
    "    of your subclass and solve them with the various search functions.\"\"\"\n",
    "\n",
    "    def __init__(self, initial, goal=None):\n",
    "        \"\"\"The constructor specifies the initial state, and possibly a goal\n",
    "        state, if there is a unique goal. Your subclass's constructor can add\n",
    "        other arguments.\"\"\"\n",
    "        self.initial = initial\n",
    "        self.goal = goal\n",
    "\n",
    "    def actions(self, state):\n",
    "        \"\"\"Return the actions that can be executed in the given\n",
    "        state. The result would typically be a list, but if there are\n",
    "        many actions, consider yielding them one at a time in an\n",
    "        iterator, rather than building them all at once.\"\"\"\n",
    "        raise NotImplementedError\n",
    "\n",
    "    def result(self, state, action):\n",
    "        \"\"\"Return the state that results from executing the given\n",
    "        action in the given state. The action must be one of\n",
    "        self.actions(state).\"\"\"\n",
    "        raise NotImplementedError\n",
    "\n",
    "    def goal_test(self, state):\n",
    "        \"\"\"Return True if the state is a goal. The default method compares the\n",
    "        state to self.goal or checks for state in self.goal if it is a\n",
    "        list, as specified in the constructor. Override this method if\n",
    "        checking against a single self.goal is not enough.\"\"\"\n",
    "        if isinstance(self.goal, list):\n",
    "            return is_in(state, self.goal)\n",
    "        else:\n",
    "            return state == self.goal\n",
    "\n",
    "    def path_cost(self, c, state1, action, state2):\n",
    "        \"\"\"Return the cost of a solution path that arrives at state2 from\n",
    "        state1 via action, assuming cost c to get up to state1. If the problem\n",
    "        is such that the path doesn't matter, this function will only look at\n",
    "        state2.  If the path does matter, it will consider c and maybe state1\n",
    "        and action. The default method costs 1 for every step in the path.\"\"\"\n",
    "        return c + 1\n",
    "\n",
    "    def value(self, state):\n",
    "        \"\"\"For optimization problems, each state has a value.  Hill-climbing\n",
    "        and related algorithms try to maximize this value.\"\"\"\n",
    "        raise NotImplementedError\n",
    "\n",
    "    def coste_de_aplicar_accion(self, estado, accion):\n",
    "        \"\"\"Hemos incluido está función que devuelve el coste de un único operador (aplicar accion a estado). Por defecto, este\n",
    "        coste es 1. Reimplementar si el problema define otro coste \"\"\" \n",
    "        return 1"
   ]
  },
  {
   "cell_type": "markdown",
   "metadata": {},
   "source": [
    "Ahora vamos a ver un ejemplo de cómo definir un problema como subclase\n",
    "de problema. En concreto, el problema de las jarras, visto en clase que es muy sencillo. "
   ]
  },
  {
   "cell_type": "code",
   "execution_count": 2,
   "metadata": {},
   "outputs": [],
   "source": [
    "class Jarras(Problem):\n",
    "    \"\"\"Problema de las jarras:\n",
    "    Representaremos los estados como tuplas (x,y) de dos números enteros,\n",
    "    donde x es el número de litros de la jarra de 4 e y es el número de litros\n",
    "    de la jarra de 3\"\"\"\n",
    "\n",
    "    def __init__(self):\n",
    "        self.initial = (0,0)\n",
    "\n",
    "    def actions(self,estado):\n",
    "        jarra_de_4=estado[0]\n",
    "        jarra_de_3=estado[1]\n",
    "        accs=list()\n",
    "        if jarra_de_4 > 0:\n",
    "            accs.append(\"vaciar jarra de 4\")\n",
    "            if jarra_de_3 < 3:\n",
    "                accs.append(\"trasvasar de jarra de 4 a jarra de 3\")\n",
    "        if jarra_de_4 < 4:\n",
    "            accs.append(\"llenar jarra de 4\")\n",
    "            if jarra_de_3 > 0:\n",
    "                accs.append(\"trasvasar de jarra de 3 a jarra de 4\")\n",
    "        if jarra_de_3 > 0:\n",
    "            accs.append(\"vaciar jarra de 3\")\n",
    "        if jarra_de_3 < 3:\n",
    "            accs.append(\"llenar jarra de 3\")\n",
    "        return accs\n",
    "\n",
    "    def result(self,estado,accion):\n",
    "        j4=estado[0]\n",
    "        j3=estado[1]\n",
    "        if accion==\"llenar jarra de 4\":\n",
    "            return (4,j3)\n",
    "        elif accion==\"llenar jarra de 3\":\n",
    "            return (j4,3)\n",
    "        elif accion==\"vaciar jarra de 4\":\n",
    "            return (0,j3)\n",
    "        elif accion==\"vaciar jarra de 3\":\n",
    "            return (j4,0)\n",
    "        elif accion==\"trasvasar de jarra de 4 a jarra de 3\":\n",
    "            return (j4-3+j3,3) if j3+j4 >= 3 else (0,j3+j4)\n",
    "        else: #  \"trasvasar de jarra de 3 a jarra de 4\"\n",
    "            return (j3+j4,0) if j3+j4 <= 4 else (4,j3-4+j4)\n",
    "\n",
    "    def goal_test(self,estado):\n",
    "        return estado[0]==2\n"
   ]
  },
  {
   "cell_type": "markdown",
   "metadata": {},
   "source": [
    "Vamos a probar algunos ejemplos."
   ]
  },
  {
   "cell_type": "code",
   "execution_count": null,
   "metadata": {},
   "outputs": [],
   "source": [
    "p =Jarras()\n",
    "p.initial"
   ]
  },
  {
   "cell_type": "code",
   "execution_count": null,
   "metadata": {},
   "outputs": [],
   "source": [
    "p.actions(p.initial)"
   ]
  },
  {
   "cell_type": "code",
   "execution_count": null,
   "metadata": {},
   "outputs": [],
   "source": [
    "p.result(p.initial,\"llenar jarra de 4\")"
   ]
  },
  {
   "cell_type": "code",
   "execution_count": null,
   "metadata": {},
   "outputs": [],
   "source": [
    "p.coste_de_aplicar_accion(p.initial,\"llenar jarra de 4\")"
   ]
  },
  {
   "cell_type": "code",
   "execution_count": null,
   "metadata": {},
   "outputs": [],
   "source": [
    "p.goal_test(p.initial)"
   ]
  },
  {
   "cell_type": "markdown",
   "metadata": {},
   "source": [
    "### Problema de los misioneros"
   ]
  },
  {
   "cell_type": "code",
   "execution_count": null,
   "metadata": {},
   "outputs": [],
   "source": [
    "# Creamos la clase ProblemaMisioneros con los elementos que representarán el problema. \n",
    "class ProblemaMisioneros(Problem):\n",
    "    ''' Clase problema (formalizacion de nuestro problema) siguiendo la\n",
    "        estructura que aima espera que tengan los problemas.'''\n",
    "    def __init__(self, initial, goal=None):\n",
    "        '''Inicializacion de nuestro problema.'''\n",
    "        Problem.__init__(self, initial, goal)\n",
    "        # cada accion tiene un texto para identificar al operador y despues una tupla de dos elementos con la\n",
    "        # cantidad de misioneros y canibales que se mueven en la canoa\n",
    "        self._actions = [('1c', (0, 1)), ('1m', (1, 0)), ('2c', (0, 2)), ('2m', (2, 0)), ('1m1c', (1, 1))]\n",
    "\n",
    "    def actions(self, s):\n",
    "        '''Devuelve las acciones validas para un estado.'''\n",
    "        # las acciones validas para un estado son aquellas que al aplicarse\n",
    "        # nos dejan en otro estado valido\n",
    "        return [a for a in self._actions if self._is_valid(self.result(s, a))]\n",
    "\n",
    "    def _is_valid(self, s):\n",
    "        '''Determina si un estado es valido o no.'''\n",
    "        # un estado es valido si no hay mas canibales que misioneros en ninguna\n",
    "        # orilla, y si las cantidades estan entre 0 y 3\n",
    "        return (s[0] >= s[1] or s[0] == 0) and ((3 - s[0]) >= (3 - s[1]) or s[0] == 3) and (0 <= s[0] <= 3) and (0 <= s[1] <= 3)\n",
    "\n",
    "    def result(self, s, a):\n",
    "        '''Devuelve el estado resultante de aplicar una accion a un estado\n",
    "           determinado.'''\n",
    "        # el estado resultante tiene la canoa en el lado opuesto, y con las\n",
    "        # cantidades de misioneros y canibales actualizadas segun la cantidad\n",
    "        # que viajaron en la canoa\n",
    "        if s[2] == 0:\n",
    "            return (s[0] - a[1][0], s[1] - a[1][1], 1)\n",
    "        else:\n",
    "            return (s[0] + a[1][0], s[1] + a[1][1], 0)\n",
    "\n"
   ]
  },
  {
   "cell_type": "code",
   "execution_count": null,
   "metadata": {},
   "outputs": [],
   "source": [
    "# creamos un problema a partir de nuestra formalizacion de ProblemaMisioneros\n",
    "# como parametros le pasamos el estado inicial, y el estado objetivo que esperamos\n",
    "misioneros = ProblemaMisioneros((3, 3, 0), (0, 0, 1))\n",
    "\n",
    "# Asegurate de que entiendes la formalización del problema y haz algunas pruebas con la representación del problema de los misioneros. \n",
    "# En la siguiente parte vamos a usar las implementaciones de los algoritmos de búsqueda de AIMA para \n",
    "# resolver los problemas que hemos representado. Por ejemplo, para resolver el problema de los misioneros con \n",
    "# el método de busqueda en anchura la llamada sería:  breadth_first_tree_search(estado).solution()"
   ]
  },
  {
   "cell_type": "code",
   "execution_count": null,
   "metadata": {},
   "outputs": [],
   "source": [
    "misioneros.initial"
   ]
  },
  {
   "cell_type": "code",
   "execution_count": null,
   "metadata": {},
   "outputs": [],
   "source": [
    "misioneros.actions(misioneros.initial)"
   ]
  },
  {
   "cell_type": "markdown",
   "metadata": {},
   "source": [
    "### Representación del problema del puzzle de 8"
   ]
  },
  {
   "cell_type": "markdown",
   "metadata": {},
   "source": [
    "Vamos a definir la clase Ocho_Puzzle, que implementa la representación del problema del 8-puzzle visto en clase. \n",
    "Se os proporciona una versión incompleta y tendréis que completar el código que se presenta a continuación, en los lugares marcados con interrogantes."
   ]
  },
  {
   "cell_type": "markdown",
   "metadata": {},
   "source": [
    "### 8 Puzzle \n",
    "\n",
    "Tablero 3x3 cuyo objetivo es mover la configuración de las piezas desde un estado inicial dado a un estado objetivo moviendo las fichas al espacio en blanco. \n",
    "\n",
    "ejemplo:- \n",
    "\n",
    "                  Inicial                             Goal \n",
    "              | 7 | 2 | 4 |                       | 1 | 2 | 3 |\n",
    "              | 5 | 0 | 6 |                       | 4 | 5 | 6 |\n",
    "              | 8 | 3 | 1 |                       | 7 | 8 | 0 |\n",
    "              \n",
    "Hay 9! configuraciones iniciales pero ojo! porque no todas tienen solución. **Tenlo en cuenta al hacer las pruebas**. "
   ]
  },
  {
   "cell_type": "markdown",
   "metadata": {},
   "source": [
    "### EJERCICIO 1. Completa la definición de los operadores en el problema del Puzle de 8. "
   ]
  },
  {
   "cell_type": "code",
   "execution_count": 3,
   "metadata": {},
   "outputs": [],
   "source": [
    "class Ocho_Puzzle(Problem):\n",
    "    \"\"\"Problema a del 8-puzzle.  Los estados serán tuplas de nueve elementos,\n",
    "    permutaciones de los números del 0 al 8 (el 0 es el hueco). Representan la\n",
    "    disposición de las fichas en el tablero, leídas por filas de arriba a\n",
    "    abajo, y dentro de cada fila, de izquierda a derecha. Las cuatro\n",
    "    acciones del problema las representaremos mediante las cadenas:\n",
    "    \"Mover hueco arriba\", \"Mover hueco abajo\", \"Mover hueco izquierda\" y\n",
    "    \"Mover hueco derecha\", respectivamente.\"\"\"\"\"\n",
    "\n",
    "    def __init__(self, initial, goal=(1, 2, 3, 4, 5, 6, 7, 8, 0)):\n",
    "        \"\"\" Define goal state and initialize a problem \"\"\"\n",
    "        self.goal = goal\n",
    "        Problem.__init__(self, initial, goal)\n",
    "    \n",
    "    def actions(self,estado):\n",
    "        pos_hueco=estado.index(0) # busco la posicion del 0\n",
    "        accs=list()\n",
    "        if pos_hueco not in (0,1,2):\n",
    "            accs.append(\"Mover hueco arriba\")\n",
    "        if pos_hueco not in (2,5,8):\n",
    "            accs.append(\"Mover hueco derecha\")\n",
    "        if pos_hueco not in (6,7,8):\n",
    "            accs.append(\"Mover hueco abajo\")\n",
    "        if pos_hueco not in (0,3,6):\n",
    "            accs.append(\"Mover hueco izquierda\")\n",
    "        \n",
    "        ### EJERCICIO 1.1. COMPLETA LA DEFINICIÓN DE LOS OPERADORES. \n",
    "        \n",
    "        \n",
    "        return accs     \n",
    "\n",
    "    def result(self,estado,accion):\n",
    "        pos_hueco = estado.index(0)\n",
    "        l = list(estado)\n",
    "        if accion == \"Mover hueco arriba\":\n",
    "            l[pos_hueco] = l[pos_hueco-3]\n",
    "            l[pos_hueco-3] = 0\n",
    "        elif accion == \"Mover hueco abajo\":\n",
    "            l[pos_hueco] = l[pos_hueco+3]\n",
    "            l[pos_hueco+3] = 0\n",
    "        elif accion == \"Mover hueco derecha\":\n",
    "            l[pos_hueco] = l[pos_hueco+1]\n",
    "            l[pos_hueco+1] = 0\n",
    "        else:\n",
    "            l[pos_hueco] = l[pos_hueco-1]\n",
    "            l[pos_hueco-1] = 0\n",
    "\n",
    "        \n",
    "       ### EJERCICIO 1.2. COMPLETA LA DEFINICIÓN DE LOS OPERADORES. \n",
    "        \n",
    "        \n",
    "        return tuple(l)\n",
    "    \n",
    "    def h(self, node):\n",
    "        \"\"\" Return the heuristic value for a given state. \"\"\"\n",
    "        return 1"
   ]
  },
  {
   "cell_type": "markdown",
   "metadata": {},
   "source": [
    "#### Una vez completada la definición de la clase podrás probar los siguientes ejemplos."
   ]
  },
  {
   "cell_type": "code",
   "execution_count": null,
   "metadata": {},
   "outputs": [],
   "source": [
    "p8 = Ocho_Puzzle((2, 8, 3, 1, 6, 4, 7, 0, 5))\n",
    "p8.initial"
   ]
  },
  {
   "cell_type": "code",
   "execution_count": null,
   "metadata": {},
   "outputs": [],
   "source": [
    "p8.actions(p8.initial)\n",
    "#Respuesta: ['Mover hueco arriba', 'Mover hueco izquierda', 'Mover hueco derecha']"
   ]
  },
  {
   "cell_type": "code",
   "execution_count": null,
   "metadata": {},
   "outputs": [],
   "source": [
    "p8.result(p8.initial,\"Mover hueco arriba\")"
   ]
  },
  {
   "cell_type": "code",
   "execution_count": null,
   "metadata": {},
   "outputs": [],
   "source": [
    "p8.result(p8.initial,\"Mover hueco abajo\")"
   ]
  },
  {
   "cell_type": "code",
   "execution_count": null,
   "metadata": {},
   "outputs": [],
   "source": [
    "p8.result(p8.initial,\"Mover hueco derecha\")"
   ]
  },
  {
   "cell_type": "code",
   "execution_count": null,
   "metadata": {},
   "outputs": [],
   "source": [
    "p8.coste_de_aplicar_accion(p8.initial,\"Mover hueco abajo\")"
   ]
  },
  {
   "cell_type": "markdown",
   "metadata": {},
   "source": [
    "## Parte II: Experimentación con los algoritmos implementados. Ejecución de los algoritmos de búsqueda de soluciones para una instancia del Problema."
   ]
  },
  {
   "cell_type": "markdown",
   "metadata": {},
   "source": [
    "### Usaremos búsqueda en anchura y en profundidad para encontrar soluciones tanto al problema de las jarras, los misioneros y el problema del ocho puzzle con distintos estados iniciales."
   ]
  },
  {
   "cell_type": "code",
   "execution_count": 6,
   "metadata": {},
   "outputs": [],
   "source": [
    "# Cargamos el módulo con los algoritmos de búsqueda.\n",
    "from search import *"
   ]
  },
  {
   "cell_type": "code",
   "execution_count": null,
   "metadata": {},
   "outputs": [],
   "source": [
    "## resolvemos el problema de las jarras con el método de búsqueda en anchura.  "
   ]
  },
  {
   "cell_type": "code",
   "execution_count": null,
   "metadata": {},
   "outputs": [],
   "source": [
    "%%timeit\n",
    "breadth_first_tree_search(Jarras()).solution()"
   ]
  },
  {
   "cell_type": "code",
   "execution_count": null,
   "metadata": {},
   "outputs": [],
   "source": [
    "%%timeit\n",
    "depth_first_graph_search(Jarras()).solution()"
   ]
  },
  {
   "cell_type": "markdown",
   "metadata": {},
   "source": [
    "### Ejercicio 2. Prueba los algoritmos de búsqueda ciega con el problema de los misioneros y con el  puzzle de 8"
   ]
  },
  {
   "cell_type": "code",
   "execution_count": null,
   "metadata": {},
   "outputs": [],
   "source": [
    "%%timeit\n",
    "# Usaremos las implementaciones de los algoritmos de búsqueda de AIMA para \n",
    "# resolver los problemas que hemos representado. Por ejemplo, para resolver el problema de los misioneros con \n",
    "# el método de busqueda en anchura\n",
    "breadth_first_tree_search(misioneros).solution()"
   ]
  },
  {
   "cell_type": "code",
   "execution_count": null,
   "metadata": {},
   "outputs": [],
   "source": [
    "%%timeit\n",
    "# Usaremos las implementaciones de los algoritmos de búsqueda de AIMA para \n",
    "# resolver los problemas que hemos representado. Por ejemplo, para resolver el problema de los misioneros con \n",
    "# el método de busqueda en anchura\n",
    "depth_first_tree_search(misioneros).solution()"
   ]
  },
  {
   "cell_type": "code",
   "execution_count": null,
   "metadata": {},
   "outputs": [],
   "source": [
    "p8 = Ocho_Puzzle((2, 8, 3, 1, 6, 4, 7, 0, 5))\n",
    "p8.initial"
   ]
  },
  {
   "cell_type": "code",
   "execution_count": null,
   "metadata": {},
   "outputs": [],
   "source": [
    "p8.goal"
   ]
  },
  {
   "cell_type": "code",
   "execution_count": null,
   "metadata": {},
   "outputs": [],
   "source": [
    "breadth_first_tree_search(Ocho_Puzzle((2, 8, 3, 1, 6, 4, 7, 0, 5))).solution()\n",
    "# La llamada corresponde al algoritmo de busqueda en anchura sin control de repetidos.  \n",
    "# Busqueda en anchura es completo.. ¿no debería terminar? escribe al final del ejercicio tus conclusiones."
   ]
  },
  {
   "cell_type": "code",
   "execution_count": null,
   "metadata": {},
   "outputs": [],
   "source": [
    "%%timeit\n",
    "breadth_first_tree_search(Ocho_Puzzle((1,2,3,4,5,6,0,7,8))).solution()"
   ]
  },
  {
   "cell_type": "code",
   "execution_count": null,
   "metadata": {},
   "outputs": [],
   "source": [
    "estado = Ocho_Puzzle((2, 4, 3, 1, 5, 6, 7, 8, 0))"
   ]
  },
  {
   "cell_type": "code",
   "execution_count": null,
   "metadata": {},
   "outputs": [],
   "source": [
    "%%timeit\n",
    "breadth_first_tree_search(estado).solution()\n",
    "# Respuesta: ['UP', 'LEFT', 'UP', 'LEFT', 'DOWN', 'RIGHT', 'RIGHT', 'DOWN']"
   ]
  },
  {
   "cell_type": "code",
   "execution_count": null,
   "metadata": {},
   "outputs": [],
   "source": [
    "%%timeit\n",
    "depth_first_graph_search(estado).solution()"
   ]
  },
  {
   "cell_type": "code",
   "execution_count": null,
   "metadata": {},
   "outputs": [],
   "source": [
    "%%timeit\n",
    "breadth_first_graph_search(estado).solution()"
   ]
  },
  {
   "cell_type": "markdown",
   "metadata": {},
   "source": [
    "#### En este ejercicio se ha podido observar los resultados y tiempo de la ejecución de los algoritmos de búsqueda ciega.  Escribe aquí tus conclusiones:\n",
    "\n",
    "\n",
    "Datos recogidos:\n",
    "\n",
    "Problema de las jarras:\n",
    "La instancia del problema de las jarras tiene solución y, por lo tanto, tanto la búsqueda en anchura como la búsqueda en profundidad van a encontrar solución siempre (por su completitud). Es decir, la única cuestión es el tiempo. Usando la función timeit, estos son los valores de la media y la desviación típica de la ejecución de estos dos algoritmos (en todos los casos los datos se basan en 7 ejecuciones):\n",
    "Búsqueda en anchura: Media (3,98ms). Desviación típica (174 μs)\n",
    "Búsqueda en profundidad: Media (80,8 μs). Desviación típica (2,73 μs)\n",
    "Cabe destacar también que Se nota bastante el control de repeticiones del graph_search, pues pasa de 67.1 µs a 2.29 ms si la busqueda es tree_search\n",
    "\n",
    "\n",
    "Problema de los misioneros:\n",
    "Como tenemos un criterio de validez para una instancia de este problema (que no haya más caníbales que misioneros), todos los casos en los que se pueda hacer búsqueda en anchura o en profundidad se va a encontrar solución (las instancias \"imposibles\" quedan invalidadas previamente). Con la función timeit hemos calculado la media de las ejecuciones y la desviación típica de las mismas (en base a 7 ejecuciones):\n",
    "Búsqueda en anchura: Media (184ms). Desviación típica (15,7ms)\n",
    "\n",
    "\n",
    "Puzle del 8:\n",
    "Instancia (2,8,3,1,6,4,7,0,5): No termina dado que no existe solucón en este caso (el criterio en esta ocasión es si el número de inversiones es par o no). Como no existe solución, la búsqueda en anchura no termina (la completitud de la búsqueda en anchura nos indica que siempre encontrará solución si ésta existe).\n",
    "\n",
    "Instancia (2,4,3,1,5,6,7,8,0): En este caso si tenemos solución. De nuevo en base a 7 ejecuciones, tenemos resultados de búsqueda en anchura (en árbol y en grafo) y búsqueda en profundidad (sólo en árbol):\n",
    "Búsqueda en anchura (en árbol): Media (23,6ms). Desviación típica (2,56μs)\n",
    "Búsqueda en anchura (en grafo): Media (2,28ms). Desviación típica (127μs)\n",
    "Búsqueda en profundidad: Media (14min 7s). Desviación típica (20min 17s)\n",
    "Con respecto a ésta última, hay que decir que encuentra solución pero no es óptima. Hay que destacar que el orden en el que se añadan las acciones en la función result influye en el resultado, pues con otros órdenes se obtienen soluciones distintas.\n",
    "\n",
    "\n",
    "La conslusión que sacamos es que la búsqueda ciega es ineficiente en general pero la búsqueda en profundidad es aún más ineficiente en particular (en la última instancia del puzle del 8, vemos que cuantos más nodos haya que generar, más ineficiente va a ser esta búsqueda porque los visita todos sin ningún tipo de criterio)\n"
   ]
  },
  {
   "cell_type": "markdown",
   "metadata": {},
   "source": [
    "### Ejercicio 3:  Definición de heurísticas\n",
    "\n",
    "#### Para el problema de los misioneros define una heurística y comenta sus propiedades\n",
    "#### Para el problema del puzle de 8 se pide definir al menos las siguientes funciones heurísticas:\n",
    "* linear(node): cuenta el número de casillas mal colocadas respecto al estado final.\n",
    "* manhattan(node): suma la distancia Manhattan desde cada casilla a la posición en la que debería estar en el estado final.\n",
    "* max_heuristic(node): maximo de las dos anteriores\n",
    "* sqrt_manhattan(node):  raíz cuadrada de la distancia Manhattan"
   ]
  },
  {
   "cell_type": "code",
   "execution_count": 4,
   "metadata": {},
   "outputs": [],
   "source": [
    "# Heuristicas para el 8 Puzzle. Puedes definir las funciones fuera de la clase ya que en la llamada a A* puedes pasar el nombre \n",
    "# de la función. \n",
    "\n",
    "\n",
    "def pos(ind):\n",
    "    return int(ind / 3), ind%3\n",
    "\n",
    "def linear(node):\n",
    "    #goal = node.state.goal\n",
    "    goal = (1,2,3,4,5,6,7,8,0)\n",
    "    return len([1 for i,j in zip(goal,node.state) if i!=j])\n",
    "\n",
    "def manhattan(node):\n",
    "    state = node.state\n",
    "    mhd = 0\n",
    "    for i,e in enumerate(state):\n",
    "        x,y = pos(i)\n",
    "        correct_i = e-1 if (e>0) else 8  # assuming goal = (1,2,3,4,5,6,7,8,0)\n",
    "        x1,y1 = pos(correct_i)\n",
    "        mhd += abs(x1-x) + abs(y1-y)\n",
    "    \n",
    "    return mhd\n",
    "\n",
    "def sqrt_manhattan(node):\n",
    "    mhd = manhattan(node)\n",
    "    \n",
    "    return math.sqrt(mhd)\n",
    "\n",
    "def max_heuristic(node):\n",
    "    score1 = manhattan(node)\n",
    "    score2 = linear(node)\n",
    "    return max(score1, score2)\n",
    "        "
   ]
  },
  {
   "cell_type": "code",
   "execution_count": null,
   "metadata": {},
   "outputs": [],
   "source": [
    "puzle8 = Ocho_Puzzle((2,4,3,1,5,6,7,8,0))"
   ]
  },
  {
   "cell_type": "markdown",
   "metadata": {},
   "source": [
    "### Ejercicio 4. \n",
    "Usar las implementaciones de los algoritmos que correspondan a búsqueda_coste_uniforme, busqueda_primero_el_mejor y búsqueda_a_estrella (con las heurísticas anteriores) para resolver el problema del 8 puzzle para el siguiente **estado inicial** y comparar los costes temporales usando %timeit y comentar los resultados.\n",
    "\n",
    "              +---+---+---+\n",
    "              | 2 | 4 | 3 |\n",
    "              +---+---+---+\n",
    "              | 1 | 5 | 6 |\n",
    "              +---+---+---+\n",
    "              | 7 | 8 | H |\n",
    "              +---+---+---+\n"
   ]
  },
  {
   "cell_type": "code",
   "execution_count": null,
   "metadata": {},
   "outputs": [],
   "source": [
    "%%timeit\n",
    "puzle = Ocho_Puzzle((2, 4, 3, 1, 5, 6, 7, 8, 0))\n",
    "astar_search(puzle).solution()"
   ]
  },
  {
   "cell_type": "code",
   "execution_count": null,
   "metadata": {},
   "outputs": [],
   "source": [
    "%%timeit\n",
    "astar_search(puzle,manhattan).solution()"
   ]
  },
  {
   "cell_type": "code",
   "execution_count": null,
   "metadata": {},
   "outputs": [],
   "source": [
    "puzle.initial"
   ]
  },
  {
   "cell_type": "code",
   "execution_count": null,
   "metadata": {},
   "outputs": [],
   "source": [
    "puzle.goal"
   ]
  },
  {
   "cell_type": "code",
   "execution_count": null,
   "metadata": {},
   "outputs": [],
   "source": [
    "%%timeit\n",
    "astar_search(puzle,linear).solution()"
   ]
  },
  {
   "cell_type": "code",
   "execution_count": null,
   "metadata": {},
   "outputs": [],
   "source": [
    "%%timeit\n",
    "astar_search(puzle,max_heuristic).solution()"
   ]
  },
  {
   "cell_type": "markdown",
   "metadata": {},
   "source": [
    "¿Has notado diferencias en los tiempos de ejecución? Vamos a medirlo.Aunque las heurísticas no afectan a la solución obtenida sí hay diferencias importantes en el tiempo de cálculo\n",
    "<br>"
   ]
  },
  {
   "cell_type": "code",
   "execution_count": 8,
   "metadata": {},
   "outputs": [],
   "source": [
    "puzzle_1 = Ocho_Puzzle((2, 4, 3, 1, 5, 6, 7, 8, 0))\n",
    "puzzle_2 = Ocho_Puzzle((1, 2, 3, 4, 5, 6, 0, 7, 8))\n",
    "puzzle_3 = Ocho_Puzzle((1, 2, 3, 4, 5, 7, 8, 6, 0))"
   ]
  },
  {
   "cell_type": "code",
   "execution_count": null,
   "metadata": {},
   "outputs": [],
   "source": [
    "%%timeit\n",
    "astar_search(puzzle_1, linear)\n",
    "astar_search(puzzle_2, linear)\n",
    "astar_search(puzzle_3, linear)"
   ]
  },
  {
   "cell_type": "code",
   "execution_count": null,
   "metadata": {},
   "outputs": [],
   "source": [
    "%%timeit\n",
    "astar_search(puzzle_1, manhattan)\n",
    "astar_search(puzzle_2, manhattan)\n",
    "astar_search(puzzle_3, manhattan)"
   ]
  },
  {
   "cell_type": "code",
   "execution_count": 9,
   "metadata": {},
   "outputs": [
    {
     "ename": "NameError",
     "evalue": "name 'math' is not defined",
     "output_type": "error",
     "traceback": [
      "\u001b[0;31m---------------------------------------------------------------------------\u001b[0m",
      "\u001b[0;31mNameError\u001b[0m                                 Traceback (most recent call last)",
      "\u001b[0;32m<ipython-input-9-37a97897755d>\u001b[0m in \u001b[0;36m<module>\u001b[0;34m\u001b[0m\n\u001b[0;32m----> 1\u001b[0;31m \u001b[0mastar_search\u001b[0m\u001b[0;34m(\u001b[0m\u001b[0mpuzzle_1\u001b[0m\u001b[0;34m,\u001b[0m \u001b[0msqrt_manhattan\u001b[0m\u001b[0;34m)\u001b[0m\u001b[0;34m\u001b[0m\u001b[0;34m\u001b[0m\u001b[0m\n\u001b[0m\u001b[1;32m      2\u001b[0m \u001b[0mastar_search\u001b[0m\u001b[0;34m(\u001b[0m\u001b[0mpuzzle_2\u001b[0m\u001b[0;34m,\u001b[0m \u001b[0msqrt_manhattan\u001b[0m\u001b[0;34m)\u001b[0m\u001b[0;34m\u001b[0m\u001b[0;34m\u001b[0m\u001b[0m\n\u001b[1;32m      3\u001b[0m \u001b[0mastar_search\u001b[0m\u001b[0;34m(\u001b[0m\u001b[0mpuzzle_3\u001b[0m\u001b[0;34m,\u001b[0m \u001b[0msqrt_manhattan\u001b[0m\u001b[0;34m)\u001b[0m\u001b[0;34m\u001b[0m\u001b[0;34m\u001b[0m\u001b[0m\n",
      "\u001b[0;32m~/DG/IA/pr1ia/definitiva/search.py\u001b[0m in \u001b[0;36mastar_search\u001b[0;34m(problem, h, display)\u001b[0m\n\u001b[1;32m    418\u001b[0m     else in your Problem subclass.\"\"\"\n\u001b[1;32m    419\u001b[0m     \u001b[0mh\u001b[0m \u001b[0;34m=\u001b[0m \u001b[0mmemoize\u001b[0m\u001b[0;34m(\u001b[0m\u001b[0mh\u001b[0m \u001b[0;32mor\u001b[0m \u001b[0mproblem\u001b[0m\u001b[0;34m.\u001b[0m\u001b[0mh\u001b[0m\u001b[0;34m,\u001b[0m \u001b[0;34m'h'\u001b[0m\u001b[0;34m)\u001b[0m\u001b[0;34m\u001b[0m\u001b[0;34m\u001b[0m\u001b[0m\n\u001b[0;32m--> 420\u001b[0;31m     \u001b[0;32mreturn\u001b[0m \u001b[0mbest_first_graph_search\u001b[0m\u001b[0;34m(\u001b[0m\u001b[0mproblem\u001b[0m\u001b[0;34m,\u001b[0m \u001b[0;32mlambda\u001b[0m \u001b[0mn\u001b[0m\u001b[0;34m:\u001b[0m \u001b[0mn\u001b[0m\u001b[0;34m.\u001b[0m\u001b[0mpath_cost\u001b[0m \u001b[0;34m+\u001b[0m \u001b[0mh\u001b[0m\u001b[0;34m(\u001b[0m\u001b[0mn\u001b[0m\u001b[0;34m)\u001b[0m\u001b[0;34m,\u001b[0m \u001b[0mdisplay\u001b[0m\u001b[0;34m)\u001b[0m\u001b[0;34m\u001b[0m\u001b[0;34m\u001b[0m\u001b[0m\n\u001b[0m\u001b[1;32m    421\u001b[0m \u001b[0;34m\u001b[0m\u001b[0m\n\u001b[1;32m    422\u001b[0m \u001b[0;34m\u001b[0m\u001b[0m\n",
      "\u001b[0;32m~/DG/IA/pr1ia/definitiva/search.py\u001b[0m in \u001b[0;36mbest_first_graph_search\u001b[0;34m(problem, f, display)\u001b[0m\n\u001b[1;32m    269\u001b[0m     \u001b[0mnode\u001b[0m \u001b[0;34m=\u001b[0m \u001b[0mNode\u001b[0m\u001b[0;34m(\u001b[0m\u001b[0mproblem\u001b[0m\u001b[0;34m.\u001b[0m\u001b[0minitial\u001b[0m\u001b[0;34m)\u001b[0m\u001b[0;34m\u001b[0m\u001b[0;34m\u001b[0m\u001b[0m\n\u001b[1;32m    270\u001b[0m     \u001b[0mfrontier\u001b[0m \u001b[0;34m=\u001b[0m \u001b[0mPriorityQueue\u001b[0m\u001b[0;34m(\u001b[0m\u001b[0;34m'min'\u001b[0m\u001b[0;34m,\u001b[0m \u001b[0mf\u001b[0m\u001b[0;34m)\u001b[0m\u001b[0;34m\u001b[0m\u001b[0;34m\u001b[0m\u001b[0m\n\u001b[0;32m--> 271\u001b[0;31m     \u001b[0mfrontier\u001b[0m\u001b[0;34m.\u001b[0m\u001b[0mappend\u001b[0m\u001b[0;34m(\u001b[0m\u001b[0mnode\u001b[0m\u001b[0;34m)\u001b[0m\u001b[0;34m\u001b[0m\u001b[0;34m\u001b[0m\u001b[0m\n\u001b[0m\u001b[1;32m    272\u001b[0m     \u001b[0mexplored\u001b[0m \u001b[0;34m=\u001b[0m \u001b[0mset\u001b[0m\u001b[0;34m(\u001b[0m\u001b[0;34m)\u001b[0m\u001b[0;34m\u001b[0m\u001b[0;34m\u001b[0m\u001b[0m\n\u001b[1;32m    273\u001b[0m     \u001b[0;32mwhile\u001b[0m \u001b[0mfrontier\u001b[0m\u001b[0;34m:\u001b[0m\u001b[0;34m\u001b[0m\u001b[0;34m\u001b[0m\u001b[0m\n",
      "\u001b[0;32m~/DG/IA/pr1ia/definitiva/utils.py\u001b[0m in \u001b[0;36mappend\u001b[0;34m(self, item)\u001b[0m\n\u001b[1;32m    738\u001b[0m     \u001b[0;32mdef\u001b[0m \u001b[0mappend\u001b[0m\u001b[0;34m(\u001b[0m\u001b[0mself\u001b[0m\u001b[0;34m,\u001b[0m \u001b[0mitem\u001b[0m\u001b[0;34m)\u001b[0m\u001b[0;34m:\u001b[0m\u001b[0;34m\u001b[0m\u001b[0;34m\u001b[0m\u001b[0m\n\u001b[1;32m    739\u001b[0m         \u001b[0;34m\"\"\"Insert item at its correct position.\"\"\"\u001b[0m\u001b[0;34m\u001b[0m\u001b[0;34m\u001b[0m\u001b[0m\n\u001b[0;32m--> 740\u001b[0;31m         \u001b[0mheapq\u001b[0m\u001b[0;34m.\u001b[0m\u001b[0mheappush\u001b[0m\u001b[0;34m(\u001b[0m\u001b[0mself\u001b[0m\u001b[0;34m.\u001b[0m\u001b[0mheap\u001b[0m\u001b[0;34m,\u001b[0m \u001b[0;34m(\u001b[0m\u001b[0mself\u001b[0m\u001b[0;34m.\u001b[0m\u001b[0mf\u001b[0m\u001b[0;34m(\u001b[0m\u001b[0mitem\u001b[0m\u001b[0;34m)\u001b[0m\u001b[0;34m,\u001b[0m \u001b[0mitem\u001b[0m\u001b[0;34m)\u001b[0m\u001b[0;34m)\u001b[0m\u001b[0;34m\u001b[0m\u001b[0;34m\u001b[0m\u001b[0m\n\u001b[0m\u001b[1;32m    741\u001b[0m \u001b[0;34m\u001b[0m\u001b[0m\n\u001b[1;32m    742\u001b[0m     \u001b[0;32mdef\u001b[0m \u001b[0mextend\u001b[0m\u001b[0;34m(\u001b[0m\u001b[0mself\u001b[0m\u001b[0;34m,\u001b[0m \u001b[0mitems\u001b[0m\u001b[0;34m)\u001b[0m\u001b[0;34m:\u001b[0m\u001b[0;34m\u001b[0m\u001b[0;34m\u001b[0m\u001b[0m\n",
      "\u001b[0;32m~/DG/IA/pr1ia/definitiva/utils.py\u001b[0m in \u001b[0;36mmemoized_fn\u001b[0;34m(obj, *args)\u001b[0m\n\u001b[1;32m    415\u001b[0m                 \u001b[0;32mreturn\u001b[0m \u001b[0mgetattr\u001b[0m\u001b[0;34m(\u001b[0m\u001b[0mobj\u001b[0m\u001b[0;34m,\u001b[0m \u001b[0mslot\u001b[0m\u001b[0;34m)\u001b[0m\u001b[0;34m\u001b[0m\u001b[0;34m\u001b[0m\u001b[0m\n\u001b[1;32m    416\u001b[0m             \u001b[0;32melse\u001b[0m\u001b[0;34m:\u001b[0m\u001b[0;34m\u001b[0m\u001b[0;34m\u001b[0m\u001b[0m\n\u001b[0;32m--> 417\u001b[0;31m                 \u001b[0mval\u001b[0m \u001b[0;34m=\u001b[0m \u001b[0mfn\u001b[0m\u001b[0;34m(\u001b[0m\u001b[0mobj\u001b[0m\u001b[0;34m,\u001b[0m \u001b[0;34m*\u001b[0m\u001b[0margs\u001b[0m\u001b[0;34m)\u001b[0m\u001b[0;34m\u001b[0m\u001b[0;34m\u001b[0m\u001b[0m\n\u001b[0m\u001b[1;32m    418\u001b[0m                 \u001b[0msetattr\u001b[0m\u001b[0;34m(\u001b[0m\u001b[0mobj\u001b[0m\u001b[0;34m,\u001b[0m \u001b[0mslot\u001b[0m\u001b[0;34m,\u001b[0m \u001b[0mval\u001b[0m\u001b[0;34m)\u001b[0m\u001b[0;34m\u001b[0m\u001b[0;34m\u001b[0m\u001b[0m\n\u001b[1;32m    419\u001b[0m                 \u001b[0;32mreturn\u001b[0m \u001b[0mval\u001b[0m\u001b[0;34m\u001b[0m\u001b[0;34m\u001b[0m\u001b[0m\n",
      "\u001b[0;32m~/DG/IA/pr1ia/definitiva/search.py\u001b[0m in \u001b[0;36m<lambda>\u001b[0;34m(n)\u001b[0m\n\u001b[1;32m    418\u001b[0m     else in your Problem subclass.\"\"\"\n\u001b[1;32m    419\u001b[0m     \u001b[0mh\u001b[0m \u001b[0;34m=\u001b[0m \u001b[0mmemoize\u001b[0m\u001b[0;34m(\u001b[0m\u001b[0mh\u001b[0m \u001b[0;32mor\u001b[0m \u001b[0mproblem\u001b[0m\u001b[0;34m.\u001b[0m\u001b[0mh\u001b[0m\u001b[0;34m,\u001b[0m \u001b[0;34m'h'\u001b[0m\u001b[0;34m)\u001b[0m\u001b[0;34m\u001b[0m\u001b[0;34m\u001b[0m\u001b[0m\n\u001b[0;32m--> 420\u001b[0;31m     \u001b[0;32mreturn\u001b[0m \u001b[0mbest_first_graph_search\u001b[0m\u001b[0;34m(\u001b[0m\u001b[0mproblem\u001b[0m\u001b[0;34m,\u001b[0m \u001b[0;32mlambda\u001b[0m \u001b[0mn\u001b[0m\u001b[0;34m:\u001b[0m \u001b[0mn\u001b[0m\u001b[0;34m.\u001b[0m\u001b[0mpath_cost\u001b[0m \u001b[0;34m+\u001b[0m \u001b[0mh\u001b[0m\u001b[0;34m(\u001b[0m\u001b[0mn\u001b[0m\u001b[0;34m)\u001b[0m\u001b[0;34m,\u001b[0m \u001b[0mdisplay\u001b[0m\u001b[0;34m)\u001b[0m\u001b[0;34m\u001b[0m\u001b[0;34m\u001b[0m\u001b[0m\n\u001b[0m\u001b[1;32m    421\u001b[0m \u001b[0;34m\u001b[0m\u001b[0m\n\u001b[1;32m    422\u001b[0m \u001b[0;34m\u001b[0m\u001b[0m\n",
      "\u001b[0;32m~/DG/IA/pr1ia/definitiva/utils.py\u001b[0m in \u001b[0;36mmemoized_fn\u001b[0;34m(obj, *args)\u001b[0m\n\u001b[1;32m    415\u001b[0m                 \u001b[0;32mreturn\u001b[0m \u001b[0mgetattr\u001b[0m\u001b[0;34m(\u001b[0m\u001b[0mobj\u001b[0m\u001b[0;34m,\u001b[0m \u001b[0mslot\u001b[0m\u001b[0;34m)\u001b[0m\u001b[0;34m\u001b[0m\u001b[0;34m\u001b[0m\u001b[0m\n\u001b[1;32m    416\u001b[0m             \u001b[0;32melse\u001b[0m\u001b[0;34m:\u001b[0m\u001b[0;34m\u001b[0m\u001b[0;34m\u001b[0m\u001b[0m\n\u001b[0;32m--> 417\u001b[0;31m                 \u001b[0mval\u001b[0m \u001b[0;34m=\u001b[0m \u001b[0mfn\u001b[0m\u001b[0;34m(\u001b[0m\u001b[0mobj\u001b[0m\u001b[0;34m,\u001b[0m \u001b[0;34m*\u001b[0m\u001b[0margs\u001b[0m\u001b[0;34m)\u001b[0m\u001b[0;34m\u001b[0m\u001b[0;34m\u001b[0m\u001b[0m\n\u001b[0m\u001b[1;32m    418\u001b[0m                 \u001b[0msetattr\u001b[0m\u001b[0;34m(\u001b[0m\u001b[0mobj\u001b[0m\u001b[0;34m,\u001b[0m \u001b[0mslot\u001b[0m\u001b[0;34m,\u001b[0m \u001b[0mval\u001b[0m\u001b[0;34m)\u001b[0m\u001b[0;34m\u001b[0m\u001b[0;34m\u001b[0m\u001b[0m\n\u001b[1;32m    419\u001b[0m                 \u001b[0;32mreturn\u001b[0m \u001b[0mval\u001b[0m\u001b[0;34m\u001b[0m\u001b[0;34m\u001b[0m\u001b[0m\n",
      "\u001b[0;32m<ipython-input-4-556bf92a19ad>\u001b[0m in \u001b[0;36msqrt_manhattan\u001b[0;34m(node)\u001b[0m\n\u001b[1;32m     25\u001b[0m     \u001b[0mmhd\u001b[0m \u001b[0;34m=\u001b[0m \u001b[0mmanhattan\u001b[0m\u001b[0;34m(\u001b[0m\u001b[0mnode\u001b[0m\u001b[0;34m)\u001b[0m\u001b[0;34m\u001b[0m\u001b[0;34m\u001b[0m\u001b[0m\n\u001b[1;32m     26\u001b[0m \u001b[0;34m\u001b[0m\u001b[0m\n\u001b[0;32m---> 27\u001b[0;31m     \u001b[0;32mreturn\u001b[0m \u001b[0mmath\u001b[0m\u001b[0;34m.\u001b[0m\u001b[0msqrt\u001b[0m\u001b[0;34m(\u001b[0m\u001b[0mmhd\u001b[0m\u001b[0;34m)\u001b[0m\u001b[0;34m\u001b[0m\u001b[0;34m\u001b[0m\u001b[0m\n\u001b[0m\u001b[1;32m     28\u001b[0m \u001b[0;34m\u001b[0m\u001b[0m\n\u001b[1;32m     29\u001b[0m \u001b[0;32mdef\u001b[0m \u001b[0mmax_heuristic\u001b[0m\u001b[0;34m(\u001b[0m\u001b[0mnode\u001b[0m\u001b[0;34m)\u001b[0m\u001b[0;34m:\u001b[0m\u001b[0;34m\u001b[0m\u001b[0;34m\u001b[0m\u001b[0m\n",
      "\u001b[0;31mNameError\u001b[0m: name 'math' is not defined"
     ]
    }
   ],
   "source": [
    "\n",
    "astar_search(puzzle_1, sqrt_manhattan)\n",
    "astar_search(puzzle_2, sqrt_manhattan)\n",
    "astar_search(puzzle_3, sqrt_manhattan)"
   ]
  },
  {
   "cell_type": "code",
   "execution_count": null,
   "metadata": {},
   "outputs": [],
   "source": [
    "%%timeit\n",
    "astar_search(puzzle_1, max_heuristic)\n",
    "astar_search(puzzle_2, max_heuristic)\n",
    "astar_search(puzzle_3, max_heuristic)"
   ]
  },
  {
   "cell_type": "markdown",
   "metadata": {},
   "source": [
    "#### Escribe aquí tus conclusiones sobre qué heurística es mejor y por qué.\n",
    "\n",
    "\n",
    "La heurística lineal da un tiempo medio de 2.66 ms, mayor que los 2.16 ms que se tarda usando la heurística manhattan. Esto es esperable, pues la manhattan es más informada que la lineal. \n",
    "\n",
    "En cuanto a sqrt_manhattan, no ahorra ningún esfuerzo de búsqueda con respecto a la manhattan original (pues sqrt_manhattan(x) < sqrt_manhattan(y) <=> manhattan(x) < manhattan(y)), y además, supone un gasto extra en cada nodo, al tener que computar la raiz cuadrada de la manhattan, y por ello es que el coste medio es de 36.8 ms. \n",
    "\n",
    "Por último, max_heuristic es más informada que las anteriores(de hecho, equivale a la manhattan, al ser más informada que la lineal), pero debido a que tiene que hacer más calculos, max_heuristic tarda un poco más que la manhattan (2.39 ms)\n",
    "\n",
    "\n"
   ]
  },
  {
   "cell_type": "markdown",
   "metadata": {},
   "source": [
    "## Parte III:  Calcular estadísticas sobre la ejecución de los algoritmos para resolución de problemas de ocho puzzle. \n",
    "### El objetivo es comprobar experimentalmente las propiedades teóricas de los algoritmos vistas en clase.\n",
    "Usaremos la función %timeit para medir los tiempos y para el espacio una version modificada de Problema que almacena el número de nodos.\n",
    "\n"
   ]
  },
  {
   "cell_type": "code",
   "execution_count": null,
   "metadata": {},
   "outputs": [],
   "source": [
    "# Hacemos una definición ampliada de la clase Problem de AIMA que nos va a permitir experimentar con distintos\n",
    "# estados iniciales, algoritmos y heurísticas, para resolver el 8-puzzle. \n",
    "# The solvability of a configuration can be checked by calculating the Inversion Permutation. If the total Inversion Permutation is even then the initial configuration is solvable else the initial configuration is not solvable which means that only 9!/2 initial states lead to a solution.\n",
    "# Añadimos en la clase ampliada la capacidad para contar el número de nodos analizados durante la\n",
    "# búsqueda:\n",
    "\n",
    "\n",
    "class Problema_con_Analizados(Problem):\n",
    "\n",
    "    \"\"\"Es un problema que se comporta exactamente igual que el que recibe al\n",
    "       inicializarse, y además incorpora unos atributos nuevos para almacenar el\n",
    "       número de nodos analizados durante la búsqueda. De esta manera, no\n",
    "       tenemos que modificar el código del algoritmo de búsqueda.\"\"\" \n",
    "         \n",
    "    def __init__(self, problem):\n",
    "        self.initial = problem.initial\n",
    "        self.problem = problem\n",
    "        self.analizados  = 0\n",
    "        self.goal = problem.goal\n",
    "\n",
    "    def actions(self, estado):\n",
    "        return self.problem.actions(estado)\n",
    "\n",
    "    def result(self, estado, accion):\n",
    "        return self.problem.result(estado, accion)\n",
    "\n",
    "    def goal_test(self, estado):\n",
    "        self.analizados += 1\n",
    "        return self.problem.goal_test(estado)\n",
    "\n",
    "    def coste_de_aplicar_accion(self, estado, accion):\n",
    "        return self.problem.coste_de_aplicar_accion(estado,accion)\n",
    "    \n",
    "    def check_solvability(self, state):\n",
    "        \"\"\" Checks if the given state is solvable \"\"\"\n",
    "\n",
    "        inversion = 0\n",
    "        for i in range(len(state)):\n",
    "            for j in range(i+1, len(state)):\n",
    "                if (state[i] > state[j]) and state[i] != 0 and state[j]!= 0:\n",
    "                    inversion += 1\n",
    "        \n",
    "        return inversion % 2 == 0        "
   ]
  },
  {
   "cell_type": "code",
   "execution_count": null,
   "metadata": {},
   "outputs": [],
   "source": [
    "estado_inicial = (1,2,3,4,5,6,7,0,8)\n",
    "p8p=Problema_con_Analizados(Ocho_Puzzle(estado_inicial))\n",
    "p8 = Ocho_Puzzle(estado_inicial)"
   ]
  },
  {
   "cell_type": "code",
   "execution_count": null,
   "metadata": {},
   "outputs": [],
   "source": [
    "p8p.initial"
   ]
  },
  {
   "cell_type": "code",
   "execution_count": null,
   "metadata": {},
   "outputs": [],
   "source": [
    "p8p.goal"
   ]
  },
  {
   "cell_type": "code",
   "execution_count": null,
   "metadata": {},
   "outputs": [],
   "source": [
    "puzzle_1 = Ocho_Puzzle((2, 4, 3, 1, 5, 6, 7, 8, 0))\n",
    "astar_search(puzzle_1,linear).solution()"
   ]
  },
  {
   "cell_type": "code",
   "execution_count": null,
   "metadata": {},
   "outputs": [],
   "source": [
    "astar_search(p8, h2_ocho_puzzle).solution()"
   ]
  },
  {
   "cell_type": "code",
   "execution_count": null,
   "metadata": {},
   "outputs": [],
   "source": [
    "astar_search(p8p, h2_ocho_puzzle).solution()"
   ]
  },
  {
   "cell_type": "code",
   "execution_count": null,
   "metadata": {},
   "outputs": [],
   "source": [
    "def resuelve_ocho_puzzle(estado_inicial, algoritmo, h=None):\n",
    "    \"\"\"Función para aplicar un algoritmo de búsqueda dado al problema del ocho\n",
    "       puzzle, con un estado inicial dado y (cuando el algoritmo lo necesite)\n",
    "       una heurística dada.\n",
    "       Ejemplo de uso:\n",
    "           puzzle_1 = (2, 4, 3, 1, 5, 6, 7, 8, 0)\n",
    "           resuelve_ocho_puzzle(puzzle_1,astar_search,h2_ocho_puzzle)\n",
    "        Solución: ['Mover hueco arriba', 'Mover hueco izquierda', 'Mover hueco arriba', \n",
    "        'Mover hueco izquierda', 'Mover hueco abajo', 'Mover hueco derecha', 'Mover hueco derecha', 'Mover hueco abajo']\n",
    "        Algoritmo: astar_search\n",
    "        Heurística: h2_ocho_puzzle\n",
    "        Longitud de la solución: 8. Nodos analizados: 11\n",
    "       \"\"\"\n",
    "\n",
    "    p8p=Problema_con_Analizados(Ocho_Puzzle(estado_inicial))\n",
    "    if p8p.check_solvability(estado_inicial):\n",
    "        if h: \n",
    "            sol= algoritmo(p8p,h).solution()\n",
    "        else: \n",
    "            sol= algoritmo(p8p).solution()\n",
    "        print(\"Solución: {0}\".format(sol))\n",
    "        print(\"Algoritmo: {0}\".format(algoritmo.__name__))\n",
    "        if h: \n",
    "            print(\"Heurística: {0}\".format(h.__name__))\n",
    "        else:\n",
    "            pass\n",
    "        print(\"Longitud de la solución: {0}. Nodos analizados: {1}\".format(len(sol),p8p.analizados))\n",
    "    else: \n",
    "        print(\"Este problema no tiene solucion. \")\n"
   ]
  },
  {
   "cell_type": "code",
   "execution_count": null,
   "metadata": {},
   "outputs": [],
   "source": [
    "resuelve_ocho_puzzle(puzzle_1.initial,astar_search,sqrt_manhattan)"
   ]
  },
  {
   "cell_type": "code",
   "execution_count": null,
   "metadata": {},
   "outputs": [],
   "source": [
    "E1 = (2,1,3,4,8,6,7,0,5)\n",
    "E2 = (1,0,3,4,8,6,7,2,5)\n",
    "E3 = (4,5,6,1,0,3,7,8,2)\n",
    "E4 = (1,2,3,0,5,6,4,7,8)"
   ]
  },
  {
   "cell_type": "code",
   "execution_count": null,
   "metadata": {
    "tags": []
   },
   "outputs": [],
   "source": [
    "%%timeit\n",
    "resuelve_ocho_puzzle(E4,breadth_first_search)"
   ]
  },
  {
   "cell_type": "code",
   "execution_count": null,
   "metadata": {},
   "outputs": [],
   "source": [
    "%%timeit\n",
    "resuelve_ocho_puzzle(E2,depth_first_graph_search)"
   ]
  },
  {
   "cell_type": "code",
   "execution_count": null,
   "metadata": {},
   "outputs": [],
   "source": [
    "%%timeit\n",
    "resuelve_ocho_puzzle(E3,uniform_cost_search)"
   ]
  },
  {
   "cell_type": "code",
   "execution_count": null,
   "metadata": {
    "tags": []
   },
   "outputs": [],
   "source": [
    "%%timeit\n",
    "resuelve_ocho_puzzle(E4,best_first_graph_search,linear)"
   ]
  },
  {
   "cell_type": "code",
   "execution_count": null,
   "metadata": {
    "tags": []
   },
   "outputs": [],
   "source": [
    "%%timeit\n",
    "resuelve_ocho_puzzle(E4,best_first_graph_search,manhattan)"
   ]
  },
  {
   "cell_type": "code",
   "execution_count": null,
   "metadata": {
    "tags": []
   },
   "outputs": [],
   "source": [
    "%%timeit\n",
    "resuelve_ocho_puzzle(E4,astar_search,linear)"
   ]
  },
  {
   "cell_type": "code",
   "execution_count": null,
   "metadata": {
    "tags": []
   },
   "outputs": [],
   "source": [
    "%%timeit\n",
    "resuelve_ocho_puzzle(E1,astar_search,manhattan)"
   ]
  },
  {
   "cell_type": "code",
   "execution_count": null,
   "metadata": {},
   "outputs": [],
   "source": [
    "%%timeit\n",
    "resuelve_ocho_puzzle(E2,best_first_graph_search,manhattan)"
   ]
  },
  {
   "cell_type": "code",
   "execution_count": null,
   "metadata": {},
   "outputs": [],
   "source": [
    "%%timeit\n",
    "resuelve_ocho_puzzle(E3,best_first_graph_search,manhattan)"
   ]
  },
  {
   "cell_type": "code",
   "execution_count": null,
   "metadata": {},
   "outputs": [],
   "source": [
    "%%timeit\n",
    "resuelve_ocho_puzzle(E4,best_first_graph_search,manhattan)"
   ]
  },
  {
   "cell_type": "code",
   "execution_count": null,
   "metadata": {},
   "outputs": [],
   "source": [
    "%%timeit\n",
    "resuelve_ocho_puzzle(E1,astar_search,manhattan)"
   ]
  },
  {
   "cell_type": "code",
   "execution_count": null,
   "metadata": {},
   "outputs": [],
   "source": [
    "%%timeit\n",
    "resuelve_ocho_puzzle(E2,astar_search,manhattan)"
   ]
  },
  {
   "cell_type": "code",
   "execution_count": null,
   "metadata": {},
   "outputs": [],
   "source": [
    "%%timeit\n",
    "resuelve_ocho_puzzle(E3,astar_search,manhattan)"
   ]
  },
  {
   "cell_type": "code",
   "execution_count": null,
   "metadata": {},
   "outputs": [],
   "source": [
    "%%timeit\n",
    "resuelve_ocho_puzzle(E1,astar_search,manhattan)"
   ]
  },
  {
   "cell_type": "markdown",
   "metadata": {},
   "source": [
    "### Ejercicio 5:  resolver usando las distintas búsquedas y en su caso, las distintas heurísticas, el problema del 8 puzzle para los siguientes estados iniciales:\n",
    "\n",
    "E1 = (2,1,3,4,8,6,7,0,5)\n",
    "E2 = (1,0,3,4,8,6,7,2,5)\n",
    "E3 = (4,5,6,1,0,3,7,8,2)\n",
    "E4 = (1,2,3,0,5,6,4,7,8)\n",
    "\n",
    "          E1              E2              E3              E4\n",
    "           \n",
    "     +---+---+---+   +---+---+---+   +---+---+---+   +---+---+---+    \n",
    "     | 2 | 1 | 3 |   | 1 | 0 | 3 |   | 4 | 5 | 6 |   | 1 | 2 | 3 |\n",
    "     +---+---+---+   +---+---+---+   +---+---+---+   +---+---+---+\n",
    "     | 4 | 8 | 6 |   | 4 | 8 | 6 |   | 1 | 0 | 3 |   | H | 5 | 6 |\n",
    "     +---+---+---+   +---+---+---+   +---+---+---+   +---+---+---+\n",
    "     | 7 | H | 5 |   | 7 | 2 | 5 |   | 7 | 8 | 2 |   | 4 | 7 | 8 |\n",
    "     +---+---+---+   +---+---+---+   +---+---+---+   +---+---+---+\n",
    "   \n",
    " Se pide, en cada caso, obtener detalles del tiempo y espacio necesario para la resolución de estos estados.\n",
    " Hacerlo con la función resuelve_ocho_puzzle, para\n",
    " obtener, además de la solución, la longitud (el coste) de la solución\n",
    " obtenida y el número de nodos analizados. Anotar los resultados en la\n",
    " siguiente tabla (L, longitud de la solución, NA, nodos analizados, T, tiempo, y\n",
    " **justificar los resultados con las distintas propiedades teóricas estudiadas en clase**.  \n",
    " \n",
    " \n",
    "\n",
    "-----------------------------------------------------------------------------------------\n",
    "                                       E1           E2           E3         E4\n",
    "    Anchura                            L=17         L=11         L=20        L=3\n",
    "                                       T=26s        T=51,8ms     T=2min 45s  T=2,68ms  \n",
    "                                       NA=12936     NA=853       NA=52489    NA=19 \n",
    "   \n",
    "    Profundidad                        L=60357      L=57847      L=60022     L=3  \n",
    "                                       T=N/R        T=N/R        T=N/R       T=534 µs \n",
    "                                       NA=73823     NA=68752     NA=73091    NA=4 \n",
    "                                       \n",
    "    Coste Uniforme                     L=17         L=11         L=20        L=3\n",
    "                                       T=1min 5s    T=205ms      T=N/R       T=2,78ms  \n",
    "                                       NA=14093     NA=871       NA=48428    NA=14 \n",
    "                                       \n",
    "    Primero el mejor (linear)          L=39         L=33         L=76        L=3\n",
    "                                       T=10,8ms     T=3.48ms     T=250ms     T=4,1ms  \n",
    "                                       NA=174       NA=79        NA=749      NA=5\n",
    "                                                                            \n",
    "    Primero el mejor (manhattan)       L= 67        L=15         L=74        L= 3\n",
    "                                       T=113 ms     T=1.17 ms    T=109 ms    T= 465 µs \n",
    "                                       NA= 652      NA=27        NA=592      NA=15\n",
    "                                                                             \n",
    "    A* (linear)                        L=17         L=11         L=20        L=3 \n",
    "                                       T=205ms      T=4,32ms     T=7,67s     T=3,23  \n",
    "                                       NA=874       NA=78        NA=3378     NA=5\n",
    "                                                                             \n",
    "    A* (manhattan)                     L=17         L=11         L=20        L=3 \n",
    "                                       T=63,5ms     T= 1.72 ms   T=306 ms    T=492 µs  \n",
    "                                       NA=362       NA=40        NA= 1154    NA=5\n",
    "                                      \n",
    "                                      \n",
    "                                          \n",
    "     A* (h3)                           L=17         L=11          L=20        L=3 \n",
    "                                       T=82.7 ms    T= 2.1 ms     T=487 ms    T=925 µs  \n",
    "                                       NA=332       NA=19         NA= 861     NA=5\n",
    "\n",
    " -----------------------------------------------------------------------------------------\n",
    "\n",
    "Observaciones:\n",
    "\n",
    "Notación: N/R (no razonable)\n",
    "\n",
    "Como ya discutimos en el ejercicio 3, la búsqueda en profundidad es el algorimo menos eficiente a la hora de resolver el 8-puzle. Aquí vemos que ni es eficiente (siendo la que más tarda con diferencia en los 4 casos y en algunos casos no llega a acabar) ni es óptima (la solución proporcionada en E1 no es para nada óptima).\n",
    "\n",
    "\n",
    "Algo parecido (aunque no a tan gran escala y en este caso sí que es óptimo) podemos observar con la búsqueda por coste uniforme. En este caso solo una instancia no ha podido ser completada en tiempo razonable (E3) pero en todos los casos siemmpre es éste el algoritmo que más tiempo ha invertido (sin contar profundidad)\n",
    "\n",
    "\n",
    "En cuanto a optimalidad, vemos que los algoritmos de búsqueda ciega comprobados (búsqueda en anchura y coste uniforme)  son óptimas aunque exploran una cantidad de nodos mucho mayor que el resto de algoritmos. Además, por ser las heurísticas admisibles y consistentes, A* encuentra la solución óptima, en un tiempo mucho menor que anchura o coste uniforme. Mientras tanto, los algoritmos voraces con heurísticas (el mejor primero) son los mejores en cuanto a tiempo de ejecución pero solo han conseguido encontrar la solución óptima en 1 de los 4 casos (E4) aunque hay que destacar que primero el mejor con linear encuentra una solución explorando tan solo 173 nodos en E1.\n",
    "\n",
    "Como no existen caminos de coste infinito, y los costes son positivos (1 cada acción),la búsqueda uniforme es completa y óptima(por ejemplo, encuentra el camino de longitud 17 en el problema E1).\n",
    "\n"
   ]
  },
  {
   "cell_type": "markdown",
   "metadata": {},
   "source": [
    "\n",
    "### Ejercicio 6:  En el ejercicio anterior hemos hecho pruebas con distintos estados iniciales. Explica cómo afecta a la resolución del problema si lo que cambiamos es el estado objetivo.\n",
    "####  En vez de  goal=(1, 2, 3, 4, 5, 6, 7, 8, 0) queremos usar goal2=(1, 2, 3, 4, 0, 5, 6, 7, 8)\n",
    "####  No es necesario repetir los experimentos pero sí justificar convenientemente la respuesta dada.\n",
    "\n",
    "\n",
    "\n",
    "\n",
    "Si cambiamos el estado objetivo, lo primero que habría que hacer es modificar las heurísticas, pues las actuales solo funcionan para el estado final  goal=(1, 2, 3, 4, 5, 6, 7, 8, 0) \n",
    "\n",
    "Dado que en ningún caso cambia el número de inversiones (para las inversiones no se tiene en cuenta el hueco), la única diferencia será en el tiempo de ejecución. Ninguna solución previamente imposible será posible y viceversa.\n",
    "\n",
    " Como las acciones del 8-puzzle tienen inversa, resolver el puzzle hacia delante es equivalente a resolverlo hacia atrás(empezando por goal o goal2). \n",
    "\n",
    "El primer problema que puede surgir al cambiar de estado objetivo es que pase a no ser alcanzable. Sin embargo, en la siguiente celda se comprueba que goal es alcanzable desde goal2, así que todas las búsquedas completas que tengan solución con goal también tienen solución con goal2. Además, como profundidad, coste uniforme y a* son óptimas, encontrarán solucion eficiente en este nuevo problema, a* en menor tiempo. De profundidad y primero el mejor no podemos asegurar nada.\n",
    "\n"
   ]
  },
  {
   "cell_type": "code",
   "execution_count": null,
   "metadata": {},
   "outputs": [],
   "source": [
    "state = (1, 2, 3, 4, 0, 5, 6, 7, 8)\n",
    "resuelve_ocho_puzzle(state,astar_search,manhattan)"
   ]
  },
  {
   "cell_type": "markdown",
   "metadata": {},
   "source": [
    "### Ejercicio 7: (opcional) Definir nuevas heurísticas (más informadas) y completa una nueva fila de la tabla anterior para ver cómo afecta al número de nodos generados por los algoritmos"
   ]
  },
  {
   "cell_type": "code",
   "execution_count": null,
   "metadata": {},
   "outputs": [],
   "source": [
    "# h cuantifica todas las inversiones, es decir, los pares de elementos(sin contar el 0) del estado actual tal que\n",
    "# su orden está invertido con respecto a la solucion final goal=(1, 2, 3, 4, 5, 6, 7, 8, 0) \n",
    "# por ejemplo h((1, 2, 3, 4, 5, 6, 7, 0, 8)) = 1 porque el orden del 8 y del 0 estan cambiados\n",
    "# esta nueva heuristica no es admisible, pues h((1, 2, 3, 4, 5, 0, 7, 8, 6)) > 1 = coste. Esto hace que la solución\n",
    "# encontrada pueda no ser óptima. En los casos de ejemplo, encuentra la óptima\n",
    "def h(nodo):\n",
    "    state = nodo.state\n",
    "    count = 0\n",
    "    for i in state:\n",
    "        for j in state[(state.index(i)+1):]:\n",
    "            if j > 0:\n",
    "                if j < i :\n",
    "                    count += 1\n",
    "    return count"
   ]
  },
  {
   "cell_type": "code",
   "execution_count": null,
   "metadata": {},
   "outputs": [],
   "source": [
    "# como h no es más informada que manhattan, hacemos el máximo para que h3 sea más informada\n",
    "def h3(nodo):\n",
    "    return max(h(nodo),manhattan(nodo))"
   ]
  },
  {
   "cell_type": "markdown",
   "metadata": {},
   "source": [
    "    A* (h3)                     L=17         L=11          L=20        L=3 \n",
    "                                T=82.7 ms    T= 2.1 ms    T=487 ms    T=925 µs  \n",
    "                                NA=332       NA=19         NA= 861     NA=5\n",
    "                                \n",
    "#### Por tanto, h3 recorre menos nodos, aunque los tiempos den mayores(puede ser por el cálculo extra que supone calcular h en cada nodo)"
   ]
  },
  {
   "cell_type": "code",
   "execution_count": null,
   "metadata": {},
   "outputs": [],
   "source": [
    "%%timeit\n",
    "resuelve_ocho_puzzle(E2,astar_search,h3)"
   ]
  },
  {
   "cell_type": "code",
   "execution_count": null,
   "metadata": {},
   "outputs": [],
   "source": [
    "%%timeit\n",
    "resuelve_ocho_puzzle(E3,astar_search,manhattan)"
   ]
  },
  {
   "cell_type": "markdown",
   "metadata": {},
   "source": [
    "### Ejercicio 8. Puzle de 15.\n",
    "En 1878, Sam Loyd daba un premio de 1.000 dolares a quien fuera capaz de resolver su famoso 15 Puzzle (n=16). Se trataba de un puzzle deslizante de 16 piezas que *no tenía solución* debido que se necesitaba un número impar de movimientos y, como hemos visto, sólo un número de movimientos par tiene solución. Muchas personas trataron de resolverlo. \n",
    "El número de posibles estados iniciales es n!, siendo n el número de fichas (números y hueco). Por tanto, en el puzle 4x4 (16 fichas), tendremos más de 130.000 millones de posibles estados iniciales. Sin embargo, sólo la mitad de esas combinaciones tiene solución. \n",
    "En el caso del siguiente estado inicial que sí tiene solución:  (1,2,3,4,5,6,7,8,9,10,12,15,13,14,11,0) indica los nodos generados por A* con alguna de las heurísticas y comparalo con el puzle de 8.\n"
   ]
  },
  {
   "cell_type": "markdown",
   "metadata": {},
   "source": []
  },
  {
   "cell_type": "code",
   "execution_count": null,
   "metadata": {},
   "outputs": [],
   "source": [
    "class Quince_Puzzle(Problem):\n",
    "\n",
    "    def __init__(self, initial, goal=(1, 2, 3, 4, 5, 6, 7, 8, 9, 10, 11, 12, 13, 14, 15, 0)):\n",
    "        \"\"\" Define goal state and initialize a problem \"\"\"\n",
    "        self.goal = goal\n",
    "        Problem.__init__(self, initial, goal)\n",
    "    \n",
    "    def actions(self,estado):\n",
    "        pos_hueco=estado.index(0) # busco la posicion del 0\n",
    "        accs=list()\n",
    "        if pos_hueco not in (0,1,2,3):\n",
    "            accs.append(\"Mover hueco arriba\")\n",
    "        if pos_hueco not in (3,7,11,15):\n",
    "            accs.append(\"Mover hueco derecha\")\n",
    "        if pos_hueco not in (12,13,14,15):\n",
    "            accs.append(\"Mover hueco abajo\")\n",
    "        if pos_hueco not in (0,4,8,12):\n",
    "            accs.append(\"Mover hueco izquierda\")\n",
    "        \n",
    "        ### EJERCICIO 1.1. COMPLETA LA DEFINICIÓN DE LOS OPERADORES. \n",
    "        \n",
    "        \n",
    "        return accs     \n",
    "\n",
    "    def result(self,estado,accion):\n",
    "        pos_hueco = estado.index(0)\n",
    "        l = list(estado)\n",
    "        if accion == \"Mover hueco arriba\":\n",
    "            l[pos_hueco] = l[pos_hueco-4]\n",
    "            l[pos_hueco-4] = 0\n",
    "        elif accion == \"Mover hueco abajo\":\n",
    "            l[pos_hueco] = l[pos_hueco+4]\n",
    "            l[pos_hueco+4] = 0\n",
    "        elif accion == \"Mover hueco derecha\":\n",
    "            l[pos_hueco] = l[pos_hueco+1]\n",
    "            l[pos_hueco+1] = 0\n",
    "        else:\n",
    "            l[pos_hueco] = l[pos_hueco-1]\n",
    "            l[pos_hueco-1] = 0\n",
    "\n",
    "        \n",
    "       ### EJERCICIO 1.2. COMPLETA LA DEFINICIÓN DE LOS OPERADORES. \n",
    "        \n",
    "        \n",
    "        return tuple(l)\n",
    "    \n",
    "    ## Obtiene la fila donde está el elemento pedido (usado para ver si se puede resolver o no)\n",
    "    def row(self,index):\n",
    "        return int(index/4)\n",
    "\n",
    "\n",
    "    ## Un estado inicial del puzle del 15 se puede resolver si se da 1 de las 2 siguientes condiciones:\n",
    "    # 1. El número de inversiones es impar y el hueco está situado (en el estado inicial) en una fila par contando desde abajo\n",
    "    # 2. El número de inversiones es par y el hueco está situado (en el estado inicial) en una fila impar contando desde abajo\n",
    "\n",
    "    def check_solvability_15(self, state):\n",
    "\n",
    "        inversion = 0\n",
    "        for i in range(len(state)):\n",
    "            for j in range(i+1, len(state)):\n",
    "                if (state[i] > state[j]) and state[i] != 0 and state[j]!= 0:\n",
    "                    inversion += 1\n",
    "        \n",
    "        return (inversion % 2 == 0 and self.row(state.index(0)) % 2 != 0) or (inversion % 2 != 0 and self.row(state.index(0) % 2 == 0))      \n",
    "    \n",
    "    def h(self, node):\n",
    "        \"\"\" Return the heuristic value for a given state. \"\"\"\n",
    "        return 1"
   ]
  },
  {
   "cell_type": "code",
   "execution_count": null,
   "metadata": {},
   "outputs": [],
   "source": [
    "def resuelve_quince_puzzle(estado_inicial, algoritmo, h=None):\n",
    "\n",
    "    p15 = Quince_Puzzle(estado_inicial)\n",
    "    p15p=Problema_con_Analizados(p15)\n",
    "    if p15.check_solvability_15(estado_inicial):\n",
    "        if h: \n",
    "            sol= algoritmo(p15p,h).solution()\n",
    "        else: \n",
    "            sol= algoritmo(p15p).solution()\n",
    "        print(\"Solución: {0}\".format(sol))\n",
    "        print(\"Algoritmo: {0}\".format(algoritmo.__name__))\n",
    "        if h: \n",
    "            print(\"Heurística: {0}\".format(h.__name__))\n",
    "        else:\n",
    "            pass\n",
    "        print(\"Longitud de la solución: {0}. Nodos analizados: {1}\".format(len(sol),p15p.analizados))\n",
    "    else: \n",
    "        print(\"Este problema no tiene solucion. \")\n"
   ]
  },
  {
   "cell_type": "code",
   "execution_count": null,
   "metadata": {},
   "outputs": [],
   "source": [
    "def linear_15(node):\n",
    "    goal=(1, 2, 3, 4, 5, 6, 7, 8, 9, 10, 11, 12, 13, 14, 15, 0)\n",
    "    return len([1 for i,j in zip(goal,node.state) if i!=j])"
   ]
  },
  {
   "cell_type": "code",
   "execution_count": null,
   "metadata": {},
   "outputs": [],
   "source": [
    "puzle_15 = Quince_Puzzle((1,2,3,4,5,6,7,8,9,10,12,15,13,14,11,0))\n",
    "resuelve_quince_puzzle(puzle_15.initial,astar_search,linear_15)"
   ]
  },
  {
   "cell_type": "markdown",
   "metadata": {},
   "source": [
    "Solución: ['Mover hueco arriba', 'Mover hueco izquierda', 'Mover hueco abajo', 'Mover hueco derecha']\n",
    "Algoritmo: astar_search\n",
    "Heurística: linear_15\n",
    "Longitud de la solución: 4. Nodos analizados: 5"
   ]
  },
  {
   "cell_type": "code",
   "execution_count": null,
   "metadata": {},
   "outputs": [],
   "source": [
    "resuelve_quince_puzzle(puzle_15.initial,breadth_first_search)"
   ]
  },
  {
   "cell_type": "code",
   "execution_count": null,
   "metadata": {},
   "outputs": [],
   "source": [
    "puzle_8 = Ocho_Puzzle((1,2,3,4,8,5,7,6,0))\n",
    "resuelve_ocho_puzzle(puzle_8.initial,astar_search,linear)\n"
   ]
  },
  {
   "cell_type": "markdown",
   "metadata": {},
   "source": [
    "Solución: ['Mover hueco izquierda', 'Mover hueco arriba', 'Mover hueco derecha', 'Mover hueco abajo']\n",
    "Algoritmo: astar_search\n",
    "Heurística: linear\n",
    "Longitud de la solución: 4. Nodos analizados: 6\n",
    "\n",
    "##### Vemos que para soluciones parecidas de corta longitud, los nodos analizados en ocho puzzle y en quince puzzle son parecidos. Sin embargo, en cuanto aumenta la complejidad, quince puzzle es más caro computacionalmente"
   ]
  },
  {
   "cell_type": "code",
   "execution_count": null,
   "metadata": {},
   "outputs": [],
   "source": []
  }
 ],
 "metadata": {
  "kernelspec": {
   "display_name": "Python 3",
   "language": "python",
   "name": "python3"
  },
  "language_info": {
   "codemirror_mode": {
    "name": "ipython",
    "version": 3
   },
   "file_extension": ".py",
   "mimetype": "text/x-python",
   "name": "python",
   "nbconvert_exporter": "python",
   "pygments_lexer": "ipython3",
   "version": "3.7.6"
  }
 },
 "nbformat": 4,
 "nbformat_minor": 2
}
